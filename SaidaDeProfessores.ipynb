{
 "cells": [
  {
   "cell_type": "markdown",
   "metadata": {},
   "source": [
    "<h1> <center> Será que um professor fica por 2 anos em uma escola? </center> </h1>\n",
    "\n",
    "\n",
    "\n",
    "<img src='https://media.giphy.com/media/xT5LMpjrnf2Ao4hBMk/giphy.gif'/>\n",
    "\n",
    "\n"
   ]
  },
  {
   "cell_type": "code",
   "execution_count": 1,
   "metadata": {},
   "outputs": [],
   "source": [
    "%matplotlib inline\n",
    "%load_ext autoreload\n",
    "%autoreload 2\n",
    "import pandas as pd\n",
    "import re\n",
    "import numpy as np\n",
    "from matplotlib import pyplot as plt\n",
    "import os\n",
    "from glob import glob\n",
    "from pathlib import Path\n",
    "import seaborn as sns\n",
    "from unicodedata import normalize\n",
    "from tqdm import tqdm\n",
    "from scipy import stats\n",
    "from sklearn import metrics\n",
    "from tqdm import tqdm"
   ]
  },
  {
   "cell_type": "code",
   "execution_count": 2,
   "metadata": {},
   "outputs": [],
   "source": [
    "#Arquivos criados para deixar o codigo do notebook mais clean.\n",
    "from files_util import *\n",
    "from df_inep_utils import *\n",
    "from SetorCensitario import *\n",
    "from modelagem import *"
   ]
  },
  {
   "cell_type": "code",
   "execution_count": null,
   "metadata": {},
   "outputs": [],
   "source": [
    "#alguns numeros ficam muito grandes.\n",
    "pd.options.display.float_format = '{:.2f}'.format"
   ]
  },
  {
   "cell_type": "markdown",
   "metadata": {},
   "source": [
    "## <center> Vamos começar a jornada</center>\n",
    "<img src='https://media.giphy.com/media/fdHg7T902uzLy/giphy.gif'/>"
   ]
  },
  {
   "cell_type": "markdown",
   "metadata": {},
   "source": [
    "## 01. Obtencao dos dados brutos"
   ]
  },
  {
   "cell_type": "code",
   "execution_count": 37,
   "metadata": {
    "code_folding": [],
    "scrolled": true
   },
   "outputs": [
    {
     "name": "stdout",
     "output_type": "stream",
     "text": [
      "patool: Extracting /home/itsbarreto/csv/educacao/micro_censo_escolar_2013.zip ...\n",
      "patool: ... /home/itsbarreto/csv/educacao/micro_censo_escolar_2013.zip extracted to `/home/itsbarreto/csv/educacao/TMP/'.\n",
      "patool: Extracting /home/itsbarreto/csv/educacao/TMP/2013/DADOS/TURMAS.rar ...\n",
      "patool: running /usr/bin/unrar x -- /home/itsbarreto/csv/educacao/TMP/2013/DADOS/TURMAS.rar\n",
      "patool:     with cwd='/home/itsbarreto/csv/educacao/dsc/2013'\n",
      "patool: ... /home/itsbarreto/csv/educacao/TMP/2013/DADOS/TURMAS.rar extracted to `/home/itsbarreto/csv/educacao/dsc/2013'.\n",
      "patool: Extracting /home/itsbarreto/csv/educacao/TMP/2013/DADOS/MATRICULA_CO.rar ...\n",
      "patool: running /usr/bin/unrar x -- /home/itsbarreto/csv/educacao/TMP/2013/DADOS/MATRICULA_CO.rar\n",
      "patool:     with cwd='/home/itsbarreto/csv/educacao/dsc/2013'\n",
      "patool: ... /home/itsbarreto/csv/educacao/TMP/2013/DADOS/MATRICULA_CO.rar extracted to `/home/itsbarreto/csv/educacao/dsc/2013'.\n",
      "patool: Extracting /home/itsbarreto/csv/educacao/TMP/2013/DADOS/ESCOLAS.rar ...\n",
      "patool: running /usr/bin/unrar x -- /home/itsbarreto/csv/educacao/TMP/2013/DADOS/ESCOLAS.rar\n",
      "patool:     with cwd='/home/itsbarreto/csv/educacao/dsc/2013'\n",
      "patool: ... /home/itsbarreto/csv/educacao/TMP/2013/DADOS/ESCOLAS.rar extracted to `/home/itsbarreto/csv/educacao/dsc/2013'.\n",
      "patool: Extracting /home/itsbarreto/csv/educacao/TMP/2013/DADOS/DOCENTES_CO.rar ...\n",
      "patool: running /usr/bin/unrar x -- /home/itsbarreto/csv/educacao/TMP/2013/DADOS/DOCENTES_CO.rar\n",
      "patool:     with cwd='/home/itsbarreto/csv/educacao/dsc/2013'\n",
      "patool: ... /home/itsbarreto/csv/educacao/TMP/2013/DADOS/DOCENTES_CO.rar extracted to `/home/itsbarreto/csv/educacao/dsc/2013'.\n",
      "patool: Extracting /home/itsbarreto/csv/educacao/micro_censo_escolar_2015.zip ...\n",
      "patool: ... /home/itsbarreto/csv/educacao/micro_censo_escolar_2015.zip extracted to `/home/itsbarreto/csv/educacao/TMP/'.\n",
      "patool: Extracting /home/itsbarreto/csv/educacao/TMP/2015/DADOS/TURMAS.rar ...\n",
      "patool: running /usr/bin/unrar x -- /home/itsbarreto/csv/educacao/TMP/2015/DADOS/TURMAS.rar\n",
      "patool:     with cwd='/home/itsbarreto/csv/educacao/dsc/2015'\n",
      "patool: ... /home/itsbarreto/csv/educacao/TMP/2015/DADOS/TURMAS.rar extracted to `/home/itsbarreto/csv/educacao/dsc/2015'.\n",
      "patool: Extracting /home/itsbarreto/csv/educacao/TMP/2015/DADOS/MATRICULA_CO.rar ...\n",
      "patool: running /usr/bin/unrar x -- /home/itsbarreto/csv/educacao/TMP/2015/DADOS/MATRICULA_CO.rar\n",
      "patool:     with cwd='/home/itsbarreto/csv/educacao/dsc/2015'\n",
      "patool: ... /home/itsbarreto/csv/educacao/TMP/2015/DADOS/MATRICULA_CO.rar extracted to `/home/itsbarreto/csv/educacao/dsc/2015'.\n",
      "patool: Extracting /home/itsbarreto/csv/educacao/TMP/2015/DADOS/ESCOLAS.rar ...\n",
      "patool: running /usr/bin/unrar x -- /home/itsbarreto/csv/educacao/TMP/2015/DADOS/ESCOLAS.rar\n",
      "patool:     with cwd='/home/itsbarreto/csv/educacao/dsc/2015'\n",
      "patool: ... /home/itsbarreto/csv/educacao/TMP/2015/DADOS/ESCOLAS.rar extracted to `/home/itsbarreto/csv/educacao/dsc/2015'.\n",
      "patool: Extracting /home/itsbarreto/csv/educacao/TMP/2015/DADOS/DOCENTES_CO.rar ...\n",
      "patool: running /usr/bin/unrar x -- /home/itsbarreto/csv/educacao/TMP/2015/DADOS/DOCENTES_CO.rar\n",
      "patool:     with cwd='/home/itsbarreto/csv/educacao/dsc/2015'\n",
      "patool: ... /home/itsbarreto/csv/educacao/TMP/2015/DADOS/DOCENTES_CO.rar extracted to `/home/itsbarreto/csv/educacao/dsc/2015'.\n",
      "patool: Extracting /home/itsbarreto/csv/educacao/micro_censo_escolar_2017.zip ...\n",
      "patool: ... /home/itsbarreto/csv/educacao/micro_censo_escolar_2017.zip extracted to `/home/itsbarreto/csv/educacao/TMP/'.\n",
      "patool: Extracting /home/itsbarreto/csv/educacao/TMP/Microdados_Censo_Escolar_2017/DADOS/TURMAS.zip ...\n",
      "patool: ... /home/itsbarreto/csv/educacao/TMP/Microdados_Censo_Escolar_2017/DADOS/TURMAS.zip extracted to `/home/itsbarreto/csv/educacao/dsc/2017'.\n",
      "patool: Extracting /home/itsbarreto/csv/educacao/TMP/Microdados_Censo_Escolar_2017/DADOS/DOCENTES_CO.zip ...\n",
      "patool: ... /home/itsbarreto/csv/educacao/TMP/Microdados_Censo_Escolar_2017/DADOS/DOCENTES_CO.zip extracted to `/home/itsbarreto/csv/educacao/dsc/2017'.\n",
      "patool: Extracting /home/itsbarreto/csv/educacao/TMP/Microdados_Censo_Escolar_2017/DADOS/ESCOLAS.zip ...\n",
      "patool: ... /home/itsbarreto/csv/educacao/TMP/Microdados_Censo_Escolar_2017/DADOS/ESCOLAS.zip extracted to `/home/itsbarreto/csv/educacao/dsc/2017'.\n",
      "patool: Extracting /home/itsbarreto/csv/educacao/TMP/Microdados_Censo_Escolar_2017/DADOS/MATRICULA_CO.zip ...\n",
      "patool: ... /home/itsbarreto/csv/educacao/TMP/Microdados_Censo_Escolar_2017/DADOS/MATRICULA_CO.zip extracted to `/home/itsbarreto/csv/educacao/dsc/2017'.\n",
      "patool: Extracting /home/itsbarreto/csv/educacao/micro_censo_escolar_2014.zip ...\n",
      "patool: ... /home/itsbarreto/csv/educacao/micro_censo_escolar_2014.zip extracted to `/home/itsbarreto/csv/educacao/TMP/'.\n",
      "patool: Extracting /home/itsbarreto/csv/educacao/TMP/2014/DADOS/TURMAS.rar ...\n",
      "patool: running /usr/bin/unrar x -- /home/itsbarreto/csv/educacao/TMP/2014/DADOS/TURMAS.rar\n",
      "patool:     with cwd='/home/itsbarreto/csv/educacao/dsc/2014'\n",
      "patool: ... /home/itsbarreto/csv/educacao/TMP/2014/DADOS/TURMAS.rar extracted to `/home/itsbarreto/csv/educacao/dsc/2014'.\n",
      "patool: Extracting /home/itsbarreto/csv/educacao/TMP/2014/DADOS/MATRICULA_CO.rar ...\n",
      "patool: running /usr/bin/unrar x -- /home/itsbarreto/csv/educacao/TMP/2014/DADOS/MATRICULA_CO.rar\n",
      "patool:     with cwd='/home/itsbarreto/csv/educacao/dsc/2014'\n",
      "patool: ... /home/itsbarreto/csv/educacao/TMP/2014/DADOS/MATRICULA_CO.rar extracted to `/home/itsbarreto/csv/educacao/dsc/2014'.\n",
      "patool: Extracting /home/itsbarreto/csv/educacao/TMP/2014/DADOS/ESCOLAS.rar ...\n",
      "patool: running /usr/bin/unrar x -- /home/itsbarreto/csv/educacao/TMP/2014/DADOS/ESCOLAS.rar\n",
      "patool:     with cwd='/home/itsbarreto/csv/educacao/dsc/2014'\n",
      "patool: ... /home/itsbarreto/csv/educacao/TMP/2014/DADOS/ESCOLAS.rar extracted to `/home/itsbarreto/csv/educacao/dsc/2014'.\n",
      "patool: Extracting /home/itsbarreto/csv/educacao/TMP/2014/DADOS/DOCENTES_CO.rar ...\n",
      "patool: running /usr/bin/unrar x -- /home/itsbarreto/csv/educacao/TMP/2014/DADOS/DOCENTES_CO.rar\n",
      "patool:     with cwd='/home/itsbarreto/csv/educacao/dsc/2014'\n",
      "patool: ... /home/itsbarreto/csv/educacao/TMP/2014/DADOS/DOCENTES_CO.rar extracted to `/home/itsbarreto/csv/educacao/dsc/2014'.\n",
      "patool: Extracting /home/itsbarreto/csv/educacao/micro_censo_escolar_2011.zip ...\n",
      "patool: ... /home/itsbarreto/csv/educacao/micro_censo_escolar_2011.zip extracted to `/home/itsbarreto/csv/educacao/TMP/'.\n",
      "patool: Extracting /home/itsbarreto/csv/educacao/TMP/2011/DADOS/TURMAS.rar ...\n",
      "patool: running /usr/bin/unrar x -- /home/itsbarreto/csv/educacao/TMP/2011/DADOS/TURMAS.rar\n",
      "patool:     with cwd='/home/itsbarreto/csv/educacao/dsc/2011'\n",
      "patool: ... /home/itsbarreto/csv/educacao/TMP/2011/DADOS/TURMAS.rar extracted to `/home/itsbarreto/csv/educacao/dsc/2011'.\n",
      "patool: Extracting /home/itsbarreto/csv/educacao/TMP/2011/DADOS/MATRICULA_CO.rar ...\n",
      "patool: running /usr/bin/unrar x -- /home/itsbarreto/csv/educacao/TMP/2011/DADOS/MATRICULA_CO.rar\n",
      "patool:     with cwd='/home/itsbarreto/csv/educacao/dsc/2011'\n",
      "patool: ... /home/itsbarreto/csv/educacao/TMP/2011/DADOS/MATRICULA_CO.rar extracted to `/home/itsbarreto/csv/educacao/dsc/2011'.\n",
      "patool: Extracting /home/itsbarreto/csv/educacao/TMP/2011/DADOS/ESCOLAS.rar ...\n",
      "patool: running /usr/bin/unrar x -- /home/itsbarreto/csv/educacao/TMP/2011/DADOS/ESCOLAS.rar\n",
      "patool:     with cwd='/home/itsbarreto/csv/educacao/dsc/2011'\n",
      "patool: ... /home/itsbarreto/csv/educacao/TMP/2011/DADOS/ESCOLAS.rar extracted to `/home/itsbarreto/csv/educacao/dsc/2011'.\n",
      "patool: Extracting /home/itsbarreto/csv/educacao/TMP/2011/DADOS/DOCENTES_CO.rar ...\n",
      "patool: running /usr/bin/unrar x -- /home/itsbarreto/csv/educacao/TMP/2011/DADOS/DOCENTES_CO.rar\n",
      "patool:     with cwd='/home/itsbarreto/csv/educacao/dsc/2011'\n",
      "patool: ... /home/itsbarreto/csv/educacao/TMP/2011/DADOS/DOCENTES_CO.rar extracted to `/home/itsbarreto/csv/educacao/dsc/2011'.\n"
     ]
    }
   ],
   "source": [
    "#extraindo arquivos baixados\n",
    "#funcoes de file_utils\n",
    "shutil.rmtree(ARQ_PATH,ignore_errors=True)\n",
    "os.mkdir(ARQ_PATH)\n",
    "list(map(extrai_arq,glob(f'{CSV_PATH}*.zip')));"
   ]
  },
  {
   "cell_type": "markdown",
   "metadata": {},
   "source": [
    "## 02. Vamos ver os dados demográficos dos docentes da rede pública?"
   ]
  },
  {
   "cell_type": "markdown",
   "metadata": {},
   "source": [
    "### Vamos comecar com o Centro Oeste que  é o menor arquivo"
   ]
  },
  {
   "cell_type": "code",
   "execution_count": 16,
   "metadata": {
    "scrolled": true
   },
   "outputs": [
    {
     "name": "stdout",
     "output_type": "stream",
     "text": [
      "NU_ANO_CENSO: int16\n",
      "CO_PESSOA_FISICA: int64\n",
      "NU_DIA: int8\n",
      "NU_MES: int8\n",
      "NU_ANO: int16\n",
      "NU_IDADE_REFERENCIA: int8\n",
      "NU_IDADE: int8\n",
      "TP_SEXO: int8\n",
      "TP_COR_RACA: int8\n",
      "TP_NACIONALIDADE: int8\n",
      "CO_PAIS_ORIGEM: int16\n",
      "CO_UF_NASC: float16\n",
      "CO_MUNICIPIO_NASC: float32\n",
      "CO_UF_END: float16\n",
      "CO_MUNICIPIO_END: float32\n",
      "TP_ZONA_RESIDENCIAL: float16\n",
      "NU_ANO_CENSO: int16\n",
      "CO_PESSOA_FISICA: int64\n",
      "NU_DIA: int8\n",
      "NU_MES: int8\n",
      "NU_ANO: int16\n",
      "NU_IDADE_REFERENCIA: int8\n",
      "NU_IDADE: int8\n",
      "TP_SEXO: int8\n",
      "TP_COR_RACA: int8\n",
      "TP_NACIONALIDADE: int8\n",
      "CO_PAIS_ORIGEM: int16\n",
      "CO_UF_NASC: float16\n",
      "CO_MUNICIPIO_NASC: float32\n",
      "CO_UF_END: float16\n",
      "CO_MUNICIPIO_END: float32\n",
      "TP_ZONA_RESIDENCIAL: float16\n"
     ]
    },
    {
     "data": {
      "text/plain": [
       "(915093, 135)"
      ]
     },
     "metadata": {},
     "output_type": "display_data"
    },
    {
     "data": {
      "text/plain": [
       "(905327, 132)"
      ]
     },
     "metadata": {},
     "output_type": "display_data"
    },
    {
     "name": "stdout",
     "output_type": "stream",
     "text": [
      "O Centro Oeste possuia em 2015 164988 professores.\n",
      "O Centro Oeste possuia em 2017 167113 professores.\n"
     ]
    }
   ],
   "source": [
    "\n",
    "def analisa_inicio(dfa):\n",
    "    re_id_hist = re.compile('(^CO_[A-Z]).+(\\D$)')\n",
    "    cols_hist = [c for c in dfa.columns if re_id_hist.match(c) or c.startswith('NU') or c.startswith('IN') or c in ['TP_NACIONALIDADE','TP_COR_RACA']]\n",
    "    for c  in cols_hist:\n",
    "        display(c)\n",
    "        s = dfa[c]\n",
    "        if s.nunique() > 10:\n",
    "            display(s.describe())\n",
    "        else:\n",
    "            display(s.value_counts())\n",
    "        s.hist()\n",
    "        plt.show();\n",
    "    display(dfa['TP_SEXO'].value_counts())\n",
    "    dfa['TP_SEXO'].value_counts().plot.bar();\n",
    "    plt.show()\n",
    "\n",
    "df17 = monta_df_docente(f'{ARQ_PATH}/2017/DOCENTES_CO.CSV')\n",
    "df15 = monta_df_docente(f'{ARQ_PATH}/2015/DOCENTES_CO.CSV')\n",
    "display(df15.shape)\n",
    "display(df17.shape)\n",
    "#dfa17 = monta_df_professores(df17.loc[df17.TP_TIPO_DOCENTE == 1])\n",
    "print(f'O Centro Oeste possuia em 2015 {df15.loc[df15.TP_TIPO_DOCENTE == 1].CO_PESSOA_FISICA.nunique()} professores.')\n",
    "print(f'O Centro Oeste possuia em 2017 {df17.loc[df17.TP_TIPO_DOCENTE == 1].CO_PESSOA_FISICA.nunique()} professores.')\n",
    "#analisa_inicio(dfa17)\n"
   ]
  },
  {
   "attachments": {},
   "cell_type": "markdown",
   "metadata": {},
   "source": [
    "<table columns=2 style='width:100%'><tr><td>\n",
    "<img src='img/profa.jpg'/></td><td> <h2>Professores.</h2></td></tr></table>"
   ]
  },
  {
   "cell_type": "code",
   "execution_count": 79,
   "metadata": {},
   "outputs": [],
   "source": [
    "cols_prof = ['CO_PESSOA_FISICA','NU_IDADE_REFERENCIA','TP_SEXO',\n",
    "             'TP_COR_RACA','CO_UF_NASC',\n",
    "'CO_UF_END',\n",
    "'TP_ZONA_RESIDENCIAL','IN_POSSUI_NEC_ESPECIAL',\n",
    "'IN_CEGUEIRA','IN_BAIXA_VISAO',\n",
    "'IN_SURDEZ','IN_DEF_AUDITIVA',\n",
    "'IN_SURDOCEGUEIRA','IN_DEF_FISICA',\n",
    "'IN_DEF_INTELECTUAL','IN_DEF_MULTIPLA',\n",
    "'TP_ESCOLARIDADE','TP_NORMAL_MAGISTERIO',\n",
    "'TP_SITUACAO_CURSO_1','CO_AREA_CURSO_1',\n",
    "'IN_LICENCIATURA_1','IN_COM_PEDAGOGICA_1','TP_TIPO_IES_1',\n",
    "'TP_SITUACAO_CURSO_2','CO_AREA_CURSO_2',\n",
    "'IN_LICENCIATURA_2',\n",
    "'IN_COM_PEDAGOGICA_2','TP_TIPO_IES_2',\n",
    "'TP_SITUACAO_CURSO_3','CO_AREA_CURSO_3','IN_LICENCIATURA_3',\n",
    "'IN_COM_PEDAGOGICA_3','TP_TIPO_IES_3',\n",
    "'IN_ESPECIALIZACAO','IN_MESTRADO',\n",
    "'IN_DOUTORADO','IN_POS_NENHUM'\n",
    "]\n",
    "prof_pbc_df15 = df15.loc[(df15.CO_UF == 53) & (df15.TP_TIPO_CONTRATACAO == 1) & (df15.TP_TIPO_DOCENTE == 1) & (df15.TP_DEPENDENCIA == 2)][cols_prof].drop_duplicates()"
   ]
  },
  {
   "cell_type": "code",
   "execution_count": 80,
   "metadata": {},
   "outputs": [
    {
     "data": {
      "text/plain": [
       "(17092, 37)"
      ]
     },
     "metadata": {},
     "output_type": "display_data"
    },
    {
     "data": {
      "text/plain": [
       "17092"
      ]
     },
     "metadata": {},
     "output_type": "display_data"
    },
    {
     "data": {
      "text/html": [
       "<div>\n",
       "<style scoped>\n",
       "    .dataframe tbody tr th:only-of-type {\n",
       "        vertical-align: middle;\n",
       "    }\n",
       "\n",
       "    .dataframe tbody tr th {\n",
       "        vertical-align: top;\n",
       "    }\n",
       "\n",
       "    .dataframe thead th {\n",
       "        text-align: right;\n",
       "    }\n",
       "</style>\n",
       "<table border=\"1\" class=\"dataframe\">\n",
       "  <thead>\n",
       "    <tr style=\"text-align: right;\">\n",
       "      <th></th>\n",
       "      <th>CO_PESSOA_FISICA</th>\n",
       "      <th>NU_IDADE_REFERENCIA</th>\n",
       "      <th>TP_SEXO</th>\n",
       "      <th>TP_COR_RACA</th>\n",
       "      <th>CO_UF_NASC</th>\n",
       "      <th>CO_UF_END</th>\n",
       "      <th>TP_ZONA_RESIDENCIAL</th>\n",
       "      <th>IN_POSSUI_NEC_ESPECIAL</th>\n",
       "      <th>IN_CEGUEIRA</th>\n",
       "      <th>IN_BAIXA_VISAO</th>\n",
       "      <th>...</th>\n",
       "      <th>TP_TIPO_IES_2</th>\n",
       "      <th>TP_SITUACAO_CURSO_3</th>\n",
       "      <th>CO_AREA_CURSO_3</th>\n",
       "      <th>IN_LICENCIATURA_3</th>\n",
       "      <th>IN_COM_PEDAGOGICA_3</th>\n",
       "      <th>TP_TIPO_IES_3</th>\n",
       "      <th>IN_ESPECIALIZACAO</th>\n",
       "      <th>IN_MESTRADO</th>\n",
       "      <th>IN_DOUTORADO</th>\n",
       "      <th>IN_POS_NENHUM</th>\n",
       "    </tr>\n",
       "  </thead>\n",
       "  <tbody>\n",
       "    <tr>\n",
       "      <th>9</th>\n",
       "      <td>124187676391</td>\n",
       "      <td>34</td>\n",
       "      <td>1</td>\n",
       "      <td>3</td>\n",
       "      <td>31.00</td>\n",
       "      <td>31.00</td>\n",
       "      <td>1.00</td>\n",
       "      <td>0</td>\n",
       "      <td>-1.00</td>\n",
       "      <td>-1.00</td>\n",
       "      <td>...</td>\n",
       "      <td>-1.00</td>\n",
       "      <td>-1.00</td>\n",
       "      <td>-1.00</td>\n",
       "      <td>-1.00</td>\n",
       "      <td>-1.00</td>\n",
       "      <td>-1.00</td>\n",
       "      <td>0.00</td>\n",
       "      <td>0.00</td>\n",
       "      <td>0.00</td>\n",
       "      <td>1.00</td>\n",
       "    </tr>\n",
       "    <tr>\n",
       "      <th>29</th>\n",
       "      <td>115161698917</td>\n",
       "      <td>41</td>\n",
       "      <td>2</td>\n",
       "      <td>0</td>\n",
       "      <td>53.00</td>\n",
       "      <td>53.00</td>\n",
       "      <td>1.00</td>\n",
       "      <td>0</td>\n",
       "      <td>-1.00</td>\n",
       "      <td>-1.00</td>\n",
       "      <td>...</td>\n",
       "      <td>2.00</td>\n",
       "      <td>-1.00</td>\n",
       "      <td>-1.00</td>\n",
       "      <td>-1.00</td>\n",
       "      <td>-1.00</td>\n",
       "      <td>-1.00</td>\n",
       "      <td>0.00</td>\n",
       "      <td>0.00</td>\n",
       "      <td>0.00</td>\n",
       "      <td>1.00</td>\n",
       "    </tr>\n",
       "    <tr>\n",
       "      <th>34</th>\n",
       "      <td>115111511619</td>\n",
       "      <td>37</td>\n",
       "      <td>2</td>\n",
       "      <td>0</td>\n",
       "      <td>53.00</td>\n",
       "      <td>53.00</td>\n",
       "      <td>1.00</td>\n",
       "      <td>0</td>\n",
       "      <td>-1.00</td>\n",
       "      <td>-1.00</td>\n",
       "      <td>...</td>\n",
       "      <td>-1.00</td>\n",
       "      <td>-1.00</td>\n",
       "      <td>-1.00</td>\n",
       "      <td>-1.00</td>\n",
       "      <td>-1.00</td>\n",
       "      <td>-1.00</td>\n",
       "      <td>1.00</td>\n",
       "      <td>0.00</td>\n",
       "      <td>0.00</td>\n",
       "      <td>0.00</td>\n",
       "    </tr>\n",
       "    <tr>\n",
       "      <th>43</th>\n",
       "      <td>123820147097</td>\n",
       "      <td>28</td>\n",
       "      <td>2</td>\n",
       "      <td>3</td>\n",
       "      <td>31.00</td>\n",
       "      <td>31.00</td>\n",
       "      <td>1.00</td>\n",
       "      <td>0</td>\n",
       "      <td>-1.00</td>\n",
       "      <td>-1.00</td>\n",
       "      <td>...</td>\n",
       "      <td>-1.00</td>\n",
       "      <td>-1.00</td>\n",
       "      <td>-1.00</td>\n",
       "      <td>-1.00</td>\n",
       "      <td>-1.00</td>\n",
       "      <td>-1.00</td>\n",
       "      <td>0.00</td>\n",
       "      <td>0.00</td>\n",
       "      <td>0.00</td>\n",
       "      <td>1.00</td>\n",
       "    </tr>\n",
       "    <tr>\n",
       "      <th>44</th>\n",
       "      <td>122777682860</td>\n",
       "      <td>31</td>\n",
       "      <td>1</td>\n",
       "      <td>1</td>\n",
       "      <td>31.00</td>\n",
       "      <td>31.00</td>\n",
       "      <td>1.00</td>\n",
       "      <td>0</td>\n",
       "      <td>-1.00</td>\n",
       "      <td>-1.00</td>\n",
       "      <td>...</td>\n",
       "      <td>-1.00</td>\n",
       "      <td>-1.00</td>\n",
       "      <td>-1.00</td>\n",
       "      <td>-1.00</td>\n",
       "      <td>-1.00</td>\n",
       "      <td>-1.00</td>\n",
       "      <td>0.00</td>\n",
       "      <td>0.00</td>\n",
       "      <td>0.00</td>\n",
       "      <td>1.00</td>\n",
       "    </tr>\n",
       "  </tbody>\n",
       "</table>\n",
       "<p>5 rows × 37 columns</p>\n",
       "</div>"
      ],
      "text/plain": [
       "    CO_PESSOA_FISICA  NU_IDADE_REFERENCIA  TP_SEXO  TP_COR_RACA  CO_UF_NASC  \\\n",
       "9       124187676391                   34        1            3       31.00   \n",
       "29      115161698917                   41        2            0       53.00   \n",
       "34      115111511619                   37        2            0       53.00   \n",
       "43      123820147097                   28        2            3       31.00   \n",
       "44      122777682860                   31        1            1       31.00   \n",
       "\n",
       "    CO_UF_END  TP_ZONA_RESIDENCIAL  IN_POSSUI_NEC_ESPECIAL  IN_CEGUEIRA  \\\n",
       "9       31.00                 1.00                       0        -1.00   \n",
       "29      53.00                 1.00                       0        -1.00   \n",
       "34      53.00                 1.00                       0        -1.00   \n",
       "43      31.00                 1.00                       0        -1.00   \n",
       "44      31.00                 1.00                       0        -1.00   \n",
       "\n",
       "    IN_BAIXA_VISAO      ...        TP_TIPO_IES_2  TP_SITUACAO_CURSO_3  \\\n",
       "9            -1.00      ...                -1.00                -1.00   \n",
       "29           -1.00      ...                 2.00                -1.00   \n",
       "34           -1.00      ...                -1.00                -1.00   \n",
       "43           -1.00      ...                -1.00                -1.00   \n",
       "44           -1.00      ...                -1.00                -1.00   \n",
       "\n",
       "    CO_AREA_CURSO_3  IN_LICENCIATURA_3  IN_COM_PEDAGOGICA_3  TP_TIPO_IES_3  \\\n",
       "9             -1.00              -1.00                -1.00          -1.00   \n",
       "29            -1.00              -1.00                -1.00          -1.00   \n",
       "34            -1.00              -1.00                -1.00          -1.00   \n",
       "43            -1.00              -1.00                -1.00          -1.00   \n",
       "44            -1.00              -1.00                -1.00          -1.00   \n",
       "\n",
       "    IN_ESPECIALIZACAO  IN_MESTRADO  IN_DOUTORADO  IN_POS_NENHUM  \n",
       "9                0.00         0.00          0.00           1.00  \n",
       "29               0.00         0.00          0.00           1.00  \n",
       "34               1.00         0.00          0.00           0.00  \n",
       "43               0.00         0.00          0.00           1.00  \n",
       "44               0.00         0.00          0.00           1.00  \n",
       "\n",
       "[5 rows x 37 columns]"
      ]
     },
     "execution_count": 80,
     "metadata": {},
     "output_type": "execute_result"
    }
   ],
   "source": [
    "display(prof_pbc_df15.shape)\n",
    "display(prof_pbc_df15.CO_PESSOA_FISICA.nunique())\n",
    "#prof_pbc_df15.set_index('CO_PESSOA_FISICA',inplace=True)\n",
    "prof_pbc_df15.head()"
   ]
  },
  {
   "cell_type": "code",
   "execution_count": 82,
   "metadata": {
    "scrolled": true
   },
   "outputs": [
    {
     "name": "stdout",
     "output_type": "stream",
     "text": [
      "ANO_CENSO: int16\n",
      "FK_COD_DOCENTE: int64\n",
      "NU_DIA: int8\n",
      "NU_MES: int8\n",
      "NU_ANO: int16\n",
      "NUM_IDADE_REF_DOCENTE: int8\n",
      "NUM_IDADE: int8\n",
      "TP_SEXO: int8\n",
      "TP_COR_RACA: int8\n",
      "TP_NACIONALIDADE: int8\n",
      "FK_COD_PAIS_ORIGEM: int16\n",
      "FK_COD_ESTADO_DNASC: float16\n",
      "FK_COD_MUNICIPIO_DNASC: float32\n",
      "FK_COD_ESTADO_DEND: float16\n",
      "FK_COD_MUNICIPIO_DEND: float32\n",
      "ID_ZONA_RESIDENCIAL: int8\n",
      "ID_POSSUI_NEC_ESPECIAL: int8\n",
      "ID_CEGUEIRA: int8\n",
      "ID_BAIXA_VISAO: int8\n",
      "ID_SURDEZ: int8\n",
      "ID_DEF_AUDITIVA: int8\n",
      "ID_SURDOCEGUEIRA: int8\n",
      "ID_DEF_FISICA: int8\n",
      "ID_DEF_INTELECTUAL: int8\n",
      "ID_DEF_MULTIPLA: int8\n",
      "FK_COD_ESCOLARIDADE: int8\n",
      "ID_SITUACAO_CURSO_1: float16\n",
      "FK_CLASSE_CURSO_1: float16\n",
      "FK_COD_AREA_OCDE_1: object\n",
      "ID_LICENCIATURA_1: float16\n",
      "ID_COM_PEDAGOGICA_1: float16\n",
      "NU_ANO_INICIO_1: float16\n",
      "NU_ANO_CONCLUSAO_1: float16\n",
      "ID_TIPO_INSTITUICAO_1: float16\n",
      "ID_NOME_INSTITUICAO_1: object\n",
      "FK_COD_IES_1: float32\n",
      "ID_SITUACAO_CURSO_2: float16\n",
      "FK_CLASSE_CURSO_2: float16\n",
      "FK_COD_AREA_OCDE_2: object\n",
      "ID_LICENCIATURA_2: float16\n",
      "ID_COM_PEDAGOGICA_2: float16\n",
      "NU_ANO_INICIO_2: float16\n",
      "NU_ANO_CONCLUSAO_2: float16\n",
      "ID_TIPO_INSTITUICAO_2: float16\n",
      "ID_NOME_INSTITUICAO_2: object\n",
      "FK_COD_IES_2: float32\n",
      "ID_SITUACAO_CURSO_3: float16\n",
      "FK_CLASSE_CURSO_3: float16\n",
      "FK_COD_AREA_OCDE_3: object\n",
      "ID_LICENCIATURA_3: float16\n",
      "ID_COM_PEDAGOGICA_3: float16\n",
      "NU_ANO_INICIO_3: float16\n",
      "NU_ANO_CONCLUSAO_3: float16\n",
      "ID_TIPO_INSTITUICAO_3: float16\n",
      "ID_NOME_INSTITUICAO_3: object\n",
      "FK_COD_IES_3: float32\n",
      "ID_QUIMICA: int8\n",
      "ID_FISICA: int8\n",
      "ID_MATEMATICA: int8\n",
      "ID_BIOLOGIA: int8\n",
      "ID_CIENCIAS: int8\n",
      "ID_LINGUA_LITERAT_PORTUGUESA: int8\n",
      "ID_LINGUA_LITERAT_INGLES: int8\n",
      "ID_LINGUA_LITERAT_ESPANHOL: int8\n",
      "ID_LINGUA_LITERAT_FRANCES: int8\n",
      "ID_LINGUA_LITERAT_OUTRA: int8\n",
      "ID_LINGUA_LITERAT_INDIGENA: int8\n",
      "ID_ARTES: int8\n",
      "ID_EDUCACAO_FISICA: int8\n",
      "ID_HISTORIA: int8\n",
      "ID_GEOGRAFIA: int8\n",
      "ID_FILOSOFIA: int8\n",
      "ID_ENSINO_RELIGIOSO: int8\n",
      "ID_ESTUDOS_SOCIAIS: int8\n",
      "ID_SOCIOLOGIA: int8\n",
      "ID_INFORMATICA_COMPUTACAO: int8\n",
      "ID_PROFISSIONALIZANTE: int8\n",
      "ID_DISC_ATENDIMENTO_ESPECIAIS: int8\n",
      "ID_DISC_DIVERSIDADE_SOCIO_CULT: int8\n",
      "ID_LIBRAS: int8\n",
      "ID_DISCIPLINAS_PEDAG: int8\n",
      "ID_OUTRAS_DISCIPLINAS: int8\n",
      "ID_ESPECIALIZACAO: int8\n",
      "ID_MESTRADO: int8\n",
      "ID_DOUTORADO: int8\n",
      "ID_POS_GRADUACAO_NENHUM: int8\n",
      "ID_ESPECIFICO_CRECHE: int8\n",
      "ID_ESPECIFICO_PRE_ESCOLA: int8\n",
      "ID_ESPECIFICO_ANOS_INICIAIS: int8\n",
      "ID_ESPECIFICO_ANOS_FINAIS: int8\n",
      "ID_ESPECIFICO_ENS_MEDIO: int8\n",
      "ID_ESPECIFICO_EJA: int8\n",
      "ID_ESPECIFICO_NEC_ESP: int8\n",
      "ID_ESPECIFICO_ED_INDIGENA: int8\n",
      "ID_ESPECIFICO_CAMPO: int8\n",
      "ID_ESPECIFICO_AMBIENTAL: int8\n",
      "ID_ESPECIFICO_DIR_HUMANOS: int8\n",
      "ID_ESPECIFICO_DIV_SEXUAL: int8\n",
      "ID_ESPECIFICO_DIR_ADOLESC: int8\n",
      "ID_ESPECIFICO_AFRO: int8\n",
      "ID_ESPECIFICO_OUTROS: int8\n",
      "ID_ESPECIFICO_NENHUM: int8\n",
      "ID_TIPO_DOCENTE: int8\n",
      "ID_TIPO_CONTRATACAO: float16\n",
      "PK_COD_TURMA: int32\n",
      "FK_COD_TIPO_TURMA: int8\n",
      "FK_COD_MOD_ENSINO: float16\n",
      "FK_COD_ETAPA_ENSINO: float16\n",
      "FK_COD_CURSO_PROF: float16\n",
      "PK_COD_ENTIDADE: int32\n",
      "FK_COD_ESTADO: int8\n",
      "FK_COD_MUNICIPIO: int32\n",
      "FK_COD_DISTRITO: int8\n",
      "ID_LOCALIZACAO: int8\n",
      "ID_DEPENDENCIA_ADM: int8\n",
      "DESC_CATEGORIA_ESCOLA_PRIVADA: float16\n",
      "ID_CONVENIADA_PP: float16\n",
      "ID_TIPO_CONVENIO_PODER_PUBLICO: float16\n",
      "ID_MANT_ESCOLA_PRIVADA_EMP: int8\n",
      "ID_MANT_ESCOLA_PRIVADA_ONG: int8\n",
      "ID_MANT_ESCOLA_PRIVADA_SIND: int8\n",
      "ID_MANT_ESCOLA_PRIVADA_SIST_S: int8\n",
      "ID_MANT_ESCOLA_PRIVADA_S_FINS: int8\n",
      "ID_DOCUMENTO_REGULAMENTACAO: int8\n",
      "ID_LOCALIZACAO_DIFERENCIADA: int8\n",
      "ID_EDUCACAO_INDIGENA: int8\n",
      "ANO_CENSO: int16\n",
      "FK_COD_DOCENTE: int64\n",
      "NU_DIA: int8\n",
      "NU_MES: int8\n",
      "NU_ANO: int16\n",
      "NUM_IDADE: int8\n",
      "TP_SEXO: object\n",
      "TP_COR_RACA: int8\n",
      "TP_NACIONALIDADE: int8\n",
      "FK_COD_PAIS_ORIGEM: int16\n",
      "FK_COD_ESTADO_DNASC: float16\n",
      "SIGLA_ESTADO_DNASC: object\n",
      "FK_COD_MUNICIPIO_DNASC: float32\n",
      "FK_COD_ESTADO_DEND: float16\n",
      "SIGLA_ESTADO_DEND: object\n",
      "FK_COD_MUNICIPIO_DEND: float32\n",
      "ID_ZONA_RESIDENCIAL: int8\n",
      "ID_POSSUI_NEC_ESPECIAL: int8\n",
      "ID_CEGUEIRA: int8\n",
      "ID_BAIXA_VISAO: int8\n",
      "ID_SURDEZ: int8\n",
      "ID_DEF_AUDITIVA: int8\n",
      "ID_SURDOCEGUEIRA: int8\n",
      "ID_DEF_FISICA: int8\n",
      "ID_DEF_INTELECTUAL: int8\n",
      "ID_DEF_MULTIPLA: int8\n",
      "FK_COD_ESCOLARIDADE: int8\n",
      "ID_SITUACAO_CURSO_1: float16\n",
      "FK_CLASSE_CURSO_1: float16\n",
      "FK_COD_AREA_OCDE_1: object\n",
      "ID_LICENCIATURA_1: float16\n",
      "ID_COM_PEDAGOGICA_1: float16\n",
      "NU_ANO_INICIO_1: float16\n",
      "NU_ANO_CONCLUSAO_1: float16\n",
      "ID_TIPO_INSTITUICAO_1: float16\n",
      "ID_NOME_INSTITUICAO_1: object\n",
      "FK_COD_IES_1: float32\n",
      "ID_SITUACAO_CURSO_2: float16\n",
      "FK_CLASSE_CURSO_2: float16\n",
      "FK_COD_AREA_OCDE_2: object\n",
      "ID_LICENCIATURA_2: float16\n",
      "ID_COM_PEDAGOGICA_2: float16\n",
      "NU_ANO_INICIO_2: float16\n",
      "NU_ANO_CONCLUSAO_2: float16\n",
      "ID_TIPO_INSTITUICAO_2: float16\n",
      "ID_NOME_INSTITUICAO_2: object\n",
      "FK_COD_IES_2: float32\n",
      "ID_SITUACAO_CURSO_3: float16\n",
      "FK_CLASSE_CURSO_3: float16\n",
      "FK_COD_AREA_OCDE_3: object\n",
      "ID_LICENCIATURA_3: float16\n",
      "ID_COM_PEDAGOGICA_3: float16\n",
      "NU_ANO_INICIO_3: float16\n",
      "NU_ANO_CONCLUSAO_3: float16\n",
      "ID_TIPO_INSTITUICAO_3: float16\n",
      "ID_NOME_INSTITUICAO_3: object\n",
      "FK_COD_IES_3: float32\n",
      "ID_QUIMICA: int8\n",
      "ID_FISICA: int8\n",
      "ID_MATEMATICA: int8\n",
      "ID_BIOLOGIA: int8\n",
      "ID_CIENCIAS: int8\n",
      "ID_LINGUA_LITERAT_PORTUGUESA: int8\n",
      "ID_LINGUA_LITERAT_INGLES: int8\n",
      "ID_LINGUA_LITERAT_ESPANHOL: int8\n",
      "ID_LINGUA_LITERAT_FRANCES: int8\n",
      "ID_LINGUA_LITERAT_OUTRA: int8\n",
      "ID_LINGUA_LITERAT_INDIGENA: int8\n",
      "ID_ARTES: int8\n",
      "ID_EDUCACAO_FISICA: int8\n",
      "ID_HISTORIA: int8\n",
      "ID_GEOGRAFIA: int8\n",
      "ID_FILOSOFIA: int8\n",
      "ID_ENSINO_RELIGIOSO: int8\n",
      "ID_ESTUDOS_SOCIAIS: int8\n",
      "ID_SOCIOLOGIA: int8\n",
      "ID_INFORMATICA_COMPUTACAO: int8\n",
      "ID_PROFISSIONALIZANTE: int8\n",
      "ID_DISC_ATENDIMENTO_ESPECIAIS: int8\n",
      "ID_DISC_DIVERSIDADE_SOCIO_CULT: int8\n",
      "ID_LIBRAS: int8\n",
      "ID_DISCIPLINAS_PEDAG: int8\n",
      "ID_OUTRAS_DISCIPLINAS: int8\n",
      "ID_ESPECIALIZACAO: int8\n",
      "ID_MESTRADO: int8\n",
      "ID_DOUTORADO: int8\n",
      "ID_POS_GRADUACAO_NENHUM: int8\n",
      "ID_ESPECIFICO_CRECHE: int8\n",
      "ID_ESPECIFICO_PRE_ESCOLA: int8\n",
      "ID_ESPECIFICO_ANOS_INICIAIS: int8\n",
      "ID_ESPECIFICO_ANOS_FINAIS: int8\n",
      "ID_ESPECIFICO_ENS_MEDIO: int8\n",
      "ID_ESPECIFICO_EJA: int8\n",
      "ID_ESPECIFICO_NEC_ESP: int8\n",
      "ID_ESPECIFICO_ED_INDIGENA: int8\n",
      "ID_ESPECIFICO_CAMPO: int8\n",
      "ID_ESPECIFICO_AMBIENTAL: int8\n",
      "ID_ESPECIFICO_DIR_HUMANOS: int8\n",
      "ID_ESPECIFICO_DIV_SEXUAL: int8\n",
      "ID_ESPECIFICO_DIR_ADOLESC: int8\n",
      "ID_ESPECIFICO_AFRO: int8\n",
      "ID_ESPECIFICO_OUTROS: int8\n",
      "ID_ESPECIFICO_NENHUM: int8\n",
      "ID_TIPO_DOCENTE: int8\n",
      "ID_TIPO_CONTRATACAO: float16\n",
      "PK_COD_TURMA: int32\n",
      "FK_COD_TIPO_TURMA: int8\n",
      "FK_COD_MOD_ENSINO: float16\n",
      "FK_COD_ETAPA_ENSINO: float16\n",
      "FK_COD_CURSO_PROF: float16\n",
      "PK_COD_ENTIDADE: int32\n",
      "FK_COD_ESTADO: int8\n",
      "SIGLA: object\n",
      "FK_COD_MUNICIPIO: int32\n",
      "FK_COD_DISTRITO: int8\n",
      "ID_LOCALIZACAO: int8\n",
      "ID_DEPENDENCIA_ADM: int8\n",
      "DESC_CATEGORIA_ESCOLA_PRIVADA: float16\n",
      "ID_CONVENIADA_PP: float16\n",
      "ID_TIPO_CONVENIO_PODER_PUBLICO: float16\n",
      "ID_MANT_ESCOLA_PRIVADA_EMP: int8\n",
      "ID_MANT_ESCOLA_PRIVADA_ONG: int8\n",
      "ID_MANT_ESCOLA_PRIVADA_SIST_S: int8\n",
      "ID_MANT_ESCOLA_PRIVADA_SIND: int8\n",
      "ID_MANT_ESCOLA_PRIVADA_S_FINS: int8\n",
      "ID_DOCUMENTO_REGULAMENTACAO: int8\n",
      "ID_LOCALIZACAO_DIFERENCIADA: int8\n",
      "ID_EDUCACAO_INDIGENA: int8\n"
     ]
    }
   ],
   "source": [
    "a = monta_df_docente(f'{ARQ_PATH}/2014/DOCENTES_CO.CSV')\n",
    "profs14 = list(set(a.loc[(a.FK_COD_ESTADO == 53) & (a.ID_TIPO_CONTRATACAO == 1) & (a.ID_DEPENDENCIA_ADM == 2)]['FK_COD_DOCENTE'].values))\n",
    "\n",
    "a = monta_df_docente(f'{ARQ_PATH}/2013/DOCENTES_CO.CSV')\n",
    "profs13 = list(set(a.loc[(a.FK_COD_ESTADO == 53) & (a.ID_TIPO_CONTRATACAO == 1) & (a.ID_DEPENDENCIA_ADM == 2)]['FK_COD_DOCENTE'].values))\n",
    "del a"
   ]
  },
  {
   "cell_type": "code",
   "execution_count": 83,
   "metadata": {},
   "outputs": [],
   "source": [
    "cols_drop = []\n",
    "prof_pbc_df15['IN_MORA_ZONA_URBANA'] = (prof_pbc_df15.TP_ZONA_RESIDENCIAL == 1).astype(np.int8)\n",
    "cols_drop.append('TP_ZONA_RESIDENCIAL')\n",
    "prof_pbc_df15['IN_NASCEU_DF'] = (prof_pbc_df15.CO_UF_NASC == 53).astype(np.int8)\n",
    "cols_drop.append('CO_UF_NASC')\n",
    "prof_pbc_df15['IN_MORA_DF'] = (prof_pbc_df15.CO_UF_END == 53).astype(np.int8)\n",
    "cols_drop.append('CO_UF_END')\n",
    "prof_pbc_df15['IN_MULHER'] = (prof_pbc_df15.TP_SEXO == 2).astype(np.int8)\n",
    "cols_drop.append('TP_SEXO')\n",
    "prof_pbc_df15['NU_QTD_GRAD'] = (prof_pbc_df15.TP_SITUACAO_CURSO_1 == 1).astype(np.int8)  + (prof_pbc_df15.TP_SITUACAO_CURSO_2 == 1).astype(np.int8) + (prof_pbc_df15.TP_SITUACAO_CURSO_3 == 1).astype(np.int8)  \n",
    "cols_drop.append('TP_SITUACAO_CURSO_1')\n",
    "cols_drop.append('TP_SITUACAO_CURSO_2')\n",
    "cols_drop.append('TP_SITUACAO_CURSO_3')\n",
    "prof_pbc_df15['NU_QTD_GRAD_PBC'] = (prof_pbc_df15.TP_TIPO_IES_1 == 1).astype(np.int8)  + (prof_pbc_df15.TP_TIPO_IES_2 == 1).astype(np.int8) + (prof_pbc_df15.TP_TIPO_IES_3 == 1).astype(np.int8)  \n",
    "prof_pbc_df15['NU_QTD_GRAD_PRIV'] = (prof_pbc_df15.TP_TIPO_IES_1 == 2).astype(np.int8)  + (prof_pbc_df15.TP_TIPO_IES_2 == 2).astype(np.int8) + (prof_pbc_df15.TP_TIPO_IES_3 == 2).astype(np.int8)  \n",
    "cols_drop.append('TP_TIPO_IES_1')\n",
    "cols_drop.append('TP_TIPO_IES_2')\n",
    "cols_drop.append('TP_TIPO_IES_3')\n",
    "prof_pbc_df15['NU_QTD_LICENCIATURA'] = (prof_pbc_df15.IN_LICENCIATURA_1 == 1).astype(np.int8)  + (prof_pbc_df15.IN_LICENCIATURA_2 == 1).astype(np.int8) + (prof_pbc_df15.IN_LICENCIATURA_3 == 1).astype(np.int8)  \n",
    "cols_drop.append('IN_LICENCIATURA_1')\n",
    "cols_drop.append('IN_LICENCIATURA_2')\n",
    "cols_drop.append('IN_LICENCIATURA_3')\n",
    "prof_pbc_df15['NU_QTD_COM_PEDAGOGICA'] = (prof_pbc_df15.IN_COM_PEDAGOGICA_1 == 1).astype(np.int8)  + (prof_pbc_df15.IN_COM_PEDAGOGICA_2 == 1).astype(np.int8) + (prof_pbc_df15.IN_COM_PEDAGOGICA_3 == 1).astype(np.int8)  \n",
    "cols_drop.append('IN_COM_PEDAGOGICA_1')\n",
    "cols_drop.append('IN_COM_PEDAGOGICA_2')\n",
    "cols_drop.append('IN_COM_PEDAGOGICA_3')\n",
    "prof_pbc_df15['IN_NOVATO'] = (~prof_pbc_df15.CO_PESSOA_FISICA.isin(profs13) & ~prof_pbc_df15.CO_PESSOA_FISICA.isin(profs14)).astype(np.int8)   \n",
    "\n"
   ]
  },
  {
   "cell_type": "code",
   "execution_count": 84,
   "metadata": {},
   "outputs": [],
   "source": [
    "prof_pbc_df15.drop(cols_drop,axis=1,inplace=True)"
   ]
  },
  {
   "cell_type": "code",
   "execution_count": 85,
   "metadata": {},
   "outputs": [
    {
     "data": {
      "text/plain": [
       "(17092, 31)"
      ]
     },
     "metadata": {},
     "output_type": "display_data"
    },
    {
     "data": {
      "text/html": [
       "<div>\n",
       "<style scoped>\n",
       "    .dataframe tbody tr th:only-of-type {\n",
       "        vertical-align: middle;\n",
       "    }\n",
       "\n",
       "    .dataframe tbody tr th {\n",
       "        vertical-align: top;\n",
       "    }\n",
       "\n",
       "    .dataframe thead th {\n",
       "        text-align: right;\n",
       "    }\n",
       "</style>\n",
       "<table border=\"1\" class=\"dataframe\">\n",
       "  <thead>\n",
       "    <tr style=\"text-align: right;\">\n",
       "      <th></th>\n",
       "      <th>CO_PESSOA_FISICA</th>\n",
       "      <th>NU_IDADE_REFERENCIA</th>\n",
       "      <th>TP_COR_RACA</th>\n",
       "      <th>IN_POSSUI_NEC_ESPECIAL</th>\n",
       "      <th>IN_CEGUEIRA</th>\n",
       "      <th>IN_BAIXA_VISAO</th>\n",
       "      <th>IN_SURDEZ</th>\n",
       "      <th>IN_DEF_AUDITIVA</th>\n",
       "      <th>IN_SURDOCEGUEIRA</th>\n",
       "      <th>IN_DEF_FISICA</th>\n",
       "      <th>...</th>\n",
       "      <th>IN_MORA_ZONA_URBANA</th>\n",
       "      <th>IN_NASCEU_DF</th>\n",
       "      <th>IN_MORA_DF</th>\n",
       "      <th>IN_MULHER</th>\n",
       "      <th>NU_QTD_GRAD</th>\n",
       "      <th>NU_QTD_GRAD_PBC</th>\n",
       "      <th>NU_QTD_GRAD_PRIV</th>\n",
       "      <th>NU_QTD_LICENCIATURA</th>\n",
       "      <th>NU_QTD_COM_PEDAGOGICA</th>\n",
       "      <th>IN_NOVATO</th>\n",
       "    </tr>\n",
       "  </thead>\n",
       "  <tbody>\n",
       "    <tr>\n",
       "      <th>9</th>\n",
       "      <td>124187676391</td>\n",
       "      <td>34</td>\n",
       "      <td>3</td>\n",
       "      <td>0</td>\n",
       "      <td>-1.00</td>\n",
       "      <td>-1.00</td>\n",
       "      <td>-1.00</td>\n",
       "      <td>-1.00</td>\n",
       "      <td>-1.00</td>\n",
       "      <td>-1.00</td>\n",
       "      <td>...</td>\n",
       "      <td>1</td>\n",
       "      <td>0</td>\n",
       "      <td>0</td>\n",
       "      <td>0</td>\n",
       "      <td>1</td>\n",
       "      <td>0</td>\n",
       "      <td>1</td>\n",
       "      <td>1</td>\n",
       "      <td>0</td>\n",
       "      <td>1</td>\n",
       "    </tr>\n",
       "    <tr>\n",
       "      <th>29</th>\n",
       "      <td>115161698917</td>\n",
       "      <td>41</td>\n",
       "      <td>0</td>\n",
       "      <td>0</td>\n",
       "      <td>-1.00</td>\n",
       "      <td>-1.00</td>\n",
       "      <td>-1.00</td>\n",
       "      <td>-1.00</td>\n",
       "      <td>-1.00</td>\n",
       "      <td>-1.00</td>\n",
       "      <td>...</td>\n",
       "      <td>1</td>\n",
       "      <td>1</td>\n",
       "      <td>1</td>\n",
       "      <td>1</td>\n",
       "      <td>2</td>\n",
       "      <td>0</td>\n",
       "      <td>2</td>\n",
       "      <td>2</td>\n",
       "      <td>0</td>\n",
       "      <td>0</td>\n",
       "    </tr>\n",
       "    <tr>\n",
       "      <th>34</th>\n",
       "      <td>115111511619</td>\n",
       "      <td>37</td>\n",
       "      <td>0</td>\n",
       "      <td>0</td>\n",
       "      <td>-1.00</td>\n",
       "      <td>-1.00</td>\n",
       "      <td>-1.00</td>\n",
       "      <td>-1.00</td>\n",
       "      <td>-1.00</td>\n",
       "      <td>-1.00</td>\n",
       "      <td>...</td>\n",
       "      <td>1</td>\n",
       "      <td>1</td>\n",
       "      <td>1</td>\n",
       "      <td>1</td>\n",
       "      <td>1</td>\n",
       "      <td>1</td>\n",
       "      <td>0</td>\n",
       "      <td>1</td>\n",
       "      <td>0</td>\n",
       "      <td>0</td>\n",
       "    </tr>\n",
       "    <tr>\n",
       "      <th>43</th>\n",
       "      <td>123820147097</td>\n",
       "      <td>28</td>\n",
       "      <td>3</td>\n",
       "      <td>0</td>\n",
       "      <td>-1.00</td>\n",
       "      <td>-1.00</td>\n",
       "      <td>-1.00</td>\n",
       "      <td>-1.00</td>\n",
       "      <td>-1.00</td>\n",
       "      <td>-1.00</td>\n",
       "      <td>...</td>\n",
       "      <td>1</td>\n",
       "      <td>0</td>\n",
       "      <td>0</td>\n",
       "      <td>1</td>\n",
       "      <td>1</td>\n",
       "      <td>0</td>\n",
       "      <td>1</td>\n",
       "      <td>1</td>\n",
       "      <td>0</td>\n",
       "      <td>1</td>\n",
       "    </tr>\n",
       "    <tr>\n",
       "      <th>44</th>\n",
       "      <td>122777682860</td>\n",
       "      <td>31</td>\n",
       "      <td>1</td>\n",
       "      <td>0</td>\n",
       "      <td>-1.00</td>\n",
       "      <td>-1.00</td>\n",
       "      <td>-1.00</td>\n",
       "      <td>-1.00</td>\n",
       "      <td>-1.00</td>\n",
       "      <td>-1.00</td>\n",
       "      <td>...</td>\n",
       "      <td>1</td>\n",
       "      <td>0</td>\n",
       "      <td>0</td>\n",
       "      <td>0</td>\n",
       "      <td>1</td>\n",
       "      <td>0</td>\n",
       "      <td>1</td>\n",
       "      <td>1</td>\n",
       "      <td>0</td>\n",
       "      <td>1</td>\n",
       "    </tr>\n",
       "  </tbody>\n",
       "</table>\n",
       "<p>5 rows × 31 columns</p>\n",
       "</div>"
      ],
      "text/plain": [
       "    CO_PESSOA_FISICA  NU_IDADE_REFERENCIA  TP_COR_RACA  \\\n",
       "9       124187676391                   34            3   \n",
       "29      115161698917                   41            0   \n",
       "34      115111511619                   37            0   \n",
       "43      123820147097                   28            3   \n",
       "44      122777682860                   31            1   \n",
       "\n",
       "    IN_POSSUI_NEC_ESPECIAL  IN_CEGUEIRA  IN_BAIXA_VISAO  IN_SURDEZ  \\\n",
       "9                        0        -1.00           -1.00      -1.00   \n",
       "29                       0        -1.00           -1.00      -1.00   \n",
       "34                       0        -1.00           -1.00      -1.00   \n",
       "43                       0        -1.00           -1.00      -1.00   \n",
       "44                       0        -1.00           -1.00      -1.00   \n",
       "\n",
       "    IN_DEF_AUDITIVA  IN_SURDOCEGUEIRA  IN_DEF_FISICA    ...      \\\n",
       "9             -1.00             -1.00          -1.00    ...       \n",
       "29            -1.00             -1.00          -1.00    ...       \n",
       "34            -1.00             -1.00          -1.00    ...       \n",
       "43            -1.00             -1.00          -1.00    ...       \n",
       "44            -1.00             -1.00          -1.00    ...       \n",
       "\n",
       "    IN_MORA_ZONA_URBANA  IN_NASCEU_DF  IN_MORA_DF  IN_MULHER  NU_QTD_GRAD  \\\n",
       "9                     1             0           0          0            1   \n",
       "29                    1             1           1          1            2   \n",
       "34                    1             1           1          1            1   \n",
       "43                    1             0           0          1            1   \n",
       "44                    1             0           0          0            1   \n",
       "\n",
       "    NU_QTD_GRAD_PBC  NU_QTD_GRAD_PRIV  NU_QTD_LICENCIATURA  \\\n",
       "9                 0                 1                    1   \n",
       "29                0                 2                    2   \n",
       "34                1                 0                    1   \n",
       "43                0                 1                    1   \n",
       "44                0                 1                    1   \n",
       "\n",
       "    NU_QTD_COM_PEDAGOGICA  IN_NOVATO  \n",
       "9                       0          1  \n",
       "29                      0          0  \n",
       "34                      0          0  \n",
       "43                      0          1  \n",
       "44                      0          1  \n",
       "\n",
       "[5 rows x 31 columns]"
      ]
     },
     "execution_count": 85,
     "metadata": {},
     "output_type": "execute_result"
    }
   ],
   "source": [
    "display(prof_pbc_df15.shape)\n",
    "prof_pbc_df15.head()"
   ]
  },
  {
   "cell_type": "code",
   "execution_count": 86,
   "metadata": {
    "scrolled": false
   },
   "outputs": [
    {
     "data": {
      "text/plain": [
       "'CO_PESSOA_FISICA'"
      ]
     },
     "metadata": {},
     "output_type": "display_data"
    },
    {
     "data": {
      "text/plain": [
       "count          17092.00\n",
       "mean    118242040759.29\n",
       "std       3753540710.39\n",
       "min     110045177189.00\n",
       "25%     115115134337.00\n",
       "50%     116682802030.00\n",
       "75%     121174247125.25\n",
       "max     128411329940.00\n",
       "Name: CO_PESSOA_FISICA, dtype: float64"
      ]
     },
     "metadata": {},
     "output_type": "display_data"
    },
    {
     "data": {
      "image/png": "[encoded data removed]",
      "text/plain": [
       "<Figure size 432x288 with 1 Axes>"
      ]
     },
     "metadata": {},
     "output_type": "display_data"
    },
    {
     "data": {
      "text/plain": [
       "'NU_IDADE_REFERENCIA'"
      ]
     },
     "metadata": {},
     "output_type": "display_data"
    },
    {
     "data": {
      "text/plain": [
       "count   17092.00\n",
       "mean       41.81\n",
       "std         8.55\n",
       "min        17.00\n",
       "25%        36.00\n",
       "50%        42.00\n",
       "75%        48.00\n",
       "max        69.00\n",
       "Name: NU_IDADE_REFERENCIA, dtype: float64"
      ]
     },
     "metadata": {},
     "output_type": "display_data"
    },
    {
     "data": {
      "image/png": "[encoded data removed]",
      "text/plain": [
       "<Figure size 432x288 with 1 Axes>"
      ]
     },
     "metadata": {},
     "output_type": "display_data"
    },
    {
     "data": {
      "text/plain": [
       "'TP_COR_RACA'"
      ]
     },
     "metadata": {},
     "output_type": "display_data"
    },
    {
     "data": {
      "text/plain": [
       "0    5824\n",
       "1    5412\n",
       "3    4991\n",
       "2     756\n",
       "4      90\n",
       "5      19\n",
       "Name: TP_COR_RACA, dtype: int64"
      ]
     },
     "metadata": {},
     "output_type": "display_data"
    },
    {
     "data": {
      "image/png": "[encoded data removed]",
      "text/plain": [
       "<Figure size 432x288 with 1 Axes>"
      ]
     },
     "metadata": {},
     "output_type": "display_data"
    },
    {
     "data": {
      "text/plain": [
       "'IN_POSSUI_NEC_ESPECIAL'"
      ]
     },
     "metadata": {},
     "output_type": "display_data"
    },
    {
     "data": {
      "text/plain": [
       "0    16916\n",
       "1      176\n",
       "Name: IN_POSSUI_NEC_ESPECIAL, dtype: int64"
      ]
     },
     "metadata": {},
     "output_type": "display_data"
    },
    {
     "data": {
      "image/png": "[encoded data removed]",
      "text/plain": [
       "<Figure size 432x288 with 1 Axes>"
      ]
     },
     "metadata": {},
     "output_type": "display_data"
    },
    {
     "data": {
      "text/plain": [
       "'IN_CEGUEIRA'"
      ]
     },
     "metadata": {},
     "output_type": "display_data"
    },
    {
     "data": {
      "text/plain": [
       "-1.00    16916\n",
       "0.00       164\n",
       "1.00        12\n",
       "Name: IN_CEGUEIRA, dtype: int64"
      ]
     },
     "metadata": {},
     "output_type": "display_data"
    },
    {
     "data": {
      "image/png": "[encoded data removed]",
      "text/plain": [
       "<Figure size 432x288 with 1 Axes>"
      ]
     },
     "metadata": {},
     "output_type": "display_data"
    },
    {
     "data": {
      "text/plain": [
       "'IN_BAIXA_VISAO'"
      ]
     },
     "metadata": {},
     "output_type": "display_data"
    },
    {
     "data": {
      "text/plain": [
       "-1.00    16916\n",
       "0.00       138\n",
       "1.00        38\n",
       "Name: IN_BAIXA_VISAO, dtype: int64"
      ]
     },
     "metadata": {},
     "output_type": "display_data"
    },
    {
     "data": {
      "image/png": "[encoded data removed]",
      "text/plain": [
       "<Figure size 432x288 with 1 Axes>"
      ]
     },
     "metadata": {},
     "output_type": "display_data"
    },
    {
     "data": {
      "text/plain": [
       "'IN_SURDEZ'"
      ]
     },
     "metadata": {},
     "output_type": "display_data"
    },
    {
     "data": {
      "text/plain": [
       "-1.00    16916\n",
       "0.00       171\n",
       "1.00         5\n",
       "Name: IN_SURDEZ, dtype: int64"
      ]
     },
     "metadata": {},
     "output_type": "display_data"
    },
    {
     "data": {
      "image/png": "[encoded data removed]",
      "text/plain": [
       "<Figure size 432x288 with 1 Axes>"
      ]
     },
     "metadata": {},
     "output_type": "display_data"
    },
    {
     "data": {
      "text/plain": [
       "'IN_DEF_AUDITIVA'"
      ]
     },
     "metadata": {},
     "output_type": "display_data"
    },
    {
     "data": {
      "text/plain": [
       "-1.00    16916\n",
       "0.00       151\n",
       "1.00        25\n",
       "Name: IN_DEF_AUDITIVA, dtype: int64"
      ]
     },
     "metadata": {},
     "output_type": "display_data"
    },
    {
     "data": {
      "image/png": "[encoded data removed]",
      "text/plain": [
       "<Figure size 432x288 with 1 Axes>"
      ]
     },
     "metadata": {},
     "output_type": "display_data"
    },
    {
     "data": {
      "text/plain": [
       "'IN_SURDOCEGUEIRA'"
      ]
     },
     "metadata": {},
     "output_type": "display_data"
    },
    {
     "data": {
      "text/plain": [
       "-1.00    16916\n",
       "0.00       176\n",
       "Name: IN_SURDOCEGUEIRA, dtype: int64"
      ]
     },
     "metadata": {},
     "output_type": "display_data"
    },
    {
     "data": {
      "image/png": "[encoded data removed]",
      "text/plain": [
       "<Figure size 432x288 with 1 Axes>"
      ]
     },
     "metadata": {},
     "output_type": "display_data"
    },
    {
     "data": {
      "text/plain": [
       "'IN_DEF_FISICA'"
      ]
     },
     "metadata": {},
     "output_type": "display_data"
    },
    {
     "data": {
      "text/plain": [
       "-1.00    16916\n",
       "1.00        98\n",
       "0.00        78\n",
       "Name: IN_DEF_FISICA, dtype: int64"
      ]
     },
     "metadata": {},
     "output_type": "display_data"
    },
    {
     "data": {
      "image/png": "[encoded data removed]",
      "text/plain": [
       "<Figure size 432x288 with 1 Axes>"
      ]
     },
     "metadata": {},
     "output_type": "display_data"
    },
    {
     "data": {
      "text/plain": [
       "'IN_DEF_INTELECTUAL'"
      ]
     },
     "metadata": {},
     "output_type": "display_data"
    },
    {
     "data": {
      "text/plain": [
       "-1.00    16916\n",
       "0.00       176\n",
       "Name: IN_DEF_INTELECTUAL, dtype: int64"
      ]
     },
     "metadata": {},
     "output_type": "display_data"
    },
    {
     "data": {
      "image/png": "[encoded data removed]",
      "text/plain": [
       "<Figure size 432x288 with 1 Axes>"
      ]
     },
     "metadata": {},
     "output_type": "display_data"
    },
    {
     "data": {
      "text/plain": [
       "'IN_DEF_MULTIPLA'"
      ]
     },
     "metadata": {},
     "output_type": "display_data"
    },
    {
     "data": {
      "text/plain": [
       "-1.00    16916\n",
       "0.00       174\n",
       "1.00         2\n",
       "Name: IN_DEF_MULTIPLA, dtype: int64"
      ]
     },
     "metadata": {},
     "output_type": "display_data"
    },
    {
     "data": {
      "image/png": "[encoded data removed]",
      "text/plain": [
       "<Figure size 432x288 with 1 Axes>"
      ]
     },
     "metadata": {},
     "output_type": "display_data"
    },
    {
     "data": {
      "text/plain": [
       "'TP_ESCOLARIDADE'"
      ]
     },
     "metadata": {},
     "output_type": "display_data"
    },
    {
     "data": {
      "text/plain": [
       "4    16626\n",
       "3      464\n",
       "2        1\n",
       "1        1\n",
       "Name: TP_ESCOLARIDADE, dtype: int64"
      ]
     },
     "metadata": {},
     "output_type": "display_data"
    },
    {
     "data": {
      "image/png": "[encoded data removed]",
      "text/plain": [
       "<Figure size 432x288 with 1 Axes>"
      ]
     },
     "metadata": {},
     "output_type": "display_data"
    },
    {
     "data": {
      "text/plain": [
       "'TP_NORMAL_MAGISTERIO'"
      ]
     },
     "metadata": {},
     "output_type": "display_data"
    },
    {
     "data": {
      "text/plain": [
       "3.00     16737\n",
       "1.00       278\n",
       "0.00        73\n",
       "-1.00        2\n",
       "2.00         2\n",
       "Name: TP_NORMAL_MAGISTERIO, dtype: int64"
      ]
     },
     "metadata": {},
     "output_type": "display_data"
    },
    {
     "data": {
      "image/png": "[encoded data removed]",
      "text/plain": [
       "<Figure size 432x288 with 1 Axes>"
      ]
     },
     "metadata": {},
     "output_type": "display_data"
    },
    {
     "data": {
      "text/plain": [
       "'IN_ESPECIALIZACAO'"
      ]
     },
     "metadata": {},
     "output_type": "display_data"
    },
    {
     "data": {
      "text/plain": [
       "1.00     8919\n",
       "0.00     7707\n",
       "-1.00     466\n",
       "Name: IN_ESPECIALIZACAO, dtype: int64"
      ]
     },
     "metadata": {},
     "output_type": "display_data"
    },
    {
     "data": {
      "image/png": "[encoded data removed]",
      "text/plain": [
       "<Figure size 432x288 with 1 Axes>"
      ]
     },
     "metadata": {},
     "output_type": "display_data"
    },
    {
     "data": {
      "text/plain": [
       "'IN_MESTRADO'"
      ]
     },
     "metadata": {},
     "output_type": "display_data"
    },
    {
     "data": {
      "text/plain": [
       "0.00     16060\n",
       "1.00       566\n",
       "-1.00      466\n",
       "Name: IN_MESTRADO, dtype: int64"
      ]
     },
     "metadata": {},
     "output_type": "display_data"
    },
    {
     "data": {
      "image/png": "[encoded data removed]",
      "text/plain": [
       "<Figure size 432x288 with 1 Axes>"
      ]
     },
     "metadata": {},
     "output_type": "display_data"
    },
    {
     "data": {
      "text/plain": [
       "'IN_DOUTORADO'"
      ]
     },
     "metadata": {},
     "output_type": "display_data"
    },
    {
     "data": {
      "text/plain": [
       "0.00     16574\n",
       "-1.00      466\n",
       "1.00        52\n",
       "Name: IN_DOUTORADO, dtype: int64"
      ]
     },
     "metadata": {},
     "output_type": "display_data"
    },
    {
     "data": {
      "image/png": "[encoded data removed]",
      "text/plain": [
       "<Figure size 432x288 with 1 Axes>"
      ]
     },
     "metadata": {},
     "output_type": "display_data"
    },
    {
     "data": {
      "text/plain": [
       "'IN_POS_NENHUM'"
      ]
     },
     "metadata": {},
     "output_type": "display_data"
    },
    {
     "data": {
      "text/plain": [
       "0.00     9347\n",
       "1.00     7279\n",
       "-1.00     466\n",
       "Name: IN_POS_NENHUM, dtype: int64"
      ]
     },
     "metadata": {},
     "output_type": "display_data"
    },
    {
     "data": {
      "image/png": "[encoded data removed]",
      "text/plain": [
       "<Figure size 432x288 with 1 Axes>"
      ]
     },
     "metadata": {},
     "output_type": "display_data"
    },
    {
     "data": {
      "text/plain": [
       "'IN_MORA_ZONA_URBANA'"
      ]
     },
     "metadata": {},
     "output_type": "display_data"
    },
    {
     "data": {
      "text/plain": [
       "1    16149\n",
       "0      943\n",
       "Name: IN_MORA_ZONA_URBANA, dtype: int64"
      ]
     },
     "metadata": {},
     "output_type": "display_data"
    },
    {
     "data": {
      "image/png": "[encoded data removed]",
      "text/plain": [
       "<Figure size 432x288 with 1 Axes>"
      ]
     },
     "metadata": {},
     "output_type": "display_data"
    },
    {
     "data": {
      "text/plain": [
       "'IN_NASCEU_DF'"
      ]
     },
     "metadata": {},
     "output_type": "display_data"
    },
    {
     "data": {
      "text/plain": [
       "1    8757\n",
       "0    8335\n",
       "Name: IN_NASCEU_DF, dtype: int64"
      ]
     },
     "metadata": {},
     "output_type": "display_data"
    },
    {
     "data": {
      "image/png": "[encoded data removed]",
      "text/plain": [
       "<Figure size 432x288 with 1 Axes>"
      ]
     },
     "metadata": {},
     "output_type": "display_data"
    },
    {
     "data": {
      "text/plain": [
       "'IN_MORA_DF'"
      ]
     },
     "metadata": {},
     "output_type": "display_data"
    },
    {
     "data": {
      "text/plain": [
       "1    12070\n",
       "0     5022\n",
       "Name: IN_MORA_DF, dtype: int64"
      ]
     },
     "metadata": {},
     "output_type": "display_data"
    },
    {
     "data": {
      "image/png": "[encoded data removed]",
      "text/plain": [
       "<Figure size 432x288 with 1 Axes>"
      ]
     },
     "metadata": {},
     "output_type": "display_data"
    },
    {
     "data": {
      "text/plain": [
       "'IN_MULHER'"
      ]
     },
     "metadata": {},
     "output_type": "display_data"
    },
    {
     "data": {
      "text/plain": [
       "1    12766\n",
       "0     4326\n",
       "Name: IN_MULHER, dtype: int64"
      ]
     },
     "metadata": {},
     "output_type": "display_data"
    },
    {
     "data": {
      "image/png": "[encoded data removed]",
      "text/plain": [
       "<Figure size 432x288 with 1 Axes>"
      ]
     },
     "metadata": {},
     "output_type": "display_data"
    },
    {
     "data": {
      "text/plain": [
       "'NU_QTD_GRAD'"
      ]
     },
     "metadata": {},
     "output_type": "display_data"
    },
    {
     "data": {
      "text/plain": [
       "1    16099\n",
       "2      500\n",
       "0      466\n",
       "3       27\n",
       "Name: NU_QTD_GRAD, dtype: int64"
      ]
     },
     "metadata": {},
     "output_type": "display_data"
    },
    {
     "data": {
      "image/png": "[encoded data removed]",
      "text/plain": [
       "<Figure size 432x288 with 1 Axes>"
      ]
     },
     "metadata": {},
     "output_type": "display_data"
    },
    {
     "data": {
      "text/plain": [
       "'NU_QTD_GRAD_PBC'"
      ]
     },
     "metadata": {},
     "output_type": "display_data"
    },
    {
     "data": {
      "text/plain": [
       "1    8835\n",
       "0    8101\n",
       "2     151\n",
       "3       5\n",
       "Name: NU_QTD_GRAD_PBC, dtype: int64"
      ]
     },
     "metadata": {},
     "output_type": "display_data"
    },
    {
     "data": {
      "image/png": "[encoded data removed]",
      "text/plain": [
       "<Figure size 432x288 with 1 Axes>"
      ]
     },
     "metadata": {},
     "output_type": "display_data"
    },
    {
     "data": {
      "text/plain": [
       "'NU_QTD_GRAD_PRIV'"
      ]
     },
     "metadata": {},
     "output_type": "display_data"
    },
    {
     "data": {
      "text/plain": [
       "0    9147\n",
       "1    7738\n",
       "2     199\n",
       "3       8\n",
       "Name: NU_QTD_GRAD_PRIV, dtype: int64"
      ]
     },
     "metadata": {},
     "output_type": "display_data"
    },
    {
     "data": {
      "image/png": "[encoded data removed]",
      "text/plain": [
       "<Figure size 432x288 with 1 Axes>"
      ]
     },
     "metadata": {},
     "output_type": "display_data"
    },
    {
     "data": {
      "text/plain": [
       "'NU_QTD_LICENCIATURA'"
      ]
     },
     "metadata": {},
     "output_type": "display_data"
    },
    {
     "data": {
      "text/plain": [
       "1    14250\n",
       "0     2570\n",
       "2      263\n",
       "3        9\n",
       "Name: NU_QTD_LICENCIATURA, dtype: int64"
      ]
     },
     "metadata": {},
     "output_type": "display_data"
    },
    {
     "data": {
      "image/png": "[encoded data removed]",
      "text/plain": [
       "<Figure size 432x288 with 1 Axes>"
      ]
     },
     "metadata": {},
     "output_type": "display_data"
    },
    {
     "data": {
      "text/plain": [
       "'NU_QTD_COM_PEDAGOGICA'"
      ]
     },
     "metadata": {},
     "output_type": "display_data"
    },
    {
     "data": {
      "text/plain": [
       "0    15108\n",
       "1     1969\n",
       "2       15\n",
       "Name: NU_QTD_COM_PEDAGOGICA, dtype: int64"
      ]
     },
     "metadata": {},
     "output_type": "display_data"
    },
    {
     "data": {
      "image/png": "[encoded data removed]",
      "text/plain": [
       "<Figure size 432x288 with 1 Axes>"
      ]
     },
     "metadata": {},
     "output_type": "display_data"
    },
    {
     "data": {
      "text/plain": [
       "'IN_NOVATO'"
      ]
     },
     "metadata": {},
     "output_type": "display_data"
    },
    {
     "data": {
      "text/plain": [
       "0    13720\n",
       "1     3372\n",
       "Name: IN_NOVATO, dtype: int64"
      ]
     },
     "metadata": {},
     "output_type": "display_data"
    },
    {
     "data": {
      "image/png": "[encoded data removed]",
      "text/plain": [
       "<Figure size 432x288 with 1 Axes>"
      ]
     },
     "metadata": {},
     "output_type": "display_data"
    }
   ],
   "source": [
    "for c in prof_pbc_df15.columns:\n",
    "    if not c.startswith('CO_CURSO') and not c.startswith('CO_AREA_CURSO'): \n",
    "        display(f'{c}')\n",
    "        if len(list(set(prof_pbc_df15[c].values))) > 10:\n",
    "            display(prof_pbc_df15[c].describe())\n",
    "        else:\n",
    "            display(prof_pbc_df15[c].value_counts())\n",
    "            \n",
    "        prof_pbc_df15[c].hist()\n",
    "        plt.show()"
   ]
  },
  {
   "cell_type": "code",
   "execution_count": null,
   "metadata": {},
   "outputs": [],
   "source": [
    "prof_df.to_csv(f'{PATH_DF_CSV}prof_df.csv',index=False)\n",
    "pss_ano.to_csv(f'{PATH_DF_CSV}pessoas_prof_df.csv',index=False)"
   ]
  },
  {
   "cell_type": "markdown",
   "metadata": {},
   "source": [
    "<table columns=2 style='width:100%'><tr><td>\n",
    "<img src='img/cp_icon.png'/></td><td> <h2>Check-point, recarregando os DataFrames para analisar a situacao do DF e montar a target.</h2></td></tr></table>"
   ]
  },
  {
   "cell_type": "code",
   "execution_count": null,
   "metadata": {},
   "outputs": [],
   "source": [
    "prof_df = pd.read_csv(f'{PATH_DF_CSV}prof_df.csv',low_memory=False)\n",
    "pss_ano= pd.read_csv(f'{PATH_DF_CSV}pessoas_prof_df.csv',low_memory=False)"
   ]
  },
  {
   "cell_type": "code",
   "execution_count": null,
   "metadata": {},
   "outputs": [],
   "source": [
    "display(pss_ano.reset_index().ANO.value_counts())\n",
    "pss_ano.shape"
   ]
  },
  {
   "cell_type": "code",
   "execution_count": null,
   "metadata": {},
   "outputs": [],
   "source": [
    "pss_ano.reset_index(inplace=True)\n",
    "pss_ano = ajusta_colunas_int_df_inep(pss_ano,vai_printar_cols=False)"
   ]
  },
  {
   "cell_type": "markdown",
   "metadata": {},
   "source": [
    "#### Curiosidade para ver o comportamento das variaveis"
   ]
  },
  {
   "cell_type": "code",
   "execution_count": null,
   "metadata": {
    "scrolled": true
   },
   "outputs": [],
   "source": [
    "for c in pss_ano.columns[2:]:\n",
    "    if not c.startswith('CO'):\n",
    "        for a in anos_pesquisa:\n",
    "            display(a + ' - ' + c)\n",
    "            if c.startswith('NU'):\n",
    "                display(pss_ano.loc[pss_ano.ANO == int(a)][c].describe())\n",
    "                pss_ano.loc[pss_ano.ANO == int(a)][c].hist()\n",
    "            else:\n",
    "                display(pss_ano.loc[pss_ano.ANO == int(a)][c].value_counts())\n",
    "                pss_ano.loc[pss_ano.ANO == int(a)][c].value_counts().plot.bar()\n",
    "            plt.show()\n",
    "            #sns.barplot()\n",
    "    \n"
   ]
  },
  {
   "cell_type": "markdown",
   "metadata": {},
   "source": [
    "### Taxa de rotatividade de professores entre 2 anos .  \n",
    "\n",
    "\n"
   ]
  },
  {
   "cell_type": "code",
   "execution_count": null,
   "metadata": {},
   "outputs": [],
   "source": [
    "def monta_saidas(pt, ano,turmas=[]):\n",
    "    pe_ano = pt.loc[(pt.TP_DEPENDENCIA < 4) & (pt.ANO == int(ano)) & ((len(turmas)==0) | (pt.CO_ENTIDADE.isin(turmas)))][['CO_PESSOA_FISICA','CO_ENTIDADE']].drop_duplicates()\n",
    "    pe_fut = pt.loc[(pt.TP_DEPENDENCIA < 4) & ((len(turmas)==0) | (pt.CO_ENTIDADE.isin(turmas))) & (pt.ANO == int(anos_pesquisa[anos_pesquisa.index(str(ano))+1])) & pt.CO_PESSOA_FISICA.isin(pe_ano.CO_PESSOA_FISICA.unique())][['CO_PESSOA_FISICA','CO_ENTIDADE']].drop_duplicates()\n",
    "    pe_ano = pe_ano.loc[pe_ano.CO_PESSOA_FISICA.isin(pe_fut.CO_PESSOA_FISICA.unique())]\n",
    "    to = pe_ano.merge(pe_fut,indicator=True,on=['CO_PESSOA_FISICA','CO_ENTIDADE'],how='outer')\n",
    "    #vamos manter somente as escolas que estavam abertas nos 2 periodos\n",
    "    to = to.loc[to._merge =='left_only']\n",
    "    return to[['CO_PESSOA_FISICA','CO_ENTIDADE']],pe_ano,pe_fut\n"
   ]
  },
  {
   "cell_type": "code",
   "execution_count": null,
   "metadata": {},
   "outputs": [],
   "source": [
    "\n",
    "for ano in anos_pesquisa[:-1]:\n",
    "    t,a,f = monta_saidas(prof_df,ano)\n",
    "    p = t.shape[0]/a.shape[0] * 100\n",
    "    display(f'{ano}/{int(ano)+2} havia {a.shape[0]} professores/escola, houve {t.shape[0]} saidas ({p}%)');\n"
   ]
  },
  {
   "cell_type": "markdown",
   "metadata": {},
   "source": [
    "### Como  o turnover total foi estável no período iremos modelar somente com o biênio 2015/2017"
   ]
  },
  {
   "cell_type": "markdown",
   "metadata": {},
   "source": [
    "##### Importando dados de escolas e turmas de escolas publicas em funcionamento do DF"
   ]
  },
  {
   "cell_type": "code",
   "execution_count": null,
   "metadata": {},
   "outputs": [],
   "source": [
    "def imp_esc_dist_atv_df(ano):\n",
    "    d_esc = pd.read_csv(f'{ARQ_PATH}{ano}/ESCOLAS.CSV',sep='|',encoding='latin1',low_memory=False)\n",
    "    d_esc.fillna(-1,inplace=True)\n",
    "    d_esc = ajusta_colunas_int_df_inep(d_esc,vai_printar_cols=False)\n",
    "    d_esc['ANO'] = ano\n",
    "    return d_esc.loc[(d_esc.CO_UF == 53) & (d_esc.TP_SITUACAO_FUNCIONAMENTO == 1) & (d_esc.TP_DEPENDENCIA == 2)]\n",
    "\n",
    "escolas = imp_esc_dist_atv_df(2017).append(imp_esc_dist_atv_df(2015))\n",
    "\n",
    "escolas.head()"
   ]
  },
  {
   "cell_type": "code",
   "execution_count": null,
   "metadata": {},
   "outputs": [],
   "source": [
    "def imp_turma_esc_atv_df(ano,escolas):\n",
    "    d_tur = pd.read_csv(f'{ARQ_PATH}{ano}/TURMAS.CSV',sep='|',encoding='latin1',low_memory=False)\n",
    "    d_tur.fillna(-1,inplace=True)\n",
    "    d_tur = ajusta_colunas_int_df_inep(d_tur,vai_printar_cols=False)\n",
    "    d_tur['ANO'] = ano\n",
    "    return d_tur.loc[(d_tur.CO_ENTIDADE.isin(escolas))]\n"
   ]
  },
  {
   "cell_type": "code",
   "execution_count": null,
   "metadata": {},
   "outputs": [],
   "source": [
    "turmas = imp_turma_esc_atv_df(2015,escolas.loc[escolas.ANO == 2015].CO_ENTIDADE.unique())\\\n",
    "        .append(imp_turma_esc_atv_df(2017,escolas.loc[escolas.ANO == 2017].CO_ENTIDADE.unique()))"
   ]
  },
  {
   "cell_type": "code",
   "execution_count": null,
   "metadata": {
    "scrolled": true
   },
   "outputs": [],
   "source": [
    "display(turmas.dtypes)\n",
    "turmas.head()"
   ]
  },
  {
   "cell_type": "code",
   "execution_count": null,
   "metadata": {},
   "outputs": [],
   "source": [
    "escolas.to_csv(f'{PATH_DF_CSV}escolas_distritais_15_17_func_df.csv',index=False)\n",
    "turmas.to_csv(f'{PATH_DF_CSV}turmas_df.csv',index=False)"
   ]
  },
  {
   "cell_type": "code",
   "execution_count": null,
   "metadata": {},
   "outputs": [],
   "source": [
    "escolas = pd.read_csv(f'{PATH_DF_CSV}escolas_distritais_15_17_func_df.csv',low_memory=False)\n",
    "turmas = pd.read_csv(f'{PATH_DF_CSV}turmas_df.csv',low_memory=False)"
   ]
  },
  {
   "cell_type": "code",
   "execution_count": null,
   "metadata": {},
   "outputs": [],
   "source": [
    "#escolas distritais que estavam funcionamento em 2015 e 2017\n",
    "e17 = escolas.loc[(escolas.ANO == 2017)]['CO_ENTIDADE'].unique()\n",
    "co_e15_17 = escolas.loc[(escolas.ANO == 2015) & (escolas.CO_ENTIDADE.isin(e17))]['CO_ENTIDADE'].unique()\n",
    "display(len(e17))\n",
    "display(len(co_e15_17))"
   ]
  },
  {
   "cell_type": "code",
   "execution_count": null,
   "metadata": {},
   "outputs": [],
   "source": [
    "#turnover 2015 em escolas em funcionamento\n",
    "ano = 2015\n",
    "t,a,f = monta_saidas(prof_df,ano,turmas=co_e15_17)\n",
    "p = t.shape[0]/a.shape[0] * 100\n",
    "display(f'{ano}/{int(ano)+2} havia {a.shape[0]} professores/escola, houve {t.shape[0]} saidas ({p}%)');\n"
   ]
  },
  {
   "cell_type": "markdown",
   "metadata": {},
   "source": [
    "### <center>  Temos publico e temos a target! </center>\n",
    "\n",
    "<img src='https://media.giphy.com/media/3o6MbkNYWUzAuKmDa8/giphy.gif'>\n",
    "\n",
    "\n"
   ]
  },
  {
   "cell_type": "code",
   "execution_count": null,
   "metadata": {},
   "outputs": [],
   "source": [
    "a = a.merge(t,on=['CO_ENTIDADE','CO_PESSOA_FISICA'],indicator=True,how='left')\n",
    "a['target'] = a._merge == 'both'\n",
    "a.drop('_merge',axis=1,inplace=True)\n",
    "a['ano'] = 2015\n",
    "display(a.target.value_counts())\n"
   ]
  },
  {
   "cell_type": "code",
   "execution_count": null,
   "metadata": {},
   "outputs": [],
   "source": [
    "a.to_csv(f'{PATH_DF_CSV}prof_escola_target.csv',index=False)"
   ]
  },
  {
   "cell_type": "code",
   "execution_count": null,
   "metadata": {
    "scrolled": true
   },
   "outputs": [],
   "source": [
    "#atalho para montagem do professores\n",
    "def atalho_prof_df2015():\n",
    "    a = ajusta_colunas_int_df_inep(carrega_arquivo_docentes(f'{ARQ_PATH}2015/DOCENTES_CO.CSV'))\n",
    "    a['ANO'] = 2015\n",
    "    b = ajusta_colunas_int_df_inep(carrega_arquivo_docentes(f'{ARQ_PATH}2017/DOCENTES_CO.CSV'))\n",
    "    b['ANO'] = 2017\n",
    "    c = a.append(b)\n",
    "    c.to_csv(f'{PATH_DF_CSV}prof_df.csv',index=None)\n",
    "    del a, b\n",
    "    return c\n",
    "#prof_df = atalho_prof_df2015()\n"
   ]
  },
  {
   "cell_type": "markdown",
   "metadata": {},
   "source": [
    "### Apaga arquivos nao utilizados"
   ]
  },
  {
   "cell_type": "code",
   "execution_count": null,
   "metadata": {},
   "outputs": [],
   "source": [
    "import os\n",
    "for path, subdirs, files in os.walk(ARQ_PATH):\n",
    "    for name in files:\n",
    "        if '_' in name and not name.endswith('_CO.CSV') and name.endswith('CSV'):\n",
    "            f = os.path.join(path, name)\n",
    "            !rm -rf {f}    "
   ]
  },
  {
   "cell_type": "markdown",
   "metadata": {},
   "source": [
    "<table columns=2 style='width:100%'><tr><td><img src='img/cp_icon.png'/>\n",
    "</td><td> <h2>Check-point, importando os DataFrames para criação de features.</h2></td></tr></table>"
   ]
  },
  {
   "cell_type": "code",
   "execution_count": null,
   "metadata": {
    "scrolled": true
   },
   "outputs": [],
   "source": [
    "escolas = ajusta_colunas_int_df_inep(pd.read_csv(f'{PATH_DF_CSV}escolas_distritais_15_17_func_df.csv',low_memory=False),vai_printar_cols=False)\n",
    "turmas = ajusta_colunas_int_df_inep(pd.read_csv(f'{PATH_DF_CSV}turmas_df.csv',low_memory=False),vai_printar_cols=False)\n",
    "prof_df = ajusta_colunas_int_df_inep(pd.read_csv(f'{PATH_DF_CSV}prof_df.csv',low_memory=False),vai_printar_cols=False)\n",
    "pss_ano = None\n",
    "try:\n",
    "    pss_ano= ajusta_colunas_int_df_inep(pd.read_csv(f'{PATH_DF_CSV}pessoas_prof_df.csv',low_memory=False),vai_printar_cols=False)\n",
    "except Exception as e:\n",
    "    print(f'Erro na importacao de pss_ano{e}')\n",
    "    pass\n",
    "pet = ajusta_colunas_int_df_inep(pd.read_csv(f'{PATH_DF_CSV}prof_escola_target.csv',low_memory=False),vai_printar_cols=False)"
   ]
  },
  {
   "cell_type": "markdown",
   "metadata": {},
   "source": [
    "## 02. Criação de features para o estudo\n",
    "\n",
    "- Localizacao:\n",
    "    * criminalidade\n",
    "    * linhas de onibus\n",
    "    * contexto social (setor censitario)\n",
    "- Infra da escola\n",
    "    * situacao da escola\n",
    "- Turma\n",
    "    * alunos\n",
    "    * disciplina da turma x displina de formacao\n",
    "\n",
    "\n"
   ]
  },
  {
   "cell_type": "markdown",
   "metadata": {},
   "source": [
    "#### Iremos começar com os dados que já temos (escolas e turmas).\n",
    "\n",
    "- Selecionando features das escolas, professores e turmas."
   ]
  },
  {
   "cell_type": "code",
   "execution_count": null,
   "metadata": {
    "scrolled": true
   },
   "outputs": [],
   "source": [
    "list(map(print,prof_df.columns));\n"
   ]
  },
  {
   "cell_type": "code",
   "execution_count": null,
   "metadata": {
    "scrolled": true
   },
   "outputs": [],
   "source": [
    "list(map(print,turmas.columns))\n",
    "cols_sel = [\n",
    "    'CO_TIPO_ATIVIDADE_1',    'CO_TIPO_ATIVIDADE_2',    'CO_TIPO_ATIVIDADE_3',\n",
    "'CO_TIPO_ATIVIDADE_4','CO_TIPO_ATIVIDADE_5','CO_TIPO_ATIVIDADE_6',\n",
    "'ID_TURMA','IN_AUTONOMIA_ESCOLAR','IN_BRAILLE',\n",
    "'IN_COMUNICACAO_ALT_AUMENT','IN_CONVENIADA_PP',\n",
    "'IN_DIA_SEMANA_DOMINGO','IN_DIA_SEMANA_QUARTA',\n",
    "'IN_DIA_SEMANA_QUINTA','IN_DIA_SEMANA_SABADO',\n",
    "'IN_DIA_SEMANA_SEGUNDA','IN_DIA_SEMANA_SEXTA',\n",
    "'IN_DIA_SEMANA_TERCA','IN_DISC_ARTES',\n",
    "'IN_DISC_ATENDIMENTO_ESPECIAIS','IN_DISC_BIOLOGIA',\n",
    "'IN_DISC_CIENCIAS','IN_DISC_DIVER_SOCIO_CULTURAL',\n",
    "'IN_DISC_EDUCACAO_FISICA','IN_DISC_ENSINO_RELIGIOSO',\n",
    "'IN_DISC_ESTUDOS_SOCIAIS','IN_DISC_EST_SOCIAIS_SOCIOLOGIA',\n",
    "'IN_DISC_FILOSOFIA','IN_DISC_FISICA',\n",
    "'IN_DISC_GEOGRAFIA','IN_DISC_HISTORIA',\n",
    "'IN_DISC_INFORMATICA_COMPUTACAO','IN_DISC_LIBRAS',\n",
    "'IN_DISC_LINGUA_ESPANHOL','IN_DISC_LINGUA_FRANCES',\n",
    "'IN_DISC_LINGUA_INDIGENA','IN_DISC_LINGUA_INGLES',\n",
    "'IN_DISC_LINGUA_OUTRA','IN_DISC_LINGUA_PORTUGUESA',\n",
    "'IN_DISC_MATEMATICA','IN_DISC_OUTRAS',\n",
    "'IN_DISC_PEDAGOGICAS','IN_DISC_PROFISSIONALIZANTE',\n",
    "'IN_DISC_QUIMICA','IN_DISC_SOCIOLOGIA',\n",
    "'IN_EDUCACAO_INDIGENA','IN_EJA',\n",
    "'IN_ENRIQ_CURRICULAR','IN_ESPECIAL_EXCLUSIVA',\n",
    "'IN_INFORMATICA_ACESSIVEL','IN_MAIS_EDUCACAO',\n",
    "'IN_ORIENTACAO_MOBILIDADE',\n",
    "'IN_PORT_ESCRITA','IN_PROCESSOS_MENTAIS',\n",
    "'IN_PROFISSIONALIZANTE','IN_RECURSOS_BAIXA_VISAO',\n",
    "'IN_REGULAR','IN_SINAIS','IN_SOROBAN','NU_DIAS_ATIVIDADE',\n",
    "'NU_DURACAO_TURMA','NU_MATRICULAS','TX_HR_INICIAL'\n",
    "]\n",
    "ft_turmas = turmas.loc[turmas.ANO == 2015][cols_sel].set_index('ID_TURMA')\n",
    "\n",
    "qtd_turmas = ft_turmas.shape[0]\n",
    "dc = []\n",
    "ft_turmas['IN_MANHA'] = (ft_turmas.TX_HR_INICIAL < 12).astype(np.int8)\n",
    "ft_turmas['IN_TARDE'] = ((ft_turmas.TX_HR_INICIAL >= 12) & (ft_turmas.TX_HR_INICIAL < 18)).astype(np.int8)\n",
    "ft_turmas['IN_NOITE'] = (ft_turmas.TX_HR_INICIAL >= 18).astype(np.int8)\n",
    "dc.append('TX_HR_INICIAL')\n",
    "display(ft_turmas.shape)\n",
    "for c in ft_turmas.columns:\n",
    "    if stats.mode(ft_turmas[c])[1] / qtd_turmas > 0.9:\n",
    "        dc.append(c)\n",
    "ft_turmas.drop(dc,axis=1,inplace=True)\n",
    "display(ft_turmas.head())\n",
    "display(ft_turmas.shape)"
   ]
  },
  {
   "cell_type": "code",
   "execution_count": null,
   "metadata": {},
   "outputs": [],
   "source": [
    "profs = prof_df.loc[prof_df.ANO == 2015][['CO_PESSOA_FISICA','ID_TURMA','CO_ENTIDADE']]\n"
   ]
  },
  {
   "cell_type": "code",
   "execution_count": null,
   "metadata": {},
   "outputs": [],
   "source": [
    "display(profs.shape)\n",
    "a = profs.merge(ft_turmas,on='ID_TURMA')\n",
    "b = a.groupby(['CO_PESSOA_FISICA','CO_ENTIDADE'])[[c for c in a.columns if c.startswith('IN_') or c.startswith('NU_')]].sum()\n",
    "b.columns = ['SUM_TURMA_' + c for c in b.columns]\n",
    "\n",
    "d = a.groupby(['CO_PESSOA_FISICA','CO_ENTIDADE'])[[c for c in a.columns if c.startswith('NU_')]].max()\n",
    "d.columns = ['MAX_TURMA_' + c for c in d.columns]\n",
    "e = a.groupby(['CO_PESSOA_FISICA','CO_ENTIDADE'])[[c for c in a.columns if c.startswith('NU_')]].min()\n",
    "e.columns = ['MIN_TURMA_' + c for c in e.columns]\n",
    "\n",
    "b = b.merge(d,right_index=True,left_index=True)\n",
    "prof_escolas = b.merge(e,right_index=True,left_index=True)\n",
    "del a, b, d, e\n",
    "display(prof_escolas.shape)\n",
    "prof_escolas.head()"
   ]
  },
  {
   "cell_type": "code",
   "execution_count": null,
   "metadata": {
    "scrolled": true
   },
   "outputs": [],
   "source": [
    "#so interessa a situacao da escola no momento de analise da saida\n",
    "list(map(print,escolas.columns));\n"
   ]
  },
  {
   "cell_type": "code",
   "execution_count": null,
   "metadata": {},
   "outputs": [],
   "source": [
    "ft_escolas = escolas.loc[escolas.NU_ANO_CENSO == 2015]\n",
    "ft_escolas['NUM_DD_AULAS'] = (pd.to_datetime(ft_escolas.DT_ANO_LETIVO_TERMINO) - pd.to_datetime(ft_escolas.DT_ANO_LETIVO_INICIO)).dt.days\n",
    "ft_escolas['NUM_DD_AULAS'].head()\n",
    "cols_sel =['CO_ENTIDADE','CO_ORGAO_REGIONAL','TP_LOCALIZACAO',\n",
    "           'TP_OCUPACAO_PREDIO_ESCOLAR','TP_OCUPACAO_GALPAO',\n",
    "          'TP_ATIVIDADE_COMPLEMENTAR']\n",
    "ft_escolas = ft_escolas[cols_sel +[c for c in ft_escolas.columns if c.startswith('IN_') or c.startswith('NU')]]\n",
    "ft_escolas.set_index('CO_ENTIDADE',inplace=True)\n",
    "#vamos as os indicadores que estao em mais de 90% das escolas.\n",
    "print(ft_escolas.shape)\n",
    "cols = ft_escolas.columns\n",
    "qtd_esc = ft_escolas.shape[0]\n",
    "dc = []\n",
    "for c in cols:\n",
    "    if stats.mode(ft_escolas[c])[1] / qtd_esc > 0.9:\n",
    "        dc.append(c)\n",
    "ft_escolas.drop(dc,axis=1,inplace=True)\n",
    "display(ft_escolas.head())\n",
    "print(ft_escolas.shape)\n"
   ]
  },
  {
   "cell_type": "code",
   "execution_count": null,
   "metadata": {
    "scrolled": true
   },
   "outputs": [],
   "source": [
    "display(ft_escolas.dtypes)"
   ]
  },
  {
   "cell_type": "code",
   "execution_count": null,
   "metadata": {},
   "outputs": [],
   "source": [
    "ft_escolas['PC_SALAS_UTILIZADAS'] = (ft_escolas.NU_SALAS_UTILIZADAS/ft_escolas.NU_SALAS_EXISTENTES)\\\n",
    "                                    .astype(np.float16)\n",
    "ft_escolas['NU_TTL_MATRICLAS'] = turmas.groupby('CO_ENTIDADE').NU_MATRICULAS.sum()\n",
    "ft_escolas['NU_PROFESSORES'] = prof_df.groupby('CO_ENTIDADE')['CO_PESSOA_FISICA'].count()\n",
    "cd = []\n",
    "for c in ft_escolas.columns:\n",
    "    if c.startswith('NU_') and c!= 'NU_TTL_MATRICLAS':\n",
    "        ft_escolas[f'{c}_PER_MATRICULA'] = ft_escolas[c]/ft_escolas['NU_TTL_MATRICLAS']\n",
    "        cd.append(c)\n",
    "ft_escolas.drop(c,axis=1,inplace=True)\n",
    "display(ft_escolas.shape)\n",
    "display(ft_escolas.head())"
   ]
  },
  {
   "cell_type": "code",
   "execution_count": null,
   "metadata": {},
   "outputs": [],
   "source": [
    "prof_escolas = prof_escolas.reset_index().merge(ft_escolas.reset_index(),on='CO_ENTIDADE').set_index(['CO_PESSOA_FISICA','CO_ENTIDADE'])"
   ]
  },
  {
   "cell_type": "code",
   "execution_count": null,
   "metadata": {},
   "outputs": [],
   "source": [
    "display(prof_escolas.shape)\n",
    "display(prof_escolas.head())"
   ]
  },
  {
   "cell_type": "code",
   "execution_count": null,
   "metadata": {},
   "outputs": [],
   "source": [
    "model_vars = prof_escolas.reset_index().merge(pet.drop('ano',axis=1),on=['CO_PESSOA_FISICA','CO_ENTIDADE'])"
   ]
  },
  {
   "cell_type": "code",
   "execution_count": null,
   "metadata": {
    "scrolled": true
   },
   "outputs": [],
   "source": [
    "qtd_esc = model_vars.shape[0]\n",
    "dc = []\n",
    "for c in model_vars.columns:\n",
    "    if stats.mode(model_vars[c])[1] / qtd_esc > 0.9:\n",
    "        dc.append(c)\n",
    "    else:\n",
    "        display(c)\n",
    "        model_vars[c].hist()\n",
    "        plt.show()\n",
    "print(dc)"
   ]
  },
  {
   "cell_type": "markdown",
   "metadata": {},
   "source": [
    "### Dados de:\n",
    "01. Alunos que compoe as turmas que o professor da aula.\n"
   ]
  },
  {
   "cell_type": "markdown",
   "metadata": {},
   "source": [
    "#### Alunos que compoe as turmas"
   ]
  },
  {
   "cell_type": "code",
   "execution_count": null,
   "metadata": {
    "scrolled": false
   },
   "outputs": [],
   "source": [
    "a = ajusta_colunas_int_df_inep(carrega_arquivo_inep(f'{ARQ_PATH}2015/MATRICULA_CO.CSV'))"
   ]
  },
  {
   "cell_type": "code",
   "execution_count": null,
   "metadata": {},
   "outputs": [],
   "source": [
    "display(a.shape)\n",
    "display(a.head(2).T)"
   ]
  },
  {
   "cell_type": "code",
   "execution_count": null,
   "metadata": {},
   "outputs": [],
   "source": [
    "alunos = a.loc[a.CO_ENTIDADE.isin(pet.CO_ENTIDADE.unique()) & a.ID_TURMA.isin(profs.ID_TURMA.unique())]\n",
    "#del a"
   ]
  },
  {
   "cell_type": "code",
   "execution_count": null,
   "metadata": {
    "scrolled": true
   },
   "outputs": [],
   "source": [
    "alunos['IN_H0MEM'] = (alunos.TP_SEXO == 1).astype(np.int8)\n",
    "alunos['IN_TERRA_NATAL'] = alunos.CO_MUNICIPIO_NASC == alunos.CO_MUNICIPIO_END\n",
    "alunos['IN_ONIBUS'] = alunos.TP_RESPONSAVEL_TRANSPORTE.notna()\n",
    "alunos = alunos.merge(pd.get_dummies(alunos.TP_COR_RACA,prefix='IN_TP_COR_RACA',dtype=np.int8),right_index=True, left_index=True)\n",
    "display(alunos.shape)\n",
    "list(map(print,alunos.columns));"
   ]
  },
  {
   "cell_type": "code",
   "execution_count": null,
   "metadata": {},
   "outputs": [],
   "source": [
    "cols_count = ['CO_PESSOA_FISICA']\n",
    "cols_soma = [f'IN_TP_COR_RACA_{i}' for i in range(0,6)]\n",
    "cols_media = ['IN_ONIBUS','IN_TERRA_NATAL','IN_H0MEM','NU_IDADE']\n",
    "\n",
    "cols_gb = ['CO_ENTIDADE','ID_TURMA']\n",
    "a = alunos.groupby(cols_gb)\n",
    "c = a[cols_count].count()\n",
    "c.columns = [f'ALUNO_COUNT_{col}' for col in c.columns]\n",
    "s = a[cols_soma].sum()\n",
    "s.columns = [f'ALUNO_SUM_{col}' for col in s.columns]\n",
    "m = a[cols_media].mean()\n",
    "m.columns = [f'ALUNO_MEAN_{col}' for col in m.columns]\n",
    "turma_alunos = c.merge(s,left_index=True,right_index=True).merge(m,left_index=True,right_index=True)\n",
    "del a,c,s,m\n",
    "display(turma_alunos.shape)\n",
    "display(turma_alunos.head())"
   ]
  },
  {
   "cell_type": "code",
   "execution_count": null,
   "metadata": {},
   "outputs": [],
   "source": [
    "turma_alunos.ALUNO_COUNT_CO_PESSOA_FISICA = turma_alunos.ALUNO_COUNT_CO_PESSOA_FISICA.clip_upper(50)\n",
    "for c in turma_alunos.columns:\n",
    "    if c.startswith('ALUNO_SUM_IN'):\n",
    "        turma_alunos[c] = turma_alunos.clip_upper(50)"
   ]
  },
  {
   "cell_type": "markdown",
   "metadata": {},
   "source": [
    "#### Dados para cruzar professores com turmas"
   ]
  },
  {
   "cell_type": "code",
   "execution_count": null,
   "metadata": {
    "scrolled": false
   },
   "outputs": [],
   "source": [
    "p15 = ajusta_colunas_int_df_inep(carrega_arquivo_inep(f'{ARQ_PATH}2015/DOCENTES_CO.CSV'))\n",
    "p15 = p15.loc[p15.CO_PESSOA_FISICA.isin(pet.CO_PESSOA_FISICA)]\n"
   ]
  },
  {
   "cell_type": "code",
   "execution_count": null,
   "metadata": {
    "scrolled": false
   },
   "outputs": [],
   "source": [
    "p15r = monta_df_professores_vs17_resu(p15)\n"
   ]
  },
  {
   "cell_type": "code",
   "execution_count": null,
   "metadata": {},
   "outputs": [],
   "source": [
    "p15r.reset_index(inplace=True)\n",
    "p15r.columns = [f'PROF_{c}' for c in p15r.columns ]"
   ]
  },
  {
   "cell_type": "code",
   "execution_count": null,
   "metadata": {},
   "outputs": [],
   "source": [
    "list(map(print,p15r.columns));"
   ]
  },
  {
   "cell_type": "code",
   "execution_count": null,
   "metadata": {},
   "outputs": [],
   "source": [
    "a = turma_alunos.reset_index().merge(profs,on=cols_gb)\n",
    "a.columns = [c for c in a.columns[:-1]] + ['PROF_CO_PESSOA_FISICA']\n",
    "b = p15r[['PROF_CO_PESSOA_FISICA','PROF_TP_COR_RACA','PROF_IN_CIDADE_NATAL',\\\n",
    "          'PROF_NUM_TTL_GRAD','PROF_NUM_QTD_ESCOLAS','PROF_NUM_QTD_TURMAS',\\\n",
    "         'PROF_IN_LECIONA_PUBLICA','PROF_IN_LECIONA_PRIVADA']]\n",
    "c = a.merge(b,on='PROF_CO_PESSOA_FISICA')\n",
    "#Acabei de descobrir que a cor raca na tabela de matriculas eh a cor/raca do professor \n",
    "#e nao dos alunos...\n",
    "\n",
    "c['TURMA_NUM_ALUNOS_COR_RACA_PROF'] = c.apply(lambda x: None if np.isnan(x['PROF_TP_COR_RACA']) else x['ALUNO_SUM_IN_TP_COR_RACA_'+str(int(x['PROF_TP_COR_RACA']))] ,axis=1)\n",
    "c['TURMA_PROP_ALUNOS_COR_RACA_PROF'] = c.TURMA_NUM_ALUNOS_COR_RACA_PROF.clip_upper(50) / c.ALUNO_COUNT_CO_PESSOA_FISICA\n",
    "display(c.TURMA_PROP_ALUNOS_COR_RACA_PROF.value_counts())\n",
    "c.TURMA_PROP_ALUNOS_COR_RACA_PROF.hist(bins=50);"
   ]
  },
  {
   "cell_type": "code",
   "execution_count": null,
   "metadata": {},
   "outputs": [],
   "source": [
    "pet.columns"
   ]
  },
  {
   "cell_type": "code",
   "execution_count": null,
   "metadata": {
    "scrolled": true
   },
   "outputs": [],
   "source": [
    "a = turma_alunos.reset_index().merge(profs,on=cols_gb)\n",
    "a = a[[c for c in a.columns if 'COR_RACA' not in c]]\n",
    "a.columns = [c for c in a.columns[:-1]] + ['PROF_CO_PESSOA_FISICA']\n",
    "b = p15r[['PROF_CO_PESSOA_FISICA','PROF_TP_COR_RACA','PROF_IN_CIDADE_NATAL',\\\n",
    "          'PROF_NUM_TTL_GRAD','PROF_NUM_QTD_ESCOLAS','PROF_NUM_QTD_TURMAS',\\\n",
    "         'PROF_IN_LECIONA_PUBLICA','PROF_IN_LECIONA_PRIVADA']]\n",
    "c = a.merge(b,on='PROF_CO_PESSOA_FISICA')\n",
    "d = c.groupby(['PROF_CO_PESSOA_FISICA','CO_ENTIDADE'])\n",
    "del a,b\n",
    "e = d[['ALUNO_COUNT_CO_PESSOA_FISICA']].mean()\n",
    "cols_min = ['ALUNO_MEAN_IN_ONIBUS','ALUNO_MEAN_IN_TERRA_NATAL','ALUNO_MEAN_IN_H0MEM','ALUNO_MEAN_NU_IDADE']\n",
    "f = d[cols_min].min()\n",
    "f.columns = [f'MIN_{c}' for c in f.columns]\n",
    "cols_max = cols_min\n",
    "g = d[cols_max].max()\n",
    "g.columns = [f'MAX_{c}' for c in g.columns]\n",
    "\n",
    "model_vars = model_vars.merge(e.reset_index(),left_on=['CO_PESSOA_FISICA', 'CO_ENTIDADE'],right_on=['PROF_CO_PESSOA_FISICA', 'CO_ENTIDADE'])\\\n",
    ".merge(f.reset_index(),left_on=['CO_PESSOA_FISICA', 'CO_ENTIDADE'],right_on=['PROF_CO_PESSOA_FISICA', 'CO_ENTIDADE'])\\\n",
    ".merge(g.reset_index(),left_on=['CO_PESSOA_FISICA', 'CO_ENTIDADE'],right_on=['PROF_CO_PESSOA_FISICA', 'CO_ENTIDADE'])\n",
    "   "
   ]
  },
  {
   "cell_type": "code",
   "execution_count": null,
   "metadata": {
    "scrolled": true
   },
   "outputs": [],
   "source": [
    "model_vars = model_vars[[c for c in model_vars.columns if not c.endswith('_x') and not c.endswith('_y')]]"
   ]
  },
  {
   "cell_type": "code",
   "execution_count": null,
   "metadata": {
    "scrolled": false
   },
   "outputs": [],
   "source": [
    "list(map(print,model_vars.columns));"
   ]
  },
  {
   "cell_type": "code",
   "execution_count": null,
   "metadata": {},
   "outputs": [],
   "source": [
    "model_vars.to_csv(f'{PATH_DF_CSV}model_vars.csv')"
   ]
  },
  {
   "cell_type": "markdown",
   "metadata": {},
   "source": [
    "\n",
    "<table columns=2 style='width:100%'><tr><td><img src='img/cp_icon.png'/>\n",
    "</td><td> <h2>Check-point, criação de features da vizinhança da escola a partir dos dados do censo de 2010.</h2></td></tr></table>\n"
   ]
  },
  {
   "cell_type": "code",
   "execution_count": null,
   "metadata": {},
   "outputs": [],
   "source": [
    "model_vars = pd.read_csv(f'{PATH_DF_CSV}model_vars.csv',index_col=['CO_PESSOA_FISICA','CO_ENTIDADE'])"
   ]
  },
  {
   "cell_type": "code",
   "execution_count": null,
   "metadata": {
    "code_folding": []
   },
   "outputs": [],
   "source": [
    "escolas = pd.read_csv(f'{CSV_PATH}lclz_df/DADOS_ESCOLAS_PUBLICAS.csv')"
   ]
  },
  {
   "cell_type": "code",
   "execution_count": null,
   "metadata": {},
   "outputs": [],
   "source": [
    "escolas = escolas[escolas.CO_ENTIDADE.isin(model_vars.reset_index().CO_ENTIDADE.unique())]\n",
    "escolas.shape"
   ]
  },
  {
   "cell_type": "code",
   "execution_count": null,
   "metadata": {
    "scrolled": false
   },
   "outputs": [],
   "source": [
    "escolas.PRECISAO.value_counts().plot.bar()"
   ]
  },
  {
   "cell_type": "code",
   "execution_count": null,
   "metadata": {},
   "outputs": [],
   "source": [
    "esc = escolas.loc[escolas.PREC_BOA == 1]['CO_ENTIDADE'].values\n",
    "m = model_vars.reset_index()\n"
   ]
  },
  {
   "cell_type": "code",
   "execution_count": null,
   "metadata": {},
   "outputs": [],
   "source": [
    "m.loc[m.CO_ENTIDADE.isin(esc)].target.value_counts()"
   ]
  },
  {
   "cell_type": "code",
   "execution_count": null,
   "metadata": {},
   "outputs": [],
   "source": [
    "#parece razoavel essa localizacao, iremos utiliza-la"
   ]
  },
  {
   "cell_type": "code",
   "execution_count": null,
   "metadata": {},
   "outputs": [],
   "source": [
    "model_vars = m.loc[m.CO_ENTIDADE.isin(esc)].set_index(['CO_PESSOA_FISICA','CO_ENTIDADE'])"
   ]
  },
  {
   "cell_type": "markdown",
   "metadata": {},
   "source": [
    "### Dados das redondezas da escola"
   ]
  },
  {
   "cell_type": "code",
   "execution_count": null,
   "metadata": {
    "scrolled": false
   },
   "outputs": [],
   "source": [
    "dsc = dados_setor_censitario(f'{CSV_PATH}lclz_df/censo_df/dados/',glob(f'{CSV_PATH}lclz_df/censo_df/*.shp')[0],escolas)"
   ]
  },
  {
   "cell_type": "code",
   "execution_count": null,
   "metadata": {
    "scrolled": true
   },
   "outputs": [],
   "source": [
    "dsc.head(2).T"
   ]
  },
  {
   "cell_type": "code",
   "execution_count": null,
   "metadata": {},
   "outputs": [],
   "source": [
    "dsc.shape"
   ]
  },
  {
   "cell_type": "code",
   "execution_count": null,
   "metadata": {},
   "outputs": [],
   "source": [
    "dsc.set_index(['CO_ENTIDADE','CO_SETOR_CENSITARIO'],inplace=True)\n"
   ]
  },
  {
   "cell_type": "code",
   "execution_count": null,
   "metadata": {
    "scrolled": true
   },
   "outputs": [],
   "source": [
    "for c in dsc.columns:\n",
    "    display(f'{c} - {int(sum(dsc[c].isna())/dsc.shape[0] * 100)}')\n",
    "    dsc[c].hist(bins=50)\n",
    "    plt.show()"
   ]
  },
  {
   "cell_type": "markdown",
   "metadata": {},
   "source": [
    "As variaveis area media domicilio, densidade demografica e sit setor apresentaram baixa variabilidade, portanto serao retiradas do modelo.\n",
    "\n",
    "np.nan representam somente 1% da base, portanto tambem serao retirados."
   ]
  },
  {
   "cell_type": "code",
   "execution_count": null,
   "metadata": {},
   "outputs": [],
   "source": [
    "esc_setores = dsc.copy()"
   ]
  },
  {
   "cell_type": "code",
   "execution_count": null,
   "metadata": {},
   "outputs": [],
   "source": [
    "esc_setores.drop(['area_media_domicilio','densidade_demografica','sit_setor'],axis=1,inplace=True)"
   ]
  },
  {
   "cell_type": "code",
   "execution_count": null,
   "metadata": {},
   "outputs": [],
   "source": [
    "esc_setores.dropna(inplace=True)"
   ]
  },
  {
   "cell_type": "code",
   "execution_count": null,
   "metadata": {},
   "outputs": [],
   "source": [
    "esc_setores.shape"
   ]
  },
  {
   "cell_type": "markdown",
   "metadata": {},
   "source": [
    "### Agregando informacoes dos setores por escola"
   ]
  },
  {
   "cell_type": "code",
   "execution_count": null,
   "metadata": {},
   "outputs": [],
   "source": [
    "esc_setores.reset_index(inplace=True)\n",
    "esc_setores.columns"
   ]
  },
  {
   "cell_type": "code",
   "execution_count": null,
   "metadata": {},
   "outputs": [],
   "source": [
    "e = esc_setores.groupby('CO_ENTIDADE')\n"
   ]
  },
  {
   "cell_type": "code",
   "execution_count": null,
   "metadata": {},
   "outputs": [],
   "source": [
    "qtds = e[['CO_SETOR_CENSITARIO']].nunique()\n",
    "qtds.columns = [f'QTD_{col}' for col in qtds.columns ]\n",
    "somas = e[[col for col in esc_setores.columns if col.startswith('qtd')]].sum()\n",
    "somas.columns = [f'SUM_{col}' for col in somas.columns ]\n",
    "maximos = e[[col for col in esc_setores.columns if col.startswith('qtd')] + ['renda_media_dom','DISTANCIA_SETOR_ENTIDADE']].max()\n",
    "maximos.columns = [f'MAX_{col}' for col in maximos.columns ]\n",
    "minimos = e[[col for col in esc_setores.columns if col.startswith('qtd')] + ['renda_media_dom','DISTANCIA_SETOR_ENTIDADE']].min()\n",
    "minimos.columns = [f'MIN_{col}' for col in minimos.columns ]\n"
   ]
  },
  {
   "cell_type": "code",
   "execution_count": null,
   "metadata": {},
   "outputs": [],
   "source": [
    "md = model_vars.reset_index().merge(qtds,left_on='CO_ENTIDADE',right_index=True)\\\n",
    ".merge(somas,left_on='CO_ENTIDADE',right_index=True)\\\n",
    ".merge(maximos,left_on='CO_ENTIDADE',right_index=True)\\\n",
    ".merge(minimos,left_on='CO_ENTIDADE',right_index=True)"
   ]
  },
  {
   "cell_type": "code",
   "execution_count": null,
   "metadata": {
    "scrolled": false
   },
   "outputs": [],
   "source": [
    "model_vars = md.set_index(['CO_PESSOA_FISICA', 'CO_ENTIDADE'])"
   ]
  },
  {
   "cell_type": "code",
   "execution_count": null,
   "metadata": {
    "scrolled": true
   },
   "outputs": [],
   "source": [
    "[print(col) for col in model_vars.columns];"
   ]
  },
  {
   "cell_type": "code",
   "execution_count": null,
   "metadata": {},
   "outputs": [],
   "source": [
    "display(model_vars.groupby('target')[model_vars.columns[0]].count())\n",
    "display(model_vars.shape)"
   ]
  },
  {
   "cell_type": "code",
   "execution_count": null,
   "metadata": {},
   "outputs": [],
   "source": [
    "model_vars = model_vars[[c for c in model_vars.columns[1:]]]\n",
    "model_vars.head()"
   ]
  },
  {
   "cell_type": "code",
   "execution_count": null,
   "metadata": {},
   "outputs": [],
   "source": [
    "escolas = ajusta_colunas_int_df_inep(pd.read_csv(f'{PATH_DF_CSV}escolas_distritais_15_17_func_df.csv',low_memory=False),vai_printar_cols=False)\n",
    "model_vars = model_vars.merge(escolas.loc[escolas.NU_ANO_CENSO==2015][['NO_ENTIDADE','CO_ENTIDADE']],on='CO_ENTIDADE')\n"
   ]
  },
  {
   "cell_type": "code",
   "execution_count": null,
   "metadata": {},
   "outputs": [],
   "source": [
    "ras = pd.read_csv(f'{CSV_PATH}lclz_df/RA_DF.csv',index_col='cod')\n",
    "model_vars = model_vars.merge(ras,left_on='CO_ORGAO_REGIONAL',right_index=True)\n"
   ]
  },
  {
   "cell_type": "code",
   "execution_count": null,
   "metadata": {},
   "outputs": [],
   "source": [
    "model_vars.to_csv(f'{PATH_DF_CSV}model_vars.csv')"
   ]
  },
  {
   "cell_type": "markdown",
   "metadata": {},
   "source": [
    "Ainda poderiamos acrescentar dados de: \n",
    "- Torre de celular \n",
    "- Minha casa, minha vida\n",
    "- Areas em risco de alagamento\n",
    "- Criminalidade por Regiao Administrativa\n",
    "Mas vamos continuar, caso o modelo nao performe acrescentaremos essas features."
   ]
  },
  {
   "cell_type": "markdown",
   "metadata": {},
   "source": [
    "### <center> Fim da geração de features, início da investigação </center>\n",
    "\n",
    "<img src='https://media.giphy.com/media/3orieUe6ejxSFxYCXe/giphy.gif'/>"
   ]
  },
  {
   "cell_type": "markdown",
   "metadata": {},
   "source": [
    "<table><tr><td><img src='img/cp_icon.png'/></td><td>\n",
    "\n",
    "## Checkpoint</td></tr>\n",
    "\n"
   ]
  },
  {
   "cell_type": "code",
   "execution_count": 6,
   "metadata": {},
   "outputs": [
    {
     "data": {
      "text/plain": [
       "(11461, 196)"
      ]
     },
     "metadata": {},
     "output_type": "display_data"
    },
    {
     "data": {
      "text/html": [
       "<div>\n",
       "<style scoped>\n",
       "    .dataframe tbody tr th:only-of-type {\n",
       "        vertical-align: middle;\n",
       "    }\n",
       "\n",
       "    .dataframe tbody tr th {\n",
       "        vertical-align: top;\n",
       "    }\n",
       "\n",
       "    .dataframe thead th {\n",
       "        text-align: right;\n",
       "    }\n",
       "</style>\n",
       "<table border=\"1\" class=\"dataframe\">\n",
       "  <thead>\n",
       "    <tr style=\"text-align: right;\">\n",
       "      <th></th>\n",
       "      <th>CO_PESSOA_FISICA</th>\n",
       "      <th>CO_ENTIDADE</th>\n",
       "      <th>SUM_TURMA_IN_DIA_SEMANA_QUARTA</th>\n",
       "      <th>SUM_TURMA_IN_DIA_SEMANA_QUINTA</th>\n",
       "      <th>SUM_TURMA_IN_DIA_SEMANA_SEGUNDA</th>\n",
       "      <th>SUM_TURMA_IN_DIA_SEMANA_SEXTA</th>\n",
       "      <th>SUM_TURMA_IN_DIA_SEMANA_TERCA</th>\n",
       "      <th>SUM_TURMA_IN_DISC_ARTES</th>\n",
       "      <th>SUM_TURMA_IN_DISC_BIOLOGIA</th>\n",
       "      <th>SUM_TURMA_IN_DISC_CIENCIAS</th>\n",
       "      <th>...</th>\n",
       "      <th>MIN_qtd_pss_abx_12</th>\n",
       "      <th>MIN_qtd_pss_acima_65</th>\n",
       "      <th>MIN_qtd_pss_acima_90</th>\n",
       "      <th>MIN_qtd_quitados</th>\n",
       "      <th>MIN_renda_media_dom</th>\n",
       "      <th>MIN_DISTANCIA_SETOR_ENTIDADE</th>\n",
       "      <th>LAT</th>\n",
       "      <th>LONG</th>\n",
       "      <th>NO_ENTIDADE</th>\n",
       "      <th>dcr</th>\n",
       "    </tr>\n",
       "  </thead>\n",
       "  <tbody>\n",
       "    <tr>\n",
       "      <th>0</th>\n",
       "      <td>115143629100</td>\n",
       "      <td>53006461</td>\n",
       "      <td>1</td>\n",
       "      <td>1</td>\n",
       "      <td>1</td>\n",
       "      <td>1</td>\n",
       "      <td>1</td>\n",
       "      <td>1</td>\n",
       "      <td>-1</td>\n",
       "      <td>1</td>\n",
       "      <td>...</td>\n",
       "      <td>11.00</td>\n",
       "      <td>1.00</td>\n",
       "      <td>0.00</td>\n",
       "      <td>4.00</td>\n",
       "      <td>2214.72</td>\n",
       "      <td>0.34</td>\n",
       "      <td>-15.68</td>\n",
       "      <td>-47.85</td>\n",
       "      <td>EC MONJOLO</td>\n",
       "      <td>Planaltina</td>\n",
       "    </tr>\n",
       "    <tr>\n",
       "      <th>1</th>\n",
       "      <td>123364559430</td>\n",
       "      <td>53006461</td>\n",
       "      <td>1</td>\n",
       "      <td>1</td>\n",
       "      <td>1</td>\n",
       "      <td>1</td>\n",
       "      <td>1</td>\n",
       "      <td>1</td>\n",
       "      <td>-1</td>\n",
       "      <td>1</td>\n",
       "      <td>...</td>\n",
       "      <td>11.00</td>\n",
       "      <td>1.00</td>\n",
       "      <td>0.00</td>\n",
       "      <td>4.00</td>\n",
       "      <td>2214.72</td>\n",
       "      <td>0.34</td>\n",
       "      <td>-15.68</td>\n",
       "      <td>-47.85</td>\n",
       "      <td>EC MONJOLO</td>\n",
       "      <td>Planaltina</td>\n",
       "    </tr>\n",
       "    <tr>\n",
       "      <th>2</th>\n",
       "      <td>124015691384</td>\n",
       "      <td>53006461</td>\n",
       "      <td>1</td>\n",
       "      <td>1</td>\n",
       "      <td>1</td>\n",
       "      <td>1</td>\n",
       "      <td>1</td>\n",
       "      <td>1</td>\n",
       "      <td>-1</td>\n",
       "      <td>1</td>\n",
       "      <td>...</td>\n",
       "      <td>11.00</td>\n",
       "      <td>1.00</td>\n",
       "      <td>0.00</td>\n",
       "      <td>4.00</td>\n",
       "      <td>2214.72</td>\n",
       "      <td>0.34</td>\n",
       "      <td>-15.68</td>\n",
       "      <td>-47.85</td>\n",
       "      <td>EC MONJOLO</td>\n",
       "      <td>Planaltina</td>\n",
       "    </tr>\n",
       "    <tr>\n",
       "      <th>3</th>\n",
       "      <td>113142990185</td>\n",
       "      <td>53014308</td>\n",
       "      <td>8</td>\n",
       "      <td>8</td>\n",
       "      <td>8</td>\n",
       "      <td>8</td>\n",
       "      <td>8</td>\n",
       "      <td>8</td>\n",
       "      <td>0</td>\n",
       "      <td>8</td>\n",
       "      <td>...</td>\n",
       "      <td>11.00</td>\n",
       "      <td>0.00</td>\n",
       "      <td>0.00</td>\n",
       "      <td>6.00</td>\n",
       "      <td>618.57</td>\n",
       "      <td>0.33</td>\n",
       "      <td>-15.91</td>\n",
       "      <td>-47.78</td>\n",
       "      <td>CED POMPILIO MARQUES DE SOUZA</td>\n",
       "      <td>Planaltina</td>\n",
       "    </tr>\n",
       "    <tr>\n",
       "      <th>4</th>\n",
       "      <td>114659250236</td>\n",
       "      <td>53014308</td>\n",
       "      <td>6</td>\n",
       "      <td>6</td>\n",
       "      <td>6</td>\n",
       "      <td>6</td>\n",
       "      <td>6</td>\n",
       "      <td>6</td>\n",
       "      <td>6</td>\n",
       "      <td>-6</td>\n",
       "      <td>...</td>\n",
       "      <td>11.00</td>\n",
       "      <td>0.00</td>\n",
       "      <td>0.00</td>\n",
       "      <td>6.00</td>\n",
       "      <td>618.57</td>\n",
       "      <td>0.33</td>\n",
       "      <td>-15.91</td>\n",
       "      <td>-47.78</td>\n",
       "      <td>CED POMPILIO MARQUES DE SOUZA</td>\n",
       "      <td>Planaltina</td>\n",
       "    </tr>\n",
       "  </tbody>\n",
       "</table>\n",
       "<p>5 rows × 196 columns</p>\n",
       "</div>"
      ],
      "text/plain": [
       "   CO_PESSOA_FISICA  CO_ENTIDADE  SUM_TURMA_IN_DIA_SEMANA_QUARTA  \\\n",
       "0      115143629100     53006461                               1   \n",
       "1      123364559430     53006461                               1   \n",
       "2      124015691384     53006461                               1   \n",
       "3      113142990185     53014308                               8   \n",
       "4      114659250236     53014308                               6   \n",
       "\n",
       "   SUM_TURMA_IN_DIA_SEMANA_QUINTA  SUM_TURMA_IN_DIA_SEMANA_SEGUNDA  \\\n",
       "0                               1                                1   \n",
       "1                               1                                1   \n",
       "2                               1                                1   \n",
       "3                               8                                8   \n",
       "4                               6                                6   \n",
       "\n",
       "   SUM_TURMA_IN_DIA_SEMANA_SEXTA  SUM_TURMA_IN_DIA_SEMANA_TERCA  \\\n",
       "0                              1                              1   \n",
       "1                              1                              1   \n",
       "2                              1                              1   \n",
       "3                              8                              8   \n",
       "4                              6                              6   \n",
       "\n",
       "   SUM_TURMA_IN_DISC_ARTES  SUM_TURMA_IN_DISC_BIOLOGIA  \\\n",
       "0                        1                          -1   \n",
       "1                        1                          -1   \n",
       "2                        1                          -1   \n",
       "3                        8                           0   \n",
       "4                        6                           6   \n",
       "\n",
       "   SUM_TURMA_IN_DISC_CIENCIAS     ...       MIN_qtd_pss_abx_12  \\\n",
       "0                           1     ...                    11.00   \n",
       "1                           1     ...                    11.00   \n",
       "2                           1     ...                    11.00   \n",
       "3                           8     ...                    11.00   \n",
       "4                          -6     ...                    11.00   \n",
       "\n",
       "   MIN_qtd_pss_acima_65  MIN_qtd_pss_acima_90  MIN_qtd_quitados  \\\n",
       "0                  1.00                  0.00              4.00   \n",
       "1                  1.00                  0.00              4.00   \n",
       "2                  1.00                  0.00              4.00   \n",
       "3                  0.00                  0.00              6.00   \n",
       "4                  0.00                  0.00              6.00   \n",
       "\n",
       "   MIN_renda_media_dom  MIN_DISTANCIA_SETOR_ENTIDADE    LAT   LONG  \\\n",
       "0              2214.72                          0.34 -15.68 -47.85   \n",
       "1              2214.72                          0.34 -15.68 -47.85   \n",
       "2              2214.72                          0.34 -15.68 -47.85   \n",
       "3               618.57                          0.33 -15.91 -47.78   \n",
       "4               618.57                          0.33 -15.91 -47.78   \n",
       "\n",
       "                     NO_ENTIDADE          dcr  \n",
       "0                     EC MONJOLO   Planaltina  \n",
       "1                     EC MONJOLO   Planaltina  \n",
       "2                     EC MONJOLO   Planaltina  \n",
       "3  CED POMPILIO MARQUES DE SOUZA   Planaltina  \n",
       "4  CED POMPILIO MARQUES DE SOUZA   Planaltina  \n",
       "\n",
       "[5 rows x 196 columns]"
      ]
     },
     "metadata": {},
     "output_type": "display_data"
    }
   ],
   "source": [
    "model_vars = pd.read_csv(f'{PATH_DF_CSV}model_vars.csv',low_memory=False)\n",
    "display(model_vars.shape)\n",
    "display(model_vars.head())"
   ]
  },
  {
   "cell_type": "markdown",
   "metadata": {},
   "source": [
    "<img src='img/exploracao.gif'/>"
   ]
  },
  {
   "cell_type": "markdown",
   "metadata": {},
   "source": [
    "# Exploração dos dados obtidos"
   ]
  },
  {
   "cell_type": "markdown",
   "metadata": {},
   "source": [
    "### Quais sao as escolas com maior evasao de professores e aonde elas ficam?"
   ]
  },
  {
   "cell_type": "code",
   "execution_count": 7,
   "metadata": {},
   "outputs": [
    {
     "data": {
      "text/html": [
       "<div>\n",
       "<style scoped>\n",
       "    .dataframe tbody tr th:only-of-type {\n",
       "        vertical-align: middle;\n",
       "    }\n",
       "\n",
       "    .dataframe tbody tr th {\n",
       "        vertical-align: top;\n",
       "    }\n",
       "\n",
       "    .dataframe thead th {\n",
       "        text-align: right;\n",
       "    }\n",
       "</style>\n",
       "<table border=\"1\" class=\"dataframe\">\n",
       "  <thead>\n",
       "    <tr style=\"text-align: right;\">\n",
       "      <th></th>\n",
       "      <th>CO_ENTIDADE</th>\n",
       "      <th>target</th>\n",
       "      <th>CO_PESSOA_FISICA</th>\n",
       "      <th>LAT</th>\n",
       "      <th>LONG</th>\n",
       "      <th>dcr</th>\n",
       "      <th>NO_ENTIDADE</th>\n",
       "      <th>CO_ORGAO_REGIONAL</th>\n",
       "      <th>prop_saida</th>\n",
       "    </tr>\n",
       "  </thead>\n",
       "  <tbody>\n",
       "    <tr>\n",
       "      <th>39</th>\n",
       "      <td>53001664</td>\n",
       "      <td>12.00</td>\n",
       "      <td>12</td>\n",
       "      <td>-15.74</td>\n",
       "      <td>-47.90</td>\n",
       "      <td>Brasília*</td>\n",
       "      <td>CEF 316 NORTE</td>\n",
       "      <td>1</td>\n",
       "      <td>100.00</td>\n",
       "    </tr>\n",
       "    <tr>\n",
       "      <th>216</th>\n",
       "      <td>53006801</td>\n",
       "      <td>3.00</td>\n",
       "      <td>3</td>\n",
       "      <td>-15.79</td>\n",
       "      <td>-48.05</td>\n",
       "      <td>Lago Sul</td>\n",
       "      <td>EC BOQUEIRAO</td>\n",
       "      <td>17</td>\n",
       "      <td>100.00</td>\n",
       "    </tr>\n",
       "    <tr>\n",
       "      <th>142</th>\n",
       "      <td>53004299</td>\n",
       "      <td>12.00</td>\n",
       "      <td>13</td>\n",
       "      <td>-15.82</td>\n",
       "      <td>-48.09</td>\n",
       "      <td>Taguatinga</td>\n",
       "      <td>CEF 21 DE TAGUATINGA</td>\n",
       "      <td>3</td>\n",
       "      <td>92.31</td>\n",
       "    </tr>\n",
       "    <tr>\n",
       "      <th>466</th>\n",
       "      <td>53015541</td>\n",
       "      <td>9.00</td>\n",
       "      <td>10</td>\n",
       "      <td>-15.90</td>\n",
       "      <td>-47.78</td>\n",
       "      <td>Riacho Fundo</td>\n",
       "      <td>CEI 03 DE SAO SEBASTIAO</td>\n",
       "      <td>18</td>\n",
       "      <td>90.00</td>\n",
       "    </tr>\n",
       "    <tr>\n",
       "      <th>267</th>\n",
       "      <td>53007727</td>\n",
       "      <td>10.00</td>\n",
       "      <td>12</td>\n",
       "      <td>-15.81</td>\n",
       "      <td>-48.10</td>\n",
       "      <td>Jardim**</td>\n",
       "      <td>EC 12 DE CEILANDIA</td>\n",
       "      <td>8</td>\n",
       "      <td>83.33</td>\n",
       "    </tr>\n",
       "    <tr>\n",
       "      <th>139</th>\n",
       "      <td>53004248</td>\n",
       "      <td>14.00</td>\n",
       "      <td>17</td>\n",
       "      <td>-15.81</td>\n",
       "      <td>-48.10</td>\n",
       "      <td>Taguatinga</td>\n",
       "      <td>EC 42 DE TAGUATINGA</td>\n",
       "      <td>3</td>\n",
       "      <td>82.35</td>\n",
       "    </tr>\n",
       "    <tr>\n",
       "      <th>162</th>\n",
       "      <td>53005201</td>\n",
       "      <td>9.00</td>\n",
       "      <td>11</td>\n",
       "      <td>-15.61</td>\n",
       "      <td>-48.12</td>\n",
       "      <td>Brazlândia</td>\n",
       "      <td>EC POLO AGRICOLA DA TORRE</td>\n",
       "      <td>4</td>\n",
       "      <td>81.82</td>\n",
       "    </tr>\n",
       "    <tr>\n",
       "      <th>3</th>\n",
       "      <td>53000846</td>\n",
       "      <td>8.00</td>\n",
       "      <td>10</td>\n",
       "      <td>-15.81</td>\n",
       "      <td>-47.90</td>\n",
       "      <td>Brasília*</td>\n",
       "      <td>CEF 01 DE BRASILIA</td>\n",
       "      <td>1</td>\n",
       "      <td>80.00</td>\n",
       "    </tr>\n",
       "    <tr>\n",
       "      <th>199</th>\n",
       "      <td>53006372</td>\n",
       "      <td>4.00</td>\n",
       "      <td>5</td>\n",
       "      <td>-15.83</td>\n",
       "      <td>-48.07</td>\n",
       "      <td>Planaltina</td>\n",
       "      <td>EC COPERBRAS</td>\n",
       "      <td>6</td>\n",
       "      <td>80.00</td>\n",
       "    </tr>\n",
       "    <tr>\n",
       "      <th>66</th>\n",
       "      <td>53002326</td>\n",
       "      <td>4.00</td>\n",
       "      <td>5</td>\n",
       "      <td>-15.81</td>\n",
       "      <td>-47.91</td>\n",
       "      <td>Brasília*</td>\n",
       "      <td>JI 308 SUL</td>\n",
       "      <td>1</td>\n",
       "      <td>80.00</td>\n",
       "    </tr>\n",
       "  </tbody>\n",
       "</table>\n",
       "</div>"
      ],
      "text/plain": [
       "     CO_ENTIDADE  target  CO_PESSOA_FISICA    LAT   LONG            dcr  \\\n",
       "39      53001664   12.00                12 -15.74 -47.90      Brasília*   \n",
       "216     53006801    3.00                 3 -15.79 -48.05       Lago Sul   \n",
       "142     53004299   12.00                13 -15.82 -48.09     Taguatinga   \n",
       "466     53015541    9.00                10 -15.90 -47.78   Riacho Fundo   \n",
       "267     53007727   10.00                12 -15.81 -48.10       Jardim**   \n",
       "139     53004248   14.00                17 -15.81 -48.10     Taguatinga   \n",
       "162     53005201    9.00                11 -15.61 -48.12     Brazlândia   \n",
       "3       53000846    8.00                10 -15.81 -47.90      Brasília*   \n",
       "199     53006372    4.00                 5 -15.83 -48.07     Planaltina   \n",
       "66      53002326    4.00                 5 -15.81 -47.91      Brasília*   \n",
       "\n",
       "                   NO_ENTIDADE  CO_ORGAO_REGIONAL  prop_saida  \n",
       "39               CEF 316 NORTE                  1      100.00  \n",
       "216               EC BOQUEIRAO                 17      100.00  \n",
       "142       CEF 21 DE TAGUATINGA                  3       92.31  \n",
       "466    CEI 03 DE SAO SEBASTIAO                 18       90.00  \n",
       "267         EC 12 DE CEILANDIA                  8       83.33  \n",
       "139        EC 42 DE TAGUATINGA                  3       82.35  \n",
       "162  EC POLO AGRICOLA DA TORRE                  4       81.82  \n",
       "3           CEF 01 DE BRASILIA                  1       80.00  \n",
       "199               EC COPERBRAS                  6       80.00  \n",
       "66                  JI 308 SUL                  1       80.00  "
      ]
     },
     "execution_count": 7,
     "metadata": {},
     "output_type": "execute_result"
    }
   ],
   "source": [
    "a = model_vars.groupby('CO_ENTIDADE')[['target']].sum()\n",
    "b = model_vars.groupby('CO_ENTIDADE')[['CO_PESSOA_FISICA']].count()\n",
    "c = model_vars[['CO_ENTIDADE','LAT','LONG','dcr','NO_ENTIDADE','CO_ORGAO_REGIONAL']].drop_duplicates()\n",
    "d = a.merge(b,on='CO_ENTIDADE').merge(c,on='CO_ENTIDADE')\n",
    "d['prop_saida'] = d.target/d.CO_PESSOA_FISICA * 100\n",
    "d.sort_values('prop_saida',ascending=False,inplace=True)\n",
    "d.head(10)"
   ]
  },
  {
   "cell_type": "code",
   "execution_count": 8,
   "metadata": {},
   "outputs": [
    {
     "data": {
      "text/plain": [
       "count   494.00\n",
       "mean     37.49\n",
       "std      17.78\n",
       "min       0.00\n",
       "25%      25.00\n",
       "50%      35.15\n",
       "75%      49.72\n",
       "max     100.00\n",
       "Name: prop_saida, dtype: float64"
      ]
     },
     "metadata": {},
     "output_type": "display_data"
    },
    {
     "data": {
      "image/png": "[encoded data removed]",
      "text/plain": [
       "<Figure size 432x288 with 1 Axes>"
      ]
     },
     "metadata": {},
     "output_type": "display_data"
    }
   ],
   "source": [
    "display(d.prop_saida.describe())\n",
    "d.prop_saida.hist();"
   ]
  },
  {
   "cell_type": "markdown",
   "metadata": {},
   "source": [
    "Parece que a partir do percentil 75 a _coisa é feia_ pois mais da metade dos professores saíram. \n",
    "\n",
    "Onde ficam essas escolas?"
   ]
  },
  {
   "cell_type": "code",
   "execution_count": 9,
   "metadata": {},
   "outputs": [
    {
     "data": {
      "text/plain": [
       "count   494.00\n",
       "mean     23.20\n",
       "std      15.76\n",
       "min       1.00\n",
       "10%       6.00\n",
       "25%      11.00\n",
       "50%      19.00\n",
       "75%      32.00\n",
       "90%      46.00\n",
       "max      83.00\n",
       "Name: CO_PESSOA_FISICA, dtype: float64"
      ]
     },
     "metadata": {},
     "output_type": "display_data"
    },
    {
     "data": {
      "image/png": "[encoded data removed]",
      "text/plain": [
       "<Figure size 432x288 with 1 Axes>"
      ]
     },
     "metadata": {},
     "output_type": "display_data"
    }
   ],
   "source": [
    "display(d.CO_PESSOA_FISICA.describe([.1,.25,.50,.75,.9]));\n",
    "d.CO_PESSOA_FISICA.hist();"
   ]
  },
  {
   "cell_type": "code",
   "execution_count": 10,
   "metadata": {},
   "outputs": [],
   "source": [
    "import folium"
   ]
  },
  {
   "cell_type": "code",
   "execution_count": 11,
   "metadata": {},
   "outputs": [],
   "source": [
    "lclz_praca_3_poderes = [-15.7994, -47.8613]\n",
    "map = folium.Map(location=lclz_praca_3_poderes, zoom_start=10)\n",
    "locations = d.loc[d.CO_PESSOA_FISICA >= 7][['LAT', 'LONG']].head(20)\n",
    "locationlist = locations.values.tolist()"
   ]
  },
  {
   "cell_type": "code",
   "execution_count": 12,
   "metadata": {},
   "outputs": [
    {
     "data": {
      "text/html": [
       "<div>\n",
       "<style scoped>\n",
       "    .dataframe tbody tr th:only-of-type {\n",
       "        vertical-align: middle;\n",
       "    }\n",
       "\n",
       "    .dataframe tbody tr th {\n",
       "        vertical-align: top;\n",
       "    }\n",
       "\n",
       "    .dataframe thead th {\n",
       "        text-align: right;\n",
       "    }\n",
       "</style>\n",
       "<table border=\"1\" class=\"dataframe\">\n",
       "  <thead>\n",
       "    <tr style=\"text-align: right;\">\n",
       "      <th></th>\n",
       "      <th>CO_ENTIDADE</th>\n",
       "      <th>target</th>\n",
       "      <th>CO_PESSOA_FISICA</th>\n",
       "      <th>LAT</th>\n",
       "      <th>LONG</th>\n",
       "      <th>dcr</th>\n",
       "      <th>NO_ENTIDADE</th>\n",
       "      <th>CO_ORGAO_REGIONAL</th>\n",
       "      <th>prop_saida</th>\n",
       "    </tr>\n",
       "  </thead>\n",
       "  <tbody>\n",
       "    <tr>\n",
       "      <th>39</th>\n",
       "      <td>53001664</td>\n",
       "      <td>12.00</td>\n",
       "      <td>12</td>\n",
       "      <td>-15.74</td>\n",
       "      <td>-47.90</td>\n",
       "      <td>Brasília*</td>\n",
       "      <td>CEF 316 NORTE</td>\n",
       "      <td>1</td>\n",
       "      <td>100.00</td>\n",
       "    </tr>\n",
       "    <tr>\n",
       "      <th>142</th>\n",
       "      <td>53004299</td>\n",
       "      <td>12.00</td>\n",
       "      <td>13</td>\n",
       "      <td>-15.82</td>\n",
       "      <td>-48.09</td>\n",
       "      <td>Taguatinga</td>\n",
       "      <td>CEF 21 DE TAGUATINGA</td>\n",
       "      <td>3</td>\n",
       "      <td>92.31</td>\n",
       "    </tr>\n",
       "    <tr>\n",
       "      <th>466</th>\n",
       "      <td>53015541</td>\n",
       "      <td>9.00</td>\n",
       "      <td>10</td>\n",
       "      <td>-15.90</td>\n",
       "      <td>-47.78</td>\n",
       "      <td>Riacho Fundo</td>\n",
       "      <td>CEI 03 DE SAO SEBASTIAO</td>\n",
       "      <td>18</td>\n",
       "      <td>90.00</td>\n",
       "    </tr>\n",
       "    <tr>\n",
       "      <th>267</th>\n",
       "      <td>53007727</td>\n",
       "      <td>10.00</td>\n",
       "      <td>12</td>\n",
       "      <td>-15.81</td>\n",
       "      <td>-48.10</td>\n",
       "      <td>Jardim**</td>\n",
       "      <td>EC 12 DE CEILANDIA</td>\n",
       "      <td>8</td>\n",
       "      <td>83.33</td>\n",
       "    </tr>\n",
       "    <tr>\n",
       "      <th>139</th>\n",
       "      <td>53004248</td>\n",
       "      <td>14.00</td>\n",
       "      <td>17</td>\n",
       "      <td>-15.81</td>\n",
       "      <td>-48.10</td>\n",
       "      <td>Taguatinga</td>\n",
       "      <td>EC 42 DE TAGUATINGA</td>\n",
       "      <td>3</td>\n",
       "      <td>82.35</td>\n",
       "    </tr>\n",
       "    <tr>\n",
       "      <th>162</th>\n",
       "      <td>53005201</td>\n",
       "      <td>9.00</td>\n",
       "      <td>11</td>\n",
       "      <td>-15.61</td>\n",
       "      <td>-48.12</td>\n",
       "      <td>Brazlândia</td>\n",
       "      <td>EC POLO AGRICOLA DA TORRE</td>\n",
       "      <td>4</td>\n",
       "      <td>81.82</td>\n",
       "    </tr>\n",
       "    <tr>\n",
       "      <th>3</th>\n",
       "      <td>53000846</td>\n",
       "      <td>8.00</td>\n",
       "      <td>10</td>\n",
       "      <td>-15.81</td>\n",
       "      <td>-47.90</td>\n",
       "      <td>Brasília*</td>\n",
       "      <td>CEF 01 DE BRASILIA</td>\n",
       "      <td>1</td>\n",
       "      <td>80.00</td>\n",
       "    </tr>\n",
       "    <tr>\n",
       "      <th>363</th>\n",
       "      <td>53009312</td>\n",
       "      <td>15.00</td>\n",
       "      <td>19</td>\n",
       "      <td>-15.85</td>\n",
       "      <td>-47.95</td>\n",
       "      <td>Paranoá</td>\n",
       "      <td>CEF 01 DA CANDANGOLANDIA</td>\n",
       "      <td>7</td>\n",
       "      <td>78.95</td>\n",
       "    </tr>\n",
       "    <tr>\n",
       "      <th>458</th>\n",
       "      <td>53014588</td>\n",
       "      <td>15.00</td>\n",
       "      <td>20</td>\n",
       "      <td>-15.91</td>\n",
       "      <td>-47.76</td>\n",
       "      <td>Riacho Fundo</td>\n",
       "      <td>EC BELA VISTA</td>\n",
       "      <td>18</td>\n",
       "      <td>75.00</td>\n",
       "    </tr>\n",
       "    <tr>\n",
       "      <th>26</th>\n",
       "      <td>53001524</td>\n",
       "      <td>6.00</td>\n",
       "      <td>8</td>\n",
       "      <td>-15.74</td>\n",
       "      <td>-47.89</td>\n",
       "      <td>Brasília*</td>\n",
       "      <td>EC 115 NORTE</td>\n",
       "      <td>1</td>\n",
       "      <td>75.00</td>\n",
       "    </tr>\n",
       "    <tr>\n",
       "      <th>471</th>\n",
       "      <td>53016220</td>\n",
       "      <td>12.00</td>\n",
       "      <td>16</td>\n",
       "      <td>-15.68</td>\n",
       "      <td>-48.21</td>\n",
       "      <td>Brazlândia</td>\n",
       "      <td>EP DA NATUREZA DE BRAZLANDIA</td>\n",
       "      <td>4</td>\n",
       "      <td>75.00</td>\n",
       "    </tr>\n",
       "    <tr>\n",
       "      <th>313</th>\n",
       "      <td>53008413</td>\n",
       "      <td>14.00</td>\n",
       "      <td>19</td>\n",
       "      <td>-15.84</td>\n",
       "      <td>-47.97</td>\n",
       "      <td>Núcleo Bandeirante</td>\n",
       "      <td>CEF 05 DO GUARA</td>\n",
       "      <td>9</td>\n",
       "      <td>73.68</td>\n",
       "    </tr>\n",
       "    <tr>\n",
       "      <th>145</th>\n",
       "      <td>53004345</td>\n",
       "      <td>8.00</td>\n",
       "      <td>11</td>\n",
       "      <td>-15.83</td>\n",
       "      <td>-48.09</td>\n",
       "      <td>Taguatinga</td>\n",
       "      <td>EC 53 DE TAGUATINGA</td>\n",
       "      <td>3</td>\n",
       "      <td>72.73</td>\n",
       "    </tr>\n",
       "    <tr>\n",
       "      <th>20</th>\n",
       "      <td>53001460</td>\n",
       "      <td>8.00</td>\n",
       "      <td>11</td>\n",
       "      <td>-15.78</td>\n",
       "      <td>-47.88</td>\n",
       "      <td>Brasília*</td>\n",
       "      <td>CEF 104 NORTE</td>\n",
       "      <td>1</td>\n",
       "      <td>72.73</td>\n",
       "    </tr>\n",
       "    <tr>\n",
       "      <th>46</th>\n",
       "      <td>53001737</td>\n",
       "      <td>8.00</td>\n",
       "      <td>11</td>\n",
       "      <td>-15.83</td>\n",
       "      <td>-47.90</td>\n",
       "      <td>Brasília*</td>\n",
       "      <td>EC 410 SUL</td>\n",
       "      <td>1</td>\n",
       "      <td>72.73</td>\n",
       "    </tr>\n",
       "    <tr>\n",
       "      <th>472</th>\n",
       "      <td>53016378</td>\n",
       "      <td>13.00</td>\n",
       "      <td>18</td>\n",
       "      <td>-15.77</td>\n",
       "      <td>-47.78</td>\n",
       "      <td>Lago Sul</td>\n",
       "      <td>CEF 05 DO PARANOA</td>\n",
       "      <td>17</td>\n",
       "      <td>72.22</td>\n",
       "    </tr>\n",
       "    <tr>\n",
       "      <th>160</th>\n",
       "      <td>53005171</td>\n",
       "      <td>5.00</td>\n",
       "      <td>7</td>\n",
       "      <td>-15.70</td>\n",
       "      <td>-48.20</td>\n",
       "      <td>Brazlândia</td>\n",
       "      <td>CED 04 DE BRAZLANDIA</td>\n",
       "      <td>4</td>\n",
       "      <td>71.43</td>\n",
       "    </tr>\n",
       "    <tr>\n",
       "      <th>465</th>\n",
       "      <td>53015517</td>\n",
       "      <td>12.00</td>\n",
       "      <td>17</td>\n",
       "      <td>-15.66</td>\n",
       "      <td>-48.19</td>\n",
       "      <td>Brazlândia</td>\n",
       "      <td>CEI 02 DE BRAZLANDIA</td>\n",
       "      <td>4</td>\n",
       "      <td>70.59</td>\n",
       "    </tr>\n",
       "    <tr>\n",
       "      <th>151</th>\n",
       "      <td>53004990</td>\n",
       "      <td>16.00</td>\n",
       "      <td>23</td>\n",
       "      <td>-15.85</td>\n",
       "      <td>-48.11</td>\n",
       "      <td>Brazlândia</td>\n",
       "      <td>CEF 01 DE BRAZLANDIA</td>\n",
       "      <td>4</td>\n",
       "      <td>69.57</td>\n",
       "    </tr>\n",
       "    <tr>\n",
       "      <th>276</th>\n",
       "      <td>53007816</td>\n",
       "      <td>11.00</td>\n",
       "      <td>16</td>\n",
       "      <td>-15.83</td>\n",
       "      <td>-48.10</td>\n",
       "      <td>Jardim**</td>\n",
       "      <td>EC 22 DE CEILANDIA</td>\n",
       "      <td>8</td>\n",
       "      <td>68.75</td>\n",
       "    </tr>\n",
       "  </tbody>\n",
       "</table>\n",
       "</div>"
      ],
      "text/plain": [
       "     CO_ENTIDADE  target  CO_PESSOA_FISICA    LAT   LONG                  dcr  \\\n",
       "39      53001664   12.00                12 -15.74 -47.90            Brasília*   \n",
       "142     53004299   12.00                13 -15.82 -48.09           Taguatinga   \n",
       "466     53015541    9.00                10 -15.90 -47.78         Riacho Fundo   \n",
       "267     53007727   10.00                12 -15.81 -48.10             Jardim**   \n",
       "139     53004248   14.00                17 -15.81 -48.10           Taguatinga   \n",
       "162     53005201    9.00                11 -15.61 -48.12           Brazlândia   \n",
       "3       53000846    8.00                10 -15.81 -47.90            Brasília*   \n",
       "363     53009312   15.00                19 -15.85 -47.95              Paranoá   \n",
       "458     53014588   15.00                20 -15.91 -47.76         Riacho Fundo   \n",
       "26      53001524    6.00                 8 -15.74 -47.89            Brasília*   \n",
       "471     53016220   12.00                16 -15.68 -48.21           Brazlândia   \n",
       "313     53008413   14.00                19 -15.84 -47.97   Núcleo Bandeirante   \n",
       "145     53004345    8.00                11 -15.83 -48.09           Taguatinga   \n",
       "20      53001460    8.00                11 -15.78 -47.88            Brasília*   \n",
       "46      53001737    8.00                11 -15.83 -47.90            Brasília*   \n",
       "472     53016378   13.00                18 -15.77 -47.78             Lago Sul   \n",
       "160     53005171    5.00                 7 -15.70 -48.20           Brazlândia   \n",
       "465     53015517   12.00                17 -15.66 -48.19           Brazlândia   \n",
       "151     53004990   16.00                23 -15.85 -48.11           Brazlândia   \n",
       "276     53007816   11.00                16 -15.83 -48.10             Jardim**   \n",
       "\n",
       "                      NO_ENTIDADE  CO_ORGAO_REGIONAL  prop_saida  \n",
       "39                  CEF 316 NORTE                  1      100.00  \n",
       "142          CEF 21 DE TAGUATINGA                  3       92.31  \n",
       "466       CEI 03 DE SAO SEBASTIAO                 18       90.00  \n",
       "267            EC 12 DE CEILANDIA                  8       83.33  \n",
       "139           EC 42 DE TAGUATINGA                  3       82.35  \n",
       "162     EC POLO AGRICOLA DA TORRE                  4       81.82  \n",
       "3              CEF 01 DE BRASILIA                  1       80.00  \n",
       "363      CEF 01 DA CANDANGOLANDIA                  7       78.95  \n",
       "458                 EC BELA VISTA                 18       75.00  \n",
       "26                   EC 115 NORTE                  1       75.00  \n",
       "471  EP DA NATUREZA DE BRAZLANDIA                  4       75.00  \n",
       "313               CEF 05 DO GUARA                  9       73.68  \n",
       "145           EC 53 DE TAGUATINGA                  3       72.73  \n",
       "20                  CEF 104 NORTE                  1       72.73  \n",
       "46                     EC 410 SUL                  1       72.73  \n",
       "472             CEF 05 DO PARANOA                 17       72.22  \n",
       "160          CED 04 DE BRAZLANDIA                  4       71.43  \n",
       "465          CEI 02 DE BRAZLANDIA                  4       70.59  \n",
       "151          CEF 01 DE BRAZLANDIA                  4       69.57  \n",
       "276            EC 22 DE CEILANDIA                  8       68.75  "
      ]
     },
     "metadata": {},
     "output_type": "display_data"
    },
    {
     "data": {
      "text/plain": [
       "[[-15.738902358999601, -47.8961599389996],\n",
       " [-15.817901298999601, -48.0929510429996],\n",
       " [-15.904125592999597, -47.7785940709996],\n",
       " [-15.8050091999996, -48.10484145499972],\n",
       " [-15.8064864849996, -48.09525081599961],\n",
       " [-15.609698454999599, -48.1223619759996],\n",
       " [-15.8134506469996, -47.899915633999605],\n",
       " [-15.8498777069996, -47.9501539469996],\n",
       " [-15.913146797999596, -47.7556934339996],\n",
       " [-15.7414110899996, -47.892307356999595],\n",
       " [-15.6790440299996, -48.2054488299996],\n",
       " [-15.8438864469996, -47.97246563899961],\n",
       " [-15.8318985429996, -48.08885317099961],\n",
       " [-15.7753419789996, -47.8831179469996],\n",
       " [-15.8264468869996, -47.90422259599961],\n",
       " [-15.768799452999597, -47.7831692639996],\n",
       " [-15.700134967999599, -48.2019363849996],\n",
       " [-15.659185897999599, -48.194383589999596],\n",
       " [-15.8506638219996, -48.1136286529996],\n",
       " [-15.832654795999598, -48.102884660999614]]"
      ]
     },
     "execution_count": 12,
     "metadata": {},
     "output_type": "execute_result"
    }
   ],
   "source": [
    "display(d.loc[d.CO_PESSOA_FISICA >= 7].head(20))\n",
    "locationlist\n"
   ]
  },
  {
   "cell_type": "markdown",
   "metadata": {},
   "source": [
    "Pesquisei essas localizações no Google Maps e as algumas localizações não foram exatas mas deram uma aproximação aceitável (o pior caso ficou 6 quarteirões de distância)."
   ]
  },
  {
   "cell_type": "code",
   "execution_count": 14,
   "metadata": {},
   "outputs": [
    {
     "data": {
      "text/html": [
       "<div style=\"width:100%;\"><div style=\"position:relative;width:100%;height:0;padding-bottom:60%;\"><iframe src=\"data:text/html;charset=utf-8;base64,PCFET0NUWVBFIGh0bWw+CjxoZWFkPiAgICAKICAgIDxtZXRhIGh0dHAtZXF1aXY9ImNvbnRlbnQtdHlwZSIgY29udGVudD0idGV4dC9odG1sOyBjaGFyc2V0PVVURi04IiAvPgogICAgPHNjcmlwdD5MX1BSRUZFUl9DQU5WQVMgPSBmYWxzZTsgTF9OT19UT1VDSCA9IGZhbHNlOyBMX0RJU0FCTEVfM0QgPSBmYWxzZTs8L3NjcmlwdD4KICAgIDxzY3JpcHQgc3JjPSJodHRwczovL2Nkbi5qc2RlbGl2ci5uZXQvbnBtL2xlYWZsZXRAMS4yLjAvZGlzdC9sZWFmbGV0LmpzIj48L3NjcmlwdD4KICAgIDxzY3JpcHQgc3JjPSJodHRwczovL2FqYXguZ29vZ2xlYXBpcy5jb20vYWpheC9saWJzL2pxdWVyeS8xLjExLjEvanF1ZXJ5Lm1pbi5qcyI+PC9zY3JpcHQ+CiAgICA8c2NyaXB0IHNyYz0iaHR0cHM6Ly9tYXhjZG4uYm9vdHN0cmFwY2RuLmNvbS9ib290c3RyYXAvMy4yLjAvanMvYm9vdHN0cmFwLm1pbi5qcyI+PC9zY3JpcHQ+CiAgICA8c2NyaXB0IHNyYz0iaHR0cHM6Ly9jZG5qcy5jbG91ZGZsYXJlLmNvbS9hamF4L2xpYnMvTGVhZmxldC5hd2Vzb21lLW1hcmtlcnMvMi4wLjIvbGVhZmxldC5hd2Vzb21lLW1hcmtlcnMuanMiPjwvc2NyaXB0PgogICAgPGxpbmsgcmVsPSJzdHlsZXNoZWV0IiBocmVmPSJodHRwczovL2Nkbi5qc2RlbGl2ci5uZXQvbnBtL2xlYWZsZXRAMS4yLjAvZGlzdC9sZWFmbGV0LmNzcyIvPgogICAgPGxpbmsgcmVsPSJzdHlsZXNoZWV0IiBocmVmPSJodHRwczovL21heGNkbi5ib290c3RyYXBjZG4uY29tL2Jvb3RzdHJhcC8zLjIuMC9jc3MvYm9vdHN0cmFwLm1pbi5jc3MiLz4KICAgIDxsaW5rIHJlbD0ic3R5bGVzaGVldCIgaHJlZj0iaHR0cHM6Ly9tYXhjZG4uYm9vdHN0cmFwY2RuLmNvbS9ib290c3RyYXAvMy4yLjAvY3NzL2Jvb3RzdHJhcC10aGVtZS5taW4uY3NzIi8+CiAgICA8bGluayByZWw9InN0eWxlc2hlZXQiIGhyZWY9Imh0dHBzOi8vbWF4Y2RuLmJvb3RzdHJhcGNkbi5jb20vZm9udC1hd2Vzb21lLzQuNi4zL2Nzcy9mb250LWF3ZXNvbWUubWluLmNzcyIvPgogICAgPGxpbmsgcmVsPSJzdHlsZXNoZWV0IiBocmVmPSJodHRwczovL2NkbmpzLmNsb3VkZmxhcmUuY29tL2FqYXgvbGlicy9MZWFmbGV0LmF3ZXNvbWUtbWFya2Vycy8yLjAuMi9sZWFmbGV0LmF3ZXNvbWUtbWFya2Vycy5jc3MiLz4KICAgIDxsaW5rIHJlbD0ic3R5bGVzaGVldCIgaHJlZj0iaHR0cHM6Ly9yYXdnaXQuY29tL3B5dGhvbi12aXN1YWxpemF0aW9uL2ZvbGl1bS9tYXN0ZXIvZm9saXVtL3RlbXBsYXRlcy9sZWFmbGV0LmF3ZXNvbWUucm90YXRlLmNzcyIvPgogICAgPHN0eWxlPmh0bWwsIGJvZHkge3dpZHRoOiAxMDAlO2hlaWdodDogMTAwJTttYXJnaW46IDA7cGFkZGluZzogMDt9PC9zdHlsZT4KICAgIDxzdHlsZT4jbWFwIHtwb3NpdGlvbjphYnNvbHV0ZTt0b3A6MDtib3R0b206MDtyaWdodDowO2xlZnQ6MDt9PC9zdHlsZT4KICAgIAogICAgICAgICAgICA8c3R5bGU+ICNtYXBfYjM0MDAwZjhlMTE2NDAwYTg3MTY1MTYyNWEyNjA4ZTUgewogICAgICAgICAgICAgICAgcG9zaXRpb24gOiByZWxhdGl2ZTsKICAgICAgICAgICAgICAgIHdpZHRoIDogMTAwLjAlOwogICAgICAgICAgICAgICAgaGVpZ2h0OiAxMDAuMCU7CiAgICAgICAgICAgICAgICBsZWZ0OiAwLjAlOwogICAgICAgICAgICAgICAgdG9wOiAwLjAlOwogICAgICAgICAgICAgICAgfQogICAgICAgICAgICA8L3N0eWxlPgogICAgICAgIAo8L2hlYWQ+Cjxib2R5PiAgICAKICAgIAogICAgICAgICAgICA8ZGl2IGNsYXNzPSJmb2xpdW0tbWFwIiBpZD0ibWFwX2IzNDAwMGY4ZTExNjQwMGE4NzE2NTE2MjVhMjYwOGU1IiA+PC9kaXY+CiAgICAgICAgCjwvYm9keT4KPHNjcmlwdD4gICAgCiAgICAKCiAgICAgICAgICAgIAogICAgICAgICAgICAgICAgdmFyIGJvdW5kcyA9IG51bGw7CiAgICAgICAgICAgIAoKICAgICAgICAgICAgdmFyIG1hcF9iMzQwMDBmOGUxMTY0MDBhODcxNjUxNjI1YTI2MDhlNSA9IEwubWFwKAogICAgICAgICAgICAgICAgICAgICAgICAgICAgICAgICAgJ21hcF9iMzQwMDBmOGUxMTY0MDBhODcxNjUxNjI1YTI2MDhlNScsCiAgICAgICAgICAgICAgICAgICAgICAgICAgICAgICAgICB7Y2VudGVyOiBbLTE1Ljc5OTQsLTQ3Ljg2MTNdLAogICAgICAgICAgICAgICAgICAgICAgICAgICAgICAgICAgem9vbTogMTAsCiAgICAgICAgICAgICAgICAgICAgICAgICAgICAgICAgICBtYXhCb3VuZHM6IGJvdW5kcywKICAgICAgICAgICAgICAgICAgICAgICAgICAgICAgICAgIGxheWVyczogW10sCiAgICAgICAgICAgICAgICAgICAgICAgICAgICAgICAgICB3b3JsZENvcHlKdW1wOiBmYWxzZSwKICAgICAgICAgICAgICAgICAgICAgICAgICAgICAgICAgIGNyczogTC5DUlMuRVBTRzM4NTcKICAgICAgICAgICAgICAgICAgICAgICAgICAgICAgICAgfSk7CiAgICAgICAgICAgIAogICAgICAgIAogICAgCiAgICAgICAgICAgIHZhciB0aWxlX2xheWVyXzk1ZThjMGQ0ZmRjMjQwZTM5NzkyNTAwYzhkMGRiNWE3ID0gTC50aWxlTGF5ZXIoCiAgICAgICAgICAgICAgICAnaHR0cHM6Ly97c30udGlsZS5vcGVuc3RyZWV0bWFwLm9yZy97en0ve3h9L3t5fS5wbmcnLAogICAgICAgICAgICAgICAgewogICJhdHRyaWJ1dGlvbiI6IG51bGwsCiAgImRldGVjdFJldGluYSI6IGZhbHNlLAogICJtYXhab29tIjogMTgsCiAgIm1pblpvb20iOiAxLAogICJub1dyYXAiOiBmYWxzZSwKICAic3ViZG9tYWlucyI6ICJhYmMiCn0KICAgICAgICAgICAgICAgICkuYWRkVG8obWFwX2IzNDAwMGY4ZTExNjQwMGE4NzE2NTE2MjVhMjYwOGU1KTsKICAgICAgICAKICAgIAoKICAgICAgICAgICAgdmFyIG1hcmtlcl81NGYwNDNjYjQ0ZjM0OWIzYmM1YjljNDE4YjRiNjZlYSA9IEwubWFya2VyKAogICAgICAgICAgICAgICAgWy0xNS43Mzg5MDIzNTg5OTk2MDEsLTQ3Ljg5NjE1OTkzODk5OTZdLAogICAgICAgICAgICAgICAgewogICAgICAgICAgICAgICAgICAgIGljb246IG5ldyBMLkljb24uRGVmYXVsdCgpCiAgICAgICAgICAgICAgICAgICAgfQogICAgICAgICAgICAgICAgKQogICAgICAgICAgICAgICAgLmFkZFRvKG1hcF9iMzQwMDBmOGUxMTY0MDBhODcxNjUxNjI1YTI2MDhlNSk7CiAgICAgICAgICAgIAogICAgCgogICAgICAgICAgICB2YXIgbWFya2VyX2U0MjAxZDdjZmNiNTQ1M2ZiNTg1YTk2N2VhNTZjM2Q5ID0gTC5tYXJrZXIoCiAgICAgICAgICAgICAgICBbLTE1LjgxNzkwMTI5ODk5OTYwMSwtNDguMDkyOTUxMDQyOTk5Nl0sCiAgICAgICAgICAgICAgICB7CiAgICAgICAgICAgICAgICAgICAgaWNvbjogbmV3IEwuSWNvbi5EZWZhdWx0KCkKICAgICAgICAgICAgICAgICAgICB9CiAgICAgICAgICAgICAgICApCiAgICAgICAgICAgICAgICAuYWRkVG8obWFwX2IzNDAwMGY4ZTExNjQwMGE4NzE2NTE2MjVhMjYwOGU1KTsKICAgICAgICAgICAgCiAgICAKCiAgICAgICAgICAgIHZhciBtYXJrZXJfNjA0ZmVhYmU5YjVhNGM3YTlmMjY3MWM5MTU3OGQ1MTEgPSBMLm1hcmtlcigKICAgICAgICAgICAgICAgIFstMTUuOTA0MTI1NTkyOTk5NTk3LC00Ny43Nzg1OTQwNzA5OTk2XSwKICAgICAgICAgICAgICAgIHsKICAgICAgICAgICAgICAgICAgICBpY29uOiBuZXcgTC5JY29uLkRlZmF1bHQoKQogICAgICAgICAgICAgICAgICAgIH0KICAgICAgICAgICAgICAgICkKICAgICAgICAgICAgICAgIC5hZGRUbyhtYXBfYjM0MDAwZjhlMTE2NDAwYTg3MTY1MTYyNWEyNjA4ZTUpOwogICAgICAgICAgICAKICAgIAoKICAgICAgICAgICAgdmFyIG1hcmtlcl9mNzQ4ZjUzMDE3MGE0MzEwODM5ZjJkOGRlNjYwNTE4YiA9IEwubWFya2VyKAogICAgICAgICAgICAgICAgWy0xNS44MDUwMDkxOTk5OTk2LC00OC4xMDQ4NDE0NTQ5OTk3Ml0sCiAgICAgICAgICAgICAgICB7CiAgICAgICAgICAgICAgICAgICAgaWNvbjogbmV3IEwuSWNvbi5EZWZhdWx0KCkKICAgICAgICAgICAgICAgICAgICB9CiAgICAgICAgICAgICAgICApCiAgICAgICAgICAgICAgICAuYWRkVG8obWFwX2IzNDAwMGY4ZTExNjQwMGE4NzE2NTE2MjVhMjYwOGU1KTsKICAgICAgICAgICAgCiAgICAKCiAgICAgICAgICAgIHZhciBtYXJrZXJfYzY0ZDBjM2JhODVjNGI1Njk0NzYzOGQwOThjYzc3ZDMgPSBMLm1hcmtlcigKICAgICAgICAgICAgICAgIFstMTUuODA2NDg2NDg0OTk5NiwtNDguMDk1MjUwODE1OTk5NjFdLAogICAgICAgICAgICAgICAgewogICAgICAgICAgICAgICAgICAgIGljb246IG5ldyBMLkljb24uRGVmYXVsdCgpCiAgICAgICAgICAgICAgICAgICAgfQogICAgICAgICAgICAgICAgKQogICAgICAgICAgICAgICAgLmFkZFRvKG1hcF9iMzQwMDBmOGUxMTY0MDBhODcxNjUxNjI1YTI2MDhlNSk7CiAgICAgICAgICAgIAogICAgCgogICAgICAgICAgICB2YXIgbWFya2VyXzNiOWYzMDFkMmI5YTQ3MDY5NjIyM2I0MjEyMzI4NmRkID0gTC5tYXJrZXIoCiAgICAgICAgICAgICAgICBbLTE1LjYwOTY5ODQ1NDk5OTU5OSwtNDguMTIyMzYxOTc1OTk5Nl0sCiAgICAgICAgICAgICAgICB7CiAgICAgICAgICAgICAgICAgICAgaWNvbjogbmV3IEwuSWNvbi5EZWZhdWx0KCkKICAgICAgICAgICAgICAgICAgICB9CiAgICAgICAgICAgICAgICApCiAgICAgICAgICAgICAgICAuYWRkVG8obWFwX2IzNDAwMGY4ZTExNjQwMGE4NzE2NTE2MjVhMjYwOGU1KTsKICAgICAgICAgICAgCiAgICAKCiAgICAgICAgICAgIHZhciBtYXJrZXJfZjAzNmU5OGFlMWEzNGYyOWJkODhlNmIzZDYxYzA1M2YgPSBMLm1hcmtlcigKICAgICAgICAgICAgICAgIFstMTUuODEzNDUwNjQ2OTk5NiwtNDcuODk5OTE1NjMzOTk5NjA1XSwKICAgICAgICAgICAgICAgIHsKICAgICAgICAgICAgICAgICAgICBpY29uOiBuZXcgTC5JY29uLkRlZmF1bHQoKQogICAgICAgICAgICAgICAgICAgIH0KICAgICAgICAgICAgICAgICkKICAgICAgICAgICAgICAgIC5hZGRUbyhtYXBfYjM0MDAwZjhlMTE2NDAwYTg3MTY1MTYyNWEyNjA4ZTUpOwogICAgICAgICAgICAKICAgIAoKICAgICAgICAgICAgdmFyIG1hcmtlcl8xNDE5NmRkODNkODE0NGM5YWFlNjA1ZDk2NTFlY2JkYyA9IEwubWFya2VyKAogICAgICAgICAgICAgICAgWy0xNS44NDk4Nzc3MDY5OTk2LC00Ny45NTAxNTM5NDY5OTk2XSwKICAgICAgICAgICAgICAgIHsKICAgICAgICAgICAgICAgICAgICBpY29uOiBuZXcgTC5JY29uLkRlZmF1bHQoKQogICAgICAgICAgICAgICAgICAgIH0KICAgICAgICAgICAgICAgICkKICAgICAgICAgICAgICAgIC5hZGRUbyhtYXBfYjM0MDAwZjhlMTE2NDAwYTg3MTY1MTYyNWEyNjA4ZTUpOwogICAgICAgICAgICAKICAgIAoKICAgICAgICAgICAgdmFyIG1hcmtlcl9hNDE3MjU1ZjM2OTg0NGFmOWFkZDBjNzVkN2FiOTRmYyA9IEwubWFya2VyKAogICAgICAgICAgICAgICAgWy0xNS45MTMxNDY3OTc5OTk1OTYsLTQ3Ljc1NTY5MzQzMzk5OTZdLAogICAgICAgICAgICAgICAgewogICAgICAgICAgICAgICAgICAgIGljb246IG5ldyBMLkljb24uRGVmYXVsdCgpCiAgICAgICAgICAgICAgICAgICAgfQogICAgICAgICAgICAgICAgKQogICAgICAgICAgICAgICAgLmFkZFRvKG1hcF9iMzQwMDBmOGUxMTY0MDBhODcxNjUxNjI1YTI2MDhlNSk7CiAgICAgICAgICAgIAogICAgCgogICAgICAgICAgICB2YXIgbWFya2VyXzkzOGM0NjI2Y2Q1MzQ5Mjg5MTA0MTEwMTgwY2FlMDkxID0gTC5tYXJrZXIoCiAgICAgICAgICAgICAgICBbLTE1Ljc0MTQxMTA4OTk5OTYsLTQ3Ljg5MjMwNzM1Njk5OTU5NV0sCiAgICAgICAgICAgICAgICB7CiAgICAgICAgICAgICAgICAgICAgaWNvbjogbmV3IEwuSWNvbi5EZWZhdWx0KCkKICAgICAgICAgICAgICAgICAgICB9CiAgICAgICAgICAgICAgICApCiAgICAgICAgICAgICAgICAuYWRkVG8obWFwX2IzNDAwMGY4ZTExNjQwMGE4NzE2NTE2MjVhMjYwOGU1KTsKICAgICAgICAgICAgCiAgICAKCiAgICAgICAgICAgIHZhciBtYXJrZXJfZjg4YjY3ZjQ1OGQ5NGZmODhkNzBiMmMzMTYzOGJhODUgPSBMLm1hcmtlcigKICAgICAgICAgICAgICAgIFstMTUuNjc5MDQ0MDI5OTk5NiwtNDguMjA1NDQ4ODI5OTk5Nl0sCiAgICAgICAgICAgICAgICB7CiAgICAgICAgICAgICAgICAgICAgaWNvbjogbmV3IEwuSWNvbi5EZWZhdWx0KCkKICAgICAgICAgICAgICAgICAgICB9CiAgICAgICAgICAgICAgICApCiAgICAgICAgICAgICAgICAuYWRkVG8obWFwX2IzNDAwMGY4ZTExNjQwMGE4NzE2NTE2MjVhMjYwOGU1KTsKICAgICAgICAgICAgCiAgICAKCiAgICAgICAgICAgIHZhciBtYXJrZXJfNDg2MDgyMDM2YWJhNDQ4OGEyYzUzZmZjOTI3NzU1YmYgPSBMLm1hcmtlcigKICAgICAgICAgICAgICAgIFstMTUuODQzODg2NDQ2OTk5NiwtNDcuOTcyNDY1NjM4OTk5NjFdLAogICAgICAgICAgICAgICAgewogICAgICAgICAgICAgICAgICAgIGljb246IG5ldyBMLkljb24uRGVmYXVsdCgpCiAgICAgICAgICAgICAgICAgICAgfQogICAgICAgICAgICAgICAgKQogICAgICAgICAgICAgICAgLmFkZFRvKG1hcF9iMzQwMDBmOGUxMTY0MDBhODcxNjUxNjI1YTI2MDhlNSk7CiAgICAgICAgICAgIAogICAgCgogICAgICAgICAgICB2YXIgbWFya2VyXzVkMTBiNGI1NDUyNzRkM2ZiZjVjYWZmNWY1YzlmMGU0ID0gTC5tYXJrZXIoCiAgICAgICAgICAgICAgICBbLTE1LjgzMTg5ODU0Mjk5OTYsLTQ4LjA4ODg1MzE3MDk5OTYxXSwKICAgICAgICAgICAgICAgIHsKICAgICAgICAgICAgICAgICAgICBpY29uOiBuZXcgTC5JY29uLkRlZmF1bHQoKQogICAgICAgICAgICAgICAgICAgIH0KICAgICAgICAgICAgICAgICkKICAgICAgICAgICAgICAgIC5hZGRUbyhtYXBfYjM0MDAwZjhlMTE2NDAwYTg3MTY1MTYyNWEyNjA4ZTUpOwogICAgICAgICAgICAKICAgIAoKICAgICAgICAgICAgdmFyIG1hcmtlcl9lMmM2OWNkMjM5OGU0NGVkYjQ4MTVmZjMyOGY4NDQ0MCA9IEwubWFya2VyKAogICAgICAgICAgICAgICAgWy0xNS43NzUzNDE5Nzg5OTk2LC00Ny44ODMxMTc5NDY5OTk2XSwKICAgICAgICAgICAgICAgIHsKICAgICAgICAgICAgICAgICAgICBpY29uOiBuZXcgTC5JY29uLkRlZmF1bHQoKQogICAgICAgICAgICAgICAgICAgIH0KICAgICAgICAgICAgICAgICkKICAgICAgICAgICAgICAgIC5hZGRUbyhtYXBfYjM0MDAwZjhlMTE2NDAwYTg3MTY1MTYyNWEyNjA4ZTUpOwogICAgICAgICAgICAKICAgIAoKICAgICAgICAgICAgdmFyIG1hcmtlcl9mYzEwZTYzYTJiNzc0MzgzOWUxZDFkYmJiZmY2OGM3NiA9IEwubWFya2VyKAogICAgICAgICAgICAgICAgWy0xNS44MjY0NDY4ODY5OTk2LC00Ny45MDQyMjI1OTU5OTk2MV0sCiAgICAgICAgICAgICAgICB7CiAgICAgICAgICAgICAgICAgICAgaWNvbjogbmV3IEwuSWNvbi5EZWZhdWx0KCkKICAgICAgICAgICAgICAgICAgICB9CiAgICAgICAgICAgICAgICApCiAgICAgICAgICAgICAgICAuYWRkVG8obWFwX2IzNDAwMGY4ZTExNjQwMGE4NzE2NTE2MjVhMjYwOGU1KTsKICAgICAgICAgICAgCiAgICAKCiAgICAgICAgICAgIHZhciBtYXJrZXJfYThkYzM5ZjhkZWEwNGQ1NmE3MzNkMDU0ZjkyNmFlYjEgPSBMLm1hcmtlcigKICAgICAgICAgICAgICAgIFstMTUuNzY4Nzk5NDUyOTk5NTk3LC00Ny43ODMxNjkyNjM5OTk2XSwKICAgICAgICAgICAgICAgIHsKICAgICAgICAgICAgICAgICAgICBpY29uOiBuZXcgTC5JY29uLkRlZmF1bHQoKQogICAgICAgICAgICAgICAgICAgIH0KICAgICAgICAgICAgICAgICkKICAgICAgICAgICAgICAgIC5hZGRUbyhtYXBfYjM0MDAwZjhlMTE2NDAwYTg3MTY1MTYyNWEyNjA4ZTUpOwogICAgICAgICAgICAKICAgIAoKICAgICAgICAgICAgdmFyIG1hcmtlcl9mY2FmYjZiODAwZTM0ZTE5ODRiMjY3YjI2OTNjOTI2MSA9IEwubWFya2VyKAogICAgICAgICAgICAgICAgWy0xNS43MDAxMzQ5Njc5OTk1OTksLTQ4LjIwMTkzNjM4NDk5OTZdLAogICAgICAgICAgICAgICAgewogICAgICAgICAgICAgICAgICAgIGljb246IG5ldyBMLkljb24uRGVmYXVsdCgpCiAgICAgICAgICAgICAgICAgICAgfQogICAgICAgICAgICAgICAgKQogICAgICAgICAgICAgICAgLmFkZFRvKG1hcF9iMzQwMDBmOGUxMTY0MDBhODcxNjUxNjI1YTI2MDhlNSk7CiAgICAgICAgICAgIAogICAgCgogICAgICAgICAgICB2YXIgbWFya2VyXzY5NTEzNGRjM2U5NjQ5NzdiZjU2M2FkYjhiYjliODZmID0gTC5tYXJrZXIoCiAgICAgICAgICAgICAgICBbLTE1LjY1OTE4NTg5Nzk5OTU5OSwtNDguMTk0MzgzNTg5OTk5NTk2XSwKICAgICAgICAgICAgICAgIHsKICAgICAgICAgICAgICAgICAgICBpY29uOiBuZXcgTC5JY29uLkRlZmF1bHQoKQogICAgICAgICAgICAgICAgICAgIH0KICAgICAgICAgICAgICAgICkKICAgICAgICAgICAgICAgIC5hZGRUbyhtYXBfYjM0MDAwZjhlMTE2NDAwYTg3MTY1MTYyNWEyNjA4ZTUpOwogICAgICAgICAgICAKICAgIAoKICAgICAgICAgICAgdmFyIG1hcmtlcl8zNjA0ZmUxZmYzNDk0MjZjOTU3YmNkMjJkMmRkMjAwNCA9IEwubWFya2VyKAogICAgICAgICAgICAgICAgWy0xNS44NTA2NjM4MjE5OTk2LC00OC4xMTM2Mjg2NTI5OTk2XSwKICAgICAgICAgICAgICAgIHsKICAgICAgICAgICAgICAgICAgICBpY29uOiBuZXcgTC5JY29uLkRlZmF1bHQoKQogICAgICAgICAgICAgICAgICAgIH0KICAgICAgICAgICAgICAgICkKICAgICAgICAgICAgICAgIC5hZGRUbyhtYXBfYjM0MDAwZjhlMTE2NDAwYTg3MTY1MTYyNWEyNjA4ZTUpOwogICAgICAgICAgICAKICAgIAoKICAgICAgICAgICAgdmFyIG1hcmtlcl81YzkzZGY4MWQ4Yzk0NzQ2OWUwZjY3ZmUzMmMxM2FmNiA9IEwubWFya2VyKAogICAgICAgICAgICAgICAgWy0xNS44MzI2NTQ3OTU5OTk1OTgsLTQ4LjEwMjg4NDY2MDk5OTYxNF0sCiAgICAgICAgICAgICAgICB7CiAgICAgICAgICAgICAgICAgICAgaWNvbjogbmV3IEwuSWNvbi5EZWZhdWx0KCkKICAgICAgICAgICAgICAgICAgICB9CiAgICAgICAgICAgICAgICApCiAgICAgICAgICAgICAgICAuYWRkVG8obWFwX2IzNDAwMGY4ZTExNjQwMGE4NzE2NTE2MjVhMjYwOGU1KTsKICAgICAgICAgICAgCiAgICAKCiAgICAgICAgICAgIHZhciBtYXJrZXJfMzFjOGMyMDNmYTZhNDVmNmFkZTljMGEzZWUxYTU3ZWMgPSBMLm1hcmtlcigKICAgICAgICAgICAgICAgIFstMTUuNzM4OTAyMzU4OTk5NjAxLC00Ny44OTYxNTk5Mzg5OTk2XSwKICAgICAgICAgICAgICAgIHsKICAgICAgICAgICAgICAgICAgICBpY29uOiBuZXcgTC5JY29uLkRlZmF1bHQoKQogICAgICAgICAgICAgICAgICAgIH0KICAgICAgICAgICAgICAgICkKICAgICAgICAgICAgICAgIC5hZGRUbyhtYXBfYjM0MDAwZjhlMTE2NDAwYTg3MTY1MTYyNWEyNjA4ZTUpOwogICAgICAgICAgICAKICAgIAoKICAgICAgICAgICAgdmFyIG1hcmtlcl9jMmU3NzllOWVmZWQ0MGE5OWQwYTdiNzdmYzY5ODBlMiA9IEwubWFya2VyKAogICAgICAgICAgICAgICAgWy0xNS44MTc5MDEyOTg5OTk2MDEsLTQ4LjA5Mjk1MTA0Mjk5OTZdLAogICAgICAgICAgICAgICAgewogICAgICAgICAgICAgICAgICAgIGljb246IG5ldyBMLkljb24uRGVmYXVsdCgpCiAgICAgICAgICAgICAgICAgICAgfQogICAgICAgICAgICAgICAgKQogICAgICAgICAgICAgICAgLmFkZFRvKG1hcF9iMzQwMDBmOGUxMTY0MDBhODcxNjUxNjI1YTI2MDhlNSk7CiAgICAgICAgICAgIAogICAgCgogICAgICAgICAgICB2YXIgbWFya2VyXzJkMWIyMjQ2YzQ5MzRhNDRiYWM4OTViYWY4OGVlNDdmID0gTC5tYXJrZXIoCiAgICAgICAgICAgICAgICBbLTE1LjkwNDEyNTU5Mjk5OTU5NywtNDcuNzc4NTk0MDcwOTk5Nl0sCiAgICAgICAgICAgICAgICB7CiAgICAgICAgICAgICAgICAgICAgaWNvbjogbmV3IEwuSWNvbi5EZWZhdWx0KCkKICAgICAgICAgICAgICAgICAgICB9CiAgICAgICAgICAgICAgICApCiAgICAgICAgICAgICAgICAuYWRkVG8obWFwX2IzNDAwMGY4ZTExNjQwMGE4NzE2NTE2MjVhMjYwOGU1KTsKICAgICAgICAgICAgCiAgICAKCiAgICAgICAgICAgIHZhciBtYXJrZXJfNmI5OTdkNWI5NGU1NDM1YTkxMGFiYjk0Yjg2ZTQ5ZWIgPSBMLm1hcmtlcigKICAgICAgICAgICAgICAgIFstMTUuODA1MDA5MTk5OTk5NiwtNDguMTA0ODQxNDU0OTk5NzJdLAogICAgICAgICAgICAgICAgewogICAgICAgICAgICAgICAgICAgIGljb246IG5ldyBMLkljb24uRGVmYXVsdCgpCiAgICAgICAgICAgICAgICAgICAgfQogICAgICAgICAgICAgICAgKQogICAgICAgICAgICAgICAgLmFkZFRvKG1hcF9iMzQwMDBmOGUxMTY0MDBhODcxNjUxNjI1YTI2MDhlNSk7CiAgICAgICAgICAgIAogICAgCgogICAgICAgICAgICB2YXIgbWFya2VyXzYwNDllN2NhYzM0ZDQwNGRhZGI4ZTBjYTY2OWNiNjgwID0gTC5tYXJrZXIoCiAgICAgICAgICAgICAgICBbLTE1LjgwNjQ4NjQ4NDk5OTYsLTQ4LjA5NTI1MDgxNTk5OTYxXSwKICAgICAgICAgICAgICAgIHsKICAgICAgICAgICAgICAgICAgICBpY29uOiBuZXcgTC5JY29uLkRlZmF1bHQoKQogICAgICAgICAgICAgICAgICAgIH0KICAgICAgICAgICAgICAgICkKICAgICAgICAgICAgICAgIC5hZGRUbyhtYXBfYjM0MDAwZjhlMTE2NDAwYTg3MTY1MTYyNWEyNjA4ZTUpOwogICAgICAgICAgICAKICAgIAoKICAgICAgICAgICAgdmFyIG1hcmtlcl8zMzc0Mjc5ODI3OGU0MmIxOTExYzkwYmYyNDFmZTU1OCA9IEwubWFya2VyKAogICAgICAgICAgICAgICAgWy0xNS42MDk2OTg0NTQ5OTk1OTksLTQ4LjEyMjM2MTk3NTk5OTZdLAogICAgICAgICAgICAgICAgewogICAgICAgICAgICAgICAgICAgIGljb246IG5ldyBMLkljb24uRGVmYXVsdCgpCiAgICAgICAgICAgICAgICAgICAgfQogICAgICAgICAgICAgICAgKQogICAgICAgICAgICAgICAgLmFkZFRvKG1hcF9iMzQwMDBmOGUxMTY0MDBhODcxNjUxNjI1YTI2MDhlNSk7CiAgICAgICAgICAgIAogICAgCgogICAgICAgICAgICB2YXIgbWFya2VyXzhiOTk5N2MyNzI3MjQzNDg4MDY2NmZmYmJhYTU4ZTA0ID0gTC5tYXJrZXIoCiAgICAgICAgICAgICAgICBbLTE1LjgxMzQ1MDY0Njk5OTYsLTQ3Ljg5OTkxNTYzMzk5OTYwNV0sCiAgICAgICAgICAgICAgICB7CiAgICAgICAgICAgICAgICAgICAgaWNvbjogbmV3IEwuSWNvbi5EZWZhdWx0KCkKICAgICAgICAgICAgICAgICAgICB9CiAgICAgICAgICAgICAgICApCiAgICAgICAgICAgICAgICAuYWRkVG8obWFwX2IzNDAwMGY4ZTExNjQwMGE4NzE2NTE2MjVhMjYwOGU1KTsKICAgICAgICAgICAgCiAgICAKCiAgICAgICAgICAgIHZhciBtYXJrZXJfMmU1NmFmMDc1MTdiNDE3ZWE3YTNmMmQ2Njc0YzhkZjcgPSBMLm1hcmtlcigKICAgICAgICAgICAgICAgIFstMTUuODQ5ODc3NzA2OTk5NiwtNDcuOTUwMTUzOTQ2OTk5Nl0sCiAgICAgICAgICAgICAgICB7CiAgICAgICAgICAgICAgICAgICAgaWNvbjogbmV3IEwuSWNvbi5EZWZhdWx0KCkKICAgICAgICAgICAgICAgICAgICB9CiAgICAgICAgICAgICAgICApCiAgICAgICAgICAgICAgICAuYWRkVG8obWFwX2IzNDAwMGY4ZTExNjQwMGE4NzE2NTE2MjVhMjYwOGU1KTsKICAgICAgICAgICAgCiAgICAKCiAgICAgICAgICAgIHZhciBtYXJrZXJfOTY5YTk1MjY3ODlmNDk3NzkwOGYwYmI1ZTNhOTA0NGMgPSBMLm1hcmtlcigKICAgICAgICAgICAgICAgIFstMTUuOTEzMTQ2Nzk3OTk5NTk2LC00Ny43NTU2OTM0MzM5OTk2XSwKICAgICAgICAgICAgICAgIHsKICAgICAgICAgICAgICAgICAgICBpY29uOiBuZXcgTC5JY29uLkRlZmF1bHQoKQogICAgICAgICAgICAgICAgICAgIH0KICAgICAgICAgICAgICAgICkKICAgICAgICAgICAgICAgIC5hZGRUbyhtYXBfYjM0MDAwZjhlMTE2NDAwYTg3MTY1MTYyNWEyNjA4ZTUpOwogICAgICAgICAgICAKICAgIAoKICAgICAgICAgICAgdmFyIG1hcmtlcl85MDY4Y2NkMDlhNzc0M2MzYTA0ZGUyNmZiMTRiNjQyOSA9IEwubWFya2VyKAogICAgICAgICAgICAgICAgWy0xNS43NDE0MTEwODk5OTk2LC00Ny44OTIzMDczNTY5OTk1OTVdLAogICAgICAgICAgICAgICAgewogICAgICAgICAgICAgICAgICAgIGljb246IG5ldyBMLkljb24uRGVmYXVsdCgpCiAgICAgICAgICAgICAgICAgICAgfQogICAgICAgICAgICAgICAgKQogICAgICAgICAgICAgICAgLmFkZFRvKG1hcF9iMzQwMDBmOGUxMTY0MDBhODcxNjUxNjI1YTI2MDhlNSk7CiAgICAgICAgICAgIAogICAgCgogICAgICAgICAgICB2YXIgbWFya2VyXzBmZDhkOWYzZmQ3OTRlMWJiY2JjYmE3NTkzOTQ4MGFhID0gTC5tYXJrZXIoCiAgICAgICAgICAgICAgICBbLTE1LjY3OTA0NDAyOTk5OTYsLTQ4LjIwNTQ0ODgyOTk5OTZdLAogICAgICAgICAgICAgICAgewogICAgICAgICAgICAgICAgICAgIGljb246IG5ldyBMLkljb24uRGVmYXVsdCgpCiAgICAgICAgICAgICAgICAgICAgfQogICAgICAgICAgICAgICAgKQogICAgICAgICAgICAgICAgLmFkZFRvKG1hcF9iMzQwMDBmOGUxMTY0MDBhODcxNjUxNjI1YTI2MDhlNSk7CiAgICAgICAgICAgIAogICAgCgogICAgICAgICAgICB2YXIgbWFya2VyXzliOTliZWNkNTVmOTQxYjk5NDQzZjA0M2U3NmZmZWFlID0gTC5tYXJrZXIoCiAgICAgICAgICAgICAgICBbLTE1Ljg0Mzg4NjQ0Njk5OTYsLTQ3Ljk3MjQ2NTYzODk5OTYxXSwKICAgICAgICAgICAgICAgIHsKICAgICAgICAgICAgICAgICAgICBpY29uOiBuZXcgTC5JY29uLkRlZmF1bHQoKQogICAgICAgICAgICAgICAgICAgIH0KICAgICAgICAgICAgICAgICkKICAgICAgICAgICAgICAgIC5hZGRUbyhtYXBfYjM0MDAwZjhlMTE2NDAwYTg3MTY1MTYyNWEyNjA4ZTUpOwogICAgICAgICAgICAKICAgIAoKICAgICAgICAgICAgdmFyIG1hcmtlcl9hNTY3ZTUyMmU0YWM0NWIwODc4NWRmMWIwY2FhYTkyMiA9IEwubWFya2VyKAogICAgICAgICAgICAgICAgWy0xNS44MzE4OTg1NDI5OTk2LC00OC4wODg4NTMxNzA5OTk2MV0sCiAgICAgICAgICAgICAgICB7CiAgICAgICAgICAgICAgICAgICAgaWNvbjogbmV3IEwuSWNvbi5EZWZhdWx0KCkKICAgICAgICAgICAgICAgICAgICB9CiAgICAgICAgICAgICAgICApCiAgICAgICAgICAgICAgICAuYWRkVG8obWFwX2IzNDAwMGY4ZTExNjQwMGE4NzE2NTE2MjVhMjYwOGU1KTsKICAgICAgICAgICAgCiAgICAKCiAgICAgICAgICAgIHZhciBtYXJrZXJfNzhiOTBmOWQ1YmU3NDZhM2EyOTJmZjEwMThiZjE4ZGMgPSBMLm1hcmtlcigKICAgICAgICAgICAgICAgIFstMTUuNzc1MzQxOTc4OTk5NiwtNDcuODgzMTE3OTQ2OTk5Nl0sCiAgICAgICAgICAgICAgICB7CiAgICAgICAgICAgICAgICAgICAgaWNvbjogbmV3IEwuSWNvbi5EZWZhdWx0KCkKICAgICAgICAgICAgICAgICAgICB9CiAgICAgICAgICAgICAgICApCiAgICAgICAgICAgICAgICAuYWRkVG8obWFwX2IzNDAwMGY4ZTExNjQwMGE4NzE2NTE2MjVhMjYwOGU1KTsKICAgICAgICAgICAgCiAgICAKCiAgICAgICAgICAgIHZhciBtYXJrZXJfODg1YzA3MmZiMGUwNGViZmI3NjhjMTM0NjIyN2FmOWUgPSBMLm1hcmtlcigKICAgICAgICAgICAgICAgIFstMTUuODI2NDQ2ODg2OTk5NiwtNDcuOTA0MjIyNTk1OTk5NjFdLAogICAgICAgICAgICAgICAgewogICAgICAgICAgICAgICAgICAgIGljb246IG5ldyBMLkljb24uRGVmYXVsdCgpCiAgICAgICAgICAgICAgICAgICAgfQogICAgICAgICAgICAgICAgKQogICAgICAgICAgICAgICAgLmFkZFRvKG1hcF9iMzQwMDBmOGUxMTY0MDBhODcxNjUxNjI1YTI2MDhlNSk7CiAgICAgICAgICAgIAogICAgCgogICAgICAgICAgICB2YXIgbWFya2VyXzE5NTM0YTNkNjk0YjQxYzRhMjZmYjg1YWU0OGMyZWU5ID0gTC5tYXJrZXIoCiAgICAgICAgICAgICAgICBbLTE1Ljc2ODc5OTQ1Mjk5OTU5NywtNDcuNzgzMTY5MjYzOTk5Nl0sCiAgICAgICAgICAgICAgICB7CiAgICAgICAgICAgICAgICAgICAgaWNvbjogbmV3IEwuSWNvbi5EZWZhdWx0KCkKICAgICAgICAgICAgICAgICAgICB9CiAgICAgICAgICAgICAgICApCiAgICAgICAgICAgICAgICAuYWRkVG8obWFwX2IzNDAwMGY4ZTExNjQwMGE4NzE2NTE2MjVhMjYwOGU1KTsKICAgICAgICAgICAgCiAgICAKCiAgICAgICAgICAgIHZhciBtYXJrZXJfMTczMjk5ZGRjMmEwNDhlMzlmZDY4MjQ2ZDM2MWQyYzUgPSBMLm1hcmtlcigKICAgICAgICAgICAgICAgIFstMTUuNzAwMTM0OTY3OTk5NTk5LC00OC4yMDE5MzYzODQ5OTk2XSwKICAgICAgICAgICAgICAgIHsKICAgICAgICAgICAgICAgICAgICBpY29uOiBuZXcgTC5JY29uLkRlZmF1bHQoKQogICAgICAgICAgICAgICAgICAgIH0KICAgICAgICAgICAgICAgICkKICAgICAgICAgICAgICAgIC5hZGRUbyhtYXBfYjM0MDAwZjhlMTE2NDAwYTg3MTY1MTYyNWEyNjA4ZTUpOwogICAgICAgICAgICAKICAgIAoKICAgICAgICAgICAgdmFyIG1hcmtlcl8wYzZjNWY0NDJhMDc0ZjFjOWNiODczOTBlNGM1NTE2MCA9IEwubWFya2VyKAogICAgICAgICAgICAgICAgWy0xNS42NTkxODU4OTc5OTk1OTksLTQ4LjE5NDM4MzU4OTk5OTU5Nl0sCiAgICAgICAgICAgICAgICB7CiAgICAgICAgICAgICAgICAgICAgaWNvbjogbmV3IEwuSWNvbi5EZWZhdWx0KCkKICAgICAgICAgICAgICAgICAgICB9CiAgICAgICAgICAgICAgICApCiAgICAgICAgICAgICAgICAuYWRkVG8obWFwX2IzNDAwMGY4ZTExNjQwMGE4NzE2NTE2MjVhMjYwOGU1KTsKICAgICAgICAgICAgCiAgICAKCiAgICAgICAgICAgIHZhciBtYXJrZXJfNjNiYzVhMDhkNTk0NDIxNjk0MjA4YjZlZjk0MmEyNmQgPSBMLm1hcmtlcigKICAgICAgICAgICAgICAgIFstMTUuODUwNjYzODIxOTk5NiwtNDguMTEzNjI4NjUyOTk5Nl0sCiAgICAgICAgICAgICAgICB7CiAgICAgICAgICAgICAgICAgICAgaWNvbjogbmV3IEwuSWNvbi5EZWZhdWx0KCkKICAgICAgICAgICAgICAgICAgICB9CiAgICAgICAgICAgICAgICApCiAgICAgICAgICAgICAgICAuYWRkVG8obWFwX2IzNDAwMGY4ZTExNjQwMGE4NzE2NTE2MjVhMjYwOGU1KTsKICAgICAgICAgICAgCiAgICAKCiAgICAgICAgICAgIHZhciBtYXJrZXJfY2M4MmVlNmRjOWY5NGM5NWJkYjc2ZjJiMzE2ZTliZTggPSBMLm1hcmtlcigKICAgICAgICAgICAgICAgIFstMTUuODMyNjU0Nzk1OTk5NTk4LC00OC4xMDI4ODQ2NjA5OTk2MTRdLAogICAgICAgICAgICAgICAgewogICAgICAgICAgICAgICAgICAgIGljb246IG5ldyBMLkljb24uRGVmYXVsdCgpCiAgICAgICAgICAgICAgICAgICAgfQogICAgICAgICAgICAgICAgKQogICAgICAgICAgICAgICAgLmFkZFRvKG1hcF9iMzQwMDBmOGUxMTY0MDBhODcxNjUxNjI1YTI2MDhlNSk7CiAgICAgICAgICAgIAo8L3NjcmlwdD4=\" style=\"position:absolute;width:100%;height:100%;left:0;top:0;border:none !important;\" allowfullscreen webkitallowfullscreen mozallowfullscreen></iframe></div></div>"
      ],
      "text/plain": [
       "<folium.folium.Map at 0x7faf6a37e278>"
      ]
     },
     "execution_count": 14,
     "metadata": {},
     "output_type": "execute_result"
    }
   ],
   "source": [
    "for point in range(0, len(locationlist)):\n",
    "    folium.Marker(locationlist[point]).add_to(map)\n",
    "map.save('mapa.html')\n",
    "map"
   ]
  },
  {
   "cell_type": "markdown",
   "metadata": {},
   "source": [
    "Pontos de interessantes:\n",
    "- Como explicar as saídas de escolas do Plano Piloto (Brasília)? Seriam elas exceções? \n",
    "\n",
    "Vamos plotar um mapa de calor das 50 piores e ver o que acontece."
   ]
  },
  {
   "cell_type": "code",
   "execution_count": 15,
   "metadata": {},
   "outputs": [],
   "source": [
    "#vamos tirar o 100% porque deve ter acontecido alguma coisa com essa escola\n",
    "data = d.loc[(d.CO_PESSOA_FISICA >= 7) & (d.prop_saida < 100)][['LAT', 'LONG', 'prop_saida']].head(50).values.tolist()\n"
   ]
  },
  {
   "cell_type": "code",
   "execution_count": 17,
   "metadata": {},
   "outputs": [
    {
     "data": {
      "text/html": [
       "<div style=\"width:100%;\"><div style=\"position:relative;width:100%;height:0;padding-bottom:60%;\"><iframe src=\"data:text/html;charset=utf-8;base64,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\" style=\"position:absolute;width:100%;height:100%;left:0;top:0;border:none !important;\" allowfullscreen webkitallowfullscreen mozallowfullscreen></iframe></div></div>"
      ],
      "text/plain": [
       "<folium.folium.Map at 0x7faf6a25cc18>"
      ]
     },
     "execution_count": 17,
     "metadata": {},
     "output_type": "execute_result"
    }
   ],
   "source": [
    "from folium.plugins import HeatMap\n",
    "m = folium.Map(lclz_praca_3_poderes)\n",
    "HeatMap(data).add_to(m)\n",
    "m.save('mapa.html')\n",
    "m"
   ]
  },
  {
   "cell_type": "markdown",
   "metadata": {},
   "source": [
    "Mais ou menos como esperado:\n",
    "    - algumas áreas populosas e mais afastadas do centro estão bem destacadas.\n",
    "    - Não esperava que o centro de Brasília fosse ter tanto destaque.\n",
    "    \n",
    "Assim temos algumas pistas que renda nas imediações nao tem muito a ver (Plano Pilo e Lago Sul). Vamos comprovar  \n",
    "    "
   ]
  },
  {
   "cell_type": "code",
   "execution_count": 18,
   "metadata": {},
   "outputs": [
    {
     "data": {
      "text/plain": [
       "<matplotlib.axes._subplots.AxesSubplot at 0x7faf6a25cfd0>"
      ]
     },
     "execution_count": 18,
     "metadata": {},
     "output_type": "execute_result"
    },
    {
     "data": {
      "image/png": "[encoded data removed]",
      "text/plain": [
       "<Figure size 432x288 with 1 Axes>"
      ]
     },
     "metadata": {},
     "output_type": "display_data"
    }
   ],
   "source": [
    "model_vars.MAX_qtd_dom_renda_max_per_mais_5sm.hist(bins=20)"
   ]
  },
  {
   "cell_type": "code",
   "execution_count": 19,
   "metadata": {},
   "outputs": [
    {
     "data": {
      "image/png": "[encoded data removed]",
      "text/plain": [
       "<Figure size 432x288 with 1 Axes>"
      ]
     },
     "metadata": {},
     "output_type": "display_data"
    }
   ],
   "source": [
    "model_vars.loc[model_vars.target == 0].MAX_qtd_dom_renda_max_per_mais_5sm.hist(bins=20);"
   ]
  },
  {
   "cell_type": "code",
   "execution_count": 20,
   "metadata": {},
   "outputs": [
    {
     "data": {
      "image/png": "[encoded data removed]",
      "text/plain": [
       "<Figure size 432x288 with 1 Axes>"
      ]
     },
     "metadata": {},
     "output_type": "display_data"
    }
   ],
   "source": [
    "model_vars.loc[model_vars.target == 1].MAX_qtd_dom_renda_max_per_mais_5sm.hist(bins=20);"
   ]
  },
  {
   "cell_type": "code",
   "execution_count": 21,
   "metadata": {},
   "outputs": [
    {
     "data": {
      "text/html": [
       "<div>\n",
       "<style scoped>\n",
       "    .dataframe tbody tr th:only-of-type {\n",
       "        vertical-align: middle;\n",
       "    }\n",
       "\n",
       "    .dataframe tbody tr th {\n",
       "        vertical-align: top;\n",
       "    }\n",
       "\n",
       "    .dataframe thead th {\n",
       "        text-align: right;\n",
       "    }\n",
       "</style>\n",
       "<table border=\"1\" class=\"dataframe\">\n",
       "  <thead>\n",
       "    <tr style=\"text-align: right;\">\n",
       "      <th></th>\n",
       "      <th>MAX_qtd_dom_renda_max_per_mais_5sm</th>\n",
       "      <th>target</th>\n",
       "    </tr>\n",
       "  </thead>\n",
       "  <tbody>\n",
       "    <tr>\n",
       "      <th>MAX_qtd_dom_renda_max_per_mais_5sm</th>\n",
       "      <td>1.00</td>\n",
       "      <td>-0.01</td>\n",
       "    </tr>\n",
       "    <tr>\n",
       "      <th>target</th>\n",
       "      <td>-0.01</td>\n",
       "      <td>1.00</td>\n",
       "    </tr>\n",
       "  </tbody>\n",
       "</table>\n",
       "</div>"
      ],
      "text/plain": [
       "                                    MAX_qtd_dom_renda_max_per_mais_5sm  target\n",
       "MAX_qtd_dom_renda_max_per_mais_5sm                                1.00   -0.01\n",
       "target                                                           -0.01    1.00"
      ]
     },
     "execution_count": 21,
     "metadata": {},
     "output_type": "execute_result"
    }
   ],
   "source": [
    "model_vars[['MAX_qtd_dom_renda_max_per_mais_5sm','target']].corr()"
   ]
  },
  {
   "cell_type": "markdown",
   "metadata": {},
   "source": [
    "A correlação diz aquilo que pode-se ver nos gráficos: a renda menor influencia muito pouco na mudança de escola."
   ]
  },
  {
   "cell_type": "markdown",
   "metadata": {},
   "source": [
    "#### Vamos ver todas as correlações com a target"
   ]
  },
  {
   "cell_type": "code",
   "execution_count": 22,
   "metadata": {
    "scrolled": true
   },
   "outputs": [
    {
     "data": {
      "text/plain": [
       "'target 1.0'"
      ]
     },
     "metadata": {},
     "output_type": "display_data"
    },
    {
     "data": {
      "text/plain": [
       "'SUM_TURMA_IN_DISC_CIENCIAS 0.09261222130543663'"
      ]
     },
     "metadata": {},
     "output_type": "display_data"
    },
    {
     "data": {
      "text/plain": [
       "'SUM_TURMA_IN_TARDE 0.08005528104138582'"
      ]
     },
     "metadata": {},
     "output_type": "display_data"
    },
    {
     "data": {
      "text/plain": [
       "'MIN_TURMA_NU_DURACAO_TURMA 0.07182087175945935'"
      ]
     },
     "metadata": {},
     "output_type": "display_data"
    },
    {
     "data": {
      "text/plain": [
       "'IN_COMUM_FUND_AF 0.06650883071004288'"
      ]
     },
     "metadata": {},
     "output_type": "display_data"
    },
    {
     "data": {
      "text/plain": [
       "'MIN_TURMA_NU_DIAS_ATIVIDADE 0.056514520591229654'"
      ]
     },
     "metadata": {},
     "output_type": "display_data"
    },
    {
     "data": {
      "text/plain": [
       "'MAX_TURMA_NU_DURACAO_TURMA 0.05462160505634562'"
      ]
     },
     "metadata": {},
     "output_type": "display_data"
    },
    {
     "data": {
      "text/plain": [
       "'MAX_TURMA_NU_DIAS_ATIVIDADE 0.05160206579284069'"
      ]
     },
     "metadata": {},
     "output_type": "display_data"
    },
    {
     "data": {
      "text/plain": [
       "'IN_FUNDAMENTAL_CICLOS 0.047974537578467695'"
      ]
     },
     "metadata": {},
     "output_type": "display_data"
    },
    {
     "data": {
      "text/plain": [
       "'SUM_TURMA_IN_REGULAR 0.04488581753181263'"
      ]
     },
     "metadata": {},
     "output_type": "display_data"
    },
    {
     "data": {
      "text/plain": [
       "'SUM_TURMA_IN_DISC_GEOGRAFIA 0.044549617788217095'"
      ]
     },
     "metadata": {},
     "output_type": "display_data"
    },
    {
     "data": {
      "text/plain": [
       "'IN_ESGOTO_FOSSA 0.04440937919045113'"
      ]
     },
     "metadata": {},
     "output_type": "display_data"
    },
    {
     "data": {
      "text/plain": [
       "'SUM_TURMA_IN_DISC_LINGUA_INDIGENA 0.04345842553350792'"
      ]
     },
     "metadata": {},
     "output_type": "display_data"
    },
    {
     "data": {
      "text/plain": [
       "'SUM_TURMA_IN_DISC_LINGUA_FRANCES 0.04345552940387816'"
      ]
     },
     "metadata": {},
     "output_type": "display_data"
    },
    {
     "data": {
      "text/plain": [
       "'SUM_TURMA_IN_DISC_LINGUA_OUTRA 0.04315504599601616'"
      ]
     },
     "metadata": {},
     "output_type": "display_data"
    },
    {
     "data": {
      "text/plain": [
       "'SUM_TURMA_IN_DISC_ARTES 0.041380353525988296'"
      ]
     },
     "metadata": {},
     "output_type": "display_data"
    },
    {
     "data": {
      "text/plain": [
       "'SUM_TURMA_IN_DISC_HISTORIA 0.04135571967322635'"
      ]
     },
     "metadata": {},
     "output_type": "display_data"
    },
    {
     "data": {
      "text/plain": [
       "'SUM_TURMA_IN_DISC_OUTRAS 0.04106790135608206'"
      ]
     },
     "metadata": {},
     "output_type": "display_data"
    },
    {
     "data": {
      "text/plain": [
       "'SUM_TURMA_IN_DISC_LIBRAS 0.04089972999164004'"
      ]
     },
     "metadata": {},
     "output_type": "display_data"
    },
    {
     "data": {
      "text/plain": [
       "'LAT 0.040247586843958696'"
      ]
     },
     "metadata": {},
     "output_type": "display_data"
    },
    {
     "data": {
      "text/plain": [
       "'SUM_TURMA_IN_DISC_LINGUA_INGLES 0.040223397435667975'"
      ]
     },
     "metadata": {},
     "output_type": "display_data"
    },
    {
     "data": {
      "text/plain": [
       "'SUM_TURMA_IN_DISC_MATEMATICA 0.03825206326261129'"
      ]
     },
     "metadata": {},
     "output_type": "display_data"
    },
    {
     "data": {
      "text/plain": [
       "'SUM_TURMA_IN_DISC_LINGUA_PORTUGUESA 0.03794268090683334'"
      ]
     },
     "metadata": {},
     "output_type": "display_data"
    },
    {
     "data": {
      "text/plain": [
       "'MIN_qtd_alugados 0.03685350180922534'"
      ]
     },
     "metadata": {},
     "output_type": "display_data"
    },
    {
     "data": {
      "text/plain": [
       "'SUM_TURMA_IN_DISC_EDUCACAO_FISICA 0.0363860517852543'"
      ]
     },
     "metadata": {},
     "output_type": "display_data"
    },
    {
     "data": {
      "text/plain": [
       "'SUM_TURMA_IN_MAIS_EDUCACAO 0.035523042452695996'"
      ]
     },
     "metadata": {},
     "output_type": "display_data"
    },
    {
     "data": {
      "text/plain": [
       "'TP_ATIVIDADE_COMPLEMENTAR 0.03267320996098882'"
      ]
     },
     "metadata": {},
     "output_type": "display_data"
    },
    {
     "data": {
      "text/plain": [
       "'SUM_TURMA_IN_DISC_INFORMATICA_COMPUTACAO 0.031734601596416424'"
      ]
     },
     "metadata": {},
     "output_type": "display_data"
    },
    {
     "data": {
      "text/plain": [
       "'SUM_TURMA_IN_DISC_ENSINO_RELIGIOSO 0.031325711833753274'"
      ]
     },
     "metadata": {},
     "output_type": "display_data"
    },
    {
     "data": {
      "text/plain": [
       "'ALUNO_COUNT_CO_PESSOA_FISICA 0.03084300084469101'"
      ]
     },
     "metadata": {},
     "output_type": "display_data"
    },
    {
     "data": {
      "text/plain": [
       "'SUM_TURMA_IN_DIA_SEMANA_SEXTA 0.02896472768694154'"
      ]
     },
     "metadata": {},
     "output_type": "display_data"
    },
    {
     "data": {
      "text/plain": [
       "'SUM_TURMA_NU_DURACAO_TURMA 0.027196425988963605'"
      ]
     },
     "metadata": {},
     "output_type": "display_data"
    },
    {
     "data": {
      "text/plain": [
       "'SUM_TURMA_IN_DIA_SEMANA_QUARTA 0.02710463170198497'"
      ]
     },
     "metadata": {},
     "output_type": "display_data"
    },
    {
     "data": {
      "text/plain": [
       "'MIN_qtd_quitados 0.025016739008055896'"
      ]
     },
     "metadata": {},
     "output_type": "display_data"
    },
    {
     "data": {
      "text/plain": [
       "'MIN_renda_media_dom 0.023329060432318686'"
      ]
     },
     "metadata": {},
     "output_type": "display_data"
    },
    {
     "data": {
      "text/plain": [
       "'SUM_TURMA_IN_DIA_SEMANA_TERCA 0.023238682065033243'"
      ]
     },
     "metadata": {},
     "output_type": "display_data"
    },
    {
     "data": {
      "text/plain": [
       "'SUM_TURMA_NU_DIAS_ATIVIDADE 0.02305351284513054'"
      ]
     },
     "metadata": {},
     "output_type": "display_data"
    },
    {
     "data": {
      "text/plain": [
       "'SUM_TURMA_IN_DIA_SEMANA_SEGUNDA 0.022859504406993605'"
      ]
     },
     "metadata": {},
     "output_type": "display_data"
    },
    {
     "data": {
      "text/plain": [
       "'SUM_TURMA_IN_DIA_SEMANA_QUINTA 0.022475408709817304'"
      ]
     },
     "metadata": {},
     "output_type": "display_data"
    },
    {
     "data": {
      "text/plain": [
       "'MIN_qtd_pessoas_vizinhos 0.02099274416541413'"
      ]
     },
     "metadata": {},
     "output_type": "display_data"
    },
    {
     "data": {
      "text/plain": [
       "'MIN_qtd_dom_vizinhos 0.02032420899821386'"
      ]
     },
     "metadata": {},
     "output_type": "display_data"
    },
    {
     "data": {
      "text/plain": [
       "'MIN_qtd_domicilios 0.01956839423396525'"
      ]
     },
     "metadata": {},
     "output_type": "display_data"
    },
    {
     "data": {
      "text/plain": [
       "'MIN_qtd_pessoas 0.019561983065471113'"
      ]
     },
     "metadata": {},
     "output_type": "display_data"
    },
    {
     "data": {
      "text/plain": [
       "'IN_SALA_LEITURA 0.019347637273053865'"
      ]
     },
     "metadata": {},
     "output_type": "display_data"
    },
    {
     "data": {
      "text/plain": [
       "'IN_COMUM_FUND_AI 0.018719484671661818'"
      ]
     },
     "metadata": {},
     "output_type": "display_data"
    },
    {
     "data": {
      "text/plain": [
       "'IN_PATIO_COBERTO 0.018618351179201433'"
      ]
     },
     "metadata": {},
     "output_type": "display_data"
    },
    {
     "data": {
      "text/plain": [
       "'MIN_qtd_mulheres 0.01822088018798007'"
      ]
     },
     "metadata": {},
     "output_type": "display_data"
    },
    {
     "data": {
      "text/plain": [
       "'MIN_qtd_dom_renda_per_cap_abx_1sm_vizinhos 0.017526425519475454'"
      ]
     },
     "metadata": {},
     "output_type": "display_data"
    },
    {
     "data": {
      "text/plain": [
       "'NU_EQUIP_RETROPROJETOR_PER_MATRICULA 0.01679031216674425'"
      ]
     },
     "metadata": {},
     "output_type": "display_data"
    },
    {
     "data": {
      "text/plain": [
       "'MIN_qtd_mulheres_resp 0.016647480038282987'"
      ]
     },
     "metadata": {},
     "output_type": "display_data"
    },
    {
     "data": {
      "text/plain": [
       "'MIN_qtd_pss_abx_12 0.016162116849590565'"
      ]
     },
     "metadata": {},
     "output_type": "display_data"
    },
    {
     "data": {
      "text/plain": [
       "'NUM_DD_AULAS 0.015504199814631088'"
      ]
     },
     "metadata": {},
     "output_type": "display_data"
    },
    {
     "data": {
      "text/plain": [
       "'MIN_qtd_dom_renda_per_cap_abx_1sm 0.015477286235351502'"
      ]
     },
     "metadata": {},
     "output_type": "display_data"
    },
    {
     "data": {
      "text/plain": [
       "'IN_COMUM_EJA_FUND 0.015244383278982218'"
      ]
     },
     "metadata": {},
     "output_type": "display_data"
    },
    {
     "data": {
      "text/plain": [
       "'CO_ORGAO_REGIONAL 0.01461218293564707'"
      ]
     },
     "metadata": {},
     "output_type": "display_data"
    },
    {
     "data": {
      "text/plain": [
       "'TP_LOCALIZACAO 0.014328682737619669'"
      ]
     },
     "metadata": {},
     "output_type": "display_data"
    },
    {
     "data": {
      "text/plain": [
       "'MIN_ALUNO_MEAN_IN_TERRA_NATAL 0.014262821633512566'"
      ]
     },
     "metadata": {},
     "output_type": "display_data"
    },
    {
     "data": {
      "text/plain": [
       "'IN_ALMOXARIFADO 0.013992539976706792'"
      ]
     },
     "metadata": {},
     "output_type": "display_data"
    },
    {
     "data": {
      "text/plain": [
       "'IN_SALA_ATENDIMENTO_ESPECIAL 0.01310797437115466'"
      ]
     },
     "metadata": {},
     "output_type": "display_data"
    },
    {
     "data": {
      "text/plain": [
       "'MAX_ALUNO_MEAN_IN_ONIBUS 0.012837490196809706'"
      ]
     },
     "metadata": {},
     "output_type": "display_data"
    },
    {
     "data": {
      "text/plain": [
       "'MAX_qtd_cedidos 0.012345983641812934'"
      ]
     },
     "metadata": {},
     "output_type": "display_data"
    },
    {
     "data": {
      "text/plain": [
       "'NU_EQUIP_FOTO_PER_MATRICULA 0.011478929038461027'"
      ]
     },
     "metadata": {},
     "output_type": "display_data"
    },
    {
     "data": {
      "text/plain": [
       "'SUM_TURMA_IN_ESPECIAL_EXCLUSIVA 0.009683974799610364'"
      ]
     },
     "metadata": {},
     "output_type": "display_data"
    },
    {
     "data": {
      "text/plain": [
       "'NU_EQUIP_DVD_PER_MATRICULA 0.008422843959652206'"
      ]
     },
     "metadata": {},
     "output_type": "display_data"
    },
    {
     "data": {
      "text/plain": [
       "'NU_EQUIP_IMPRESSORA_MULT_PER_MATRICULA 0.008364884618625836'"
      ]
     },
     "metadata": {},
     "output_type": "display_data"
    },
    {
     "data": {
      "text/plain": [
       "'MAX_qtd_mulheres_resp 0.008274141962498408'"
      ]
     },
     "metadata": {},
     "output_type": "display_data"
    },
    {
     "data": {
      "text/plain": [
       "'SUM_TURMA_IN_PROFISSIONALIZANTE 0.008266301692308254'"
      ]
     },
     "metadata": {},
     "output_type": "display_data"
    },
    {
     "data": {
      "text/plain": [
       "'IN_BANHEIRO_CHUVEIRO 0.00815192753643313'"
      ]
     },
     "metadata": {},
     "output_type": "display_data"
    },
    {
     "data": {
      "text/plain": [
       "'MAX_ALUNO_MEAN_IN_TERRA_NATAL 0.008005163530783897'"
      ]
     },
     "metadata": {},
     "output_type": "display_data"
    },
    {
     "data": {
      "text/plain": [
       "'MIN_qtd_pss_acima_65 0.007400185506124178'"
      ]
     },
     "metadata": {},
     "output_type": "display_data"
    },
    {
     "data": {
      "text/plain": [
       "'IN_EQUIP_IMPRESSORA_MULT 0.007125830985418084'"
      ]
     },
     "metadata": {},
     "output_type": "display_data"
    },
    {
     "data": {
      "text/plain": [
       "'NU_EQUIP_VIDEOCASSETE_PER_MATRICULA 0.006871944717912859'"
      ]
     },
     "metadata": {},
     "output_type": "display_data"
    },
    {
     "data": {
      "text/plain": [
       "'IN_EQUIP_RETROPROJETOR 0.0065748430013997956'"
      ]
     },
     "metadata": {},
     "output_type": "display_data"
    },
    {
     "data": {
      "text/plain": [
       "'MIN_qtd_dom_renda_max_per_mais_5sm 0.005330517536381227'"
      ]
     },
     "metadata": {},
     "output_type": "display_data"
    },
    {
     "data": {
      "text/plain": [
       "'MAX_qtd_dom_renda_per_cap_abx_1sm_vizinhos 0.005030934893731763'"
      ]
     },
     "metadata": {},
     "output_type": "display_data"
    },
    {
     "data": {
      "text/plain": [
       "'MAX_qtd_dom_renda_per_cap_abx_1sm 0.004583543968825558'"
      ]
     },
     "metadata": {},
     "output_type": "display_data"
    },
    {
     "data": {
      "text/plain": [
       "'MIN_ALUNO_MEAN_IN_ONIBUS 0.0035630178064839264'"
      ]
     },
     "metadata": {},
     "output_type": "display_data"
    },
    {
     "data": {
      "text/plain": [
       "'NU_EQUIP_RETROPROJETOR 0.0035578148391586565'"
      ]
     },
     "metadata": {},
     "output_type": "display_data"
    },
    {
     "data": {
      "text/plain": [
       "'NU_EQUIP_PARABOLICA_PER_MATRICULA 0.0033040565677306456'"
      ]
     },
     "metadata": {},
     "output_type": "display_data"
    },
    {
     "data": {
      "text/plain": [
       "'MIN_DISTANCIA_SETOR_ENTIDADE 0.002981877064258401'"
      ]
     },
     "metadata": {},
     "output_type": "display_data"
    },
    {
     "data": {
      "text/plain": [
       "'MAX_ALUNO_MEAN_IN_H0MEM 0.0026598630030241492'"
      ]
     },
     "metadata": {},
     "output_type": "display_data"
    },
    {
     "data": {
      "text/plain": [
       "'NU_EQUIP_TV_PER_MATRICULA 0.0024834565511917964'"
      ]
     },
     "metadata": {},
     "output_type": "display_data"
    },
    {
     "data": {
      "text/plain": [
       "'SUM_TURMA_IN_EJA 0.0022310351619782144'"
      ]
     },
     "metadata": {},
     "output_type": "display_data"
    },
    {
     "data": {
      "text/plain": [
       "'MIN_qtd_em_aquisicao 0.0017953028153837663'"
      ]
     },
     "metadata": {},
     "output_type": "display_data"
    },
    {
     "data": {
      "text/plain": [
       "'SUM_TURMA_NU_MATRICULAS 0.0014140159128319077'"
      ]
     },
     "metadata": {},
     "output_type": "display_data"
    },
    {
     "data": {
      "text/plain": [
       "'IN_COMUM_PRE 0.0012812761147377649'"
      ]
     },
     "metadata": {},
     "output_type": "display_data"
    },
    {
     "data": {
      "text/plain": [
       "'NU_EQUIP_IMPRESSORA_MULT 0.0012796440721678719'"
      ]
     },
     "metadata": {},
     "output_type": "display_data"
    },
    {
     "data": {
      "text/plain": [
       "'MAX_qtd_pss_abx_12 0.0011136236083516366'"
      ]
     },
     "metadata": {},
     "output_type": "display_data"
    },
    {
     "data": {
      "text/plain": [
       "'MIN_TURMA_NU_MATRICULAS 0.0006904403919098164'"
      ]
     },
     "metadata": {},
     "output_type": "display_data"
    },
    {
     "data": {
      "text/plain": [
       "'MAX_qtd_pss_acima_90 -0.0009050896953769108'"
      ]
     },
     "metadata": {},
     "output_type": "display_data"
    },
    {
     "data": {
      "text/plain": [
       "'IN_LABORATORIO_CIENCIAS -0.0010716587987392365'"
      ]
     },
     "metadata": {},
     "output_type": "display_data"
    },
    {
     "data": {
      "text/plain": [
       "'MIN_ALUNO_MEAN_IN_H0MEM -0.0014080277645395006'"
      ]
     },
     "metadata": {},
     "output_type": "display_data"
    },
    {
     "data": {
      "text/plain": [
       "'NU_EQUIP_VIDEOCASSETE -0.0023717613245126433'"
      ]
     },
     "metadata": {},
     "output_type": "display_data"
    },
    {
     "data": {
      "text/plain": [
       "'NU_EQUIP_IMPRESSORA_PER_MATRICULA -0.0030093009623367744'"
      ]
     },
     "metadata": {},
     "output_type": "display_data"
    },
    {
     "data": {
      "text/plain": [
       "'LONG -0.0036440092211959116'"
      ]
     },
     "metadata": {},
     "output_type": "display_data"
    },
    {
     "data": {
      "text/plain": [
       "'IN_BIBLIOTECA -0.003671319454451185'"
      ]
     },
     "metadata": {},
     "output_type": "display_data"
    },
    {
     "data": {
      "text/plain": [
       "'SUM_qtd_dom_renda_per_cap_abx_1sm -0.003999218746006085'"
      ]
     },
     "metadata": {},
     "output_type": "display_data"
    },
    {
     "data": {
      "text/plain": [
       "'SUM_qtd_dom_renda_per_cap_abx_1sm_vizinhos -0.004444225159081135'"
      ]
     },
     "metadata": {},
     "output_type": "display_data"
    },
    {
     "data": {
      "text/plain": [
       "'MAX_TURMA_NU_MATRICULAS -0.006068629919032694'"
      ]
     },
     "metadata": {},
     "output_type": "display_data"
    },
    {
     "data": {
      "text/plain": [
       "'MAX_qtd_dom_renda_max_per_mais_5sm -0.0064512343403219955'"
      ]
     },
     "metadata": {},
     "output_type": "display_data"
    },
    {
     "data": {
      "text/plain": [
       "'NU_EQUIP_FOTO -0.006610767189514641'"
      ]
     },
     "metadata": {},
     "output_type": "display_data"
    },
    {
     "data": {
      "text/plain": [
       "'IN_DESPENSA -0.006968101221948884'"
      ]
     },
     "metadata": {},
     "output_type": "display_data"
    },
    {
     "data": {
      "text/plain": [
       "'SUM_qtd_cedidos -0.007287968415365244'"
      ]
     },
     "metadata": {},
     "output_type": "display_data"
    },
    {
     "data": {
      "text/plain": [
       "'IN_FINAL_SEMANA -0.007596126839695549'"
      ]
     },
     "metadata": {},
     "output_type": "display_data"
    },
    {
     "data": {
      "text/plain": [
       "'MIN_qtd_pss_acima_90 -0.007815043469134876'"
      ]
     },
     "metadata": {},
     "output_type": "display_data"
    },
    {
     "data": {
      "text/plain": [
       "'IN_QUADRA_ESPORTES_COBERTA -0.01016047763704136'"
      ]
     },
     "metadata": {},
     "output_type": "display_data"
    },
    {
     "data": {
      "text/plain": [
       "'NU_EQUIP_SOM_PER_MATRICULA -0.010309065791535977'"
      ]
     },
     "metadata": {},
     "output_type": "display_data"
    },
    {
     "data": {
      "text/plain": [
       "'IN_PARQUE_INFANTIL -0.011050962935593798'"
      ]
     },
     "metadata": {},
     "output_type": "display_data"
    },
    {
     "data": {
      "text/plain": [
       "'SUM_qtd_dom_renda_max_per_mais_5sm -0.011141657275385622'"
      ]
     },
     "metadata": {},
     "output_type": "display_data"
    },
    {
     "data": {
      "text/plain": [
       "'MAX_renda_media_dom -0.011200406832466345'"
      ]
     },
     "metadata": {},
     "output_type": "display_data"
    },
    {
     "data": {
      "text/plain": [
       "'MIN_qtd_cedidos -0.011642247942126063'"
      ]
     },
     "metadata": {},
     "output_type": "display_data"
    },
    {
     "data": {
      "text/plain": [
       "'NU_EQUIP_COPIADORA_PER_MATRICULA -0.011790895646366836'"
      ]
     },
     "metadata": {},
     "output_type": "display_data"
    },
    {
     "data": {
      "text/plain": [
       "'SUM_qtd_pss_acima_90 -0.01186467759885337'"
      ]
     },
     "metadata": {},
     "output_type": "display_data"
    },
    {
     "data": {
      "text/plain": [
       "'PC_SALAS_UTILIZADAS -0.012047851702221522'"
      ]
     },
     "metadata": {},
     "output_type": "display_data"
    },
    {
     "data": {
      "text/plain": [
       "'SUM_qtd_pss_abx_12 -0.01276301427557049'"
      ]
     },
     "metadata": {},
     "output_type": "display_data"
    },
    {
     "data": {
      "text/plain": [
       "'MAX_qtd_pss_acima_65 -0.013940316817964609'"
      ]
     },
     "metadata": {},
     "output_type": "display_data"
    },
    {
     "data": {
      "text/plain": [
       "'IN_EJA -0.014280624450460723'"
      ]
     },
     "metadata": {},
     "output_type": "display_data"
    },
    {
     "data": {
      "text/plain": [
       "'NU_EQUIP_SOM -0.014947365198641384'"
      ]
     },
     "metadata": {},
     "output_type": "display_data"
    },
    {
     "data": {
      "text/plain": [
       "'SUM_qtd_alugados -0.014961380028733878'"
      ]
     },
     "metadata": {},
     "output_type": "display_data"
    },
    {
     "data": {
      "text/plain": [
       "'IN_BIBLIOTECA_SALA_LEITURA -0.015527346024682899'"
      ]
     },
     "metadata": {},
     "output_type": "display_data"
    },
    {
     "data": {
      "text/plain": [
       "'MAX_DISTANCIA_SETOR_ENTIDADE -0.015788005223035348'"
      ]
     },
     "metadata": {},
     "output_type": "display_data"
    },
    {
     "data": {
      "text/plain": [
       "'SUM_qtd_pss_acima_65 -0.016419195131611077'"
      ]
     },
     "metadata": {},
     "output_type": "display_data"
    },
    {
     "data": {
      "text/plain": [
       "'NU_EQUIP_TV -0.016599184983508507'"
      ]
     },
     "metadata": {},
     "output_type": "display_data"
    },
    {
     "data": {
      "text/plain": [
       "'IN_ESP_EXCLUSIVA_FUND_AI -0.01745519660787506'"
      ]
     },
     "metadata": {},
     "output_type": "display_data"
    },
    {
     "data": {
      "text/plain": [
       "'MAX_qtd_alugados -0.017726300573150052'"
      ]
     },
     "metadata": {},
     "output_type": "display_data"
    },
    {
     "data": {
      "text/plain": [
       "'NU_COMP_ALUNO_PER_MATRICULA -0.01783872320303217'"
      ]
     },
     "metadata": {},
     "output_type": "display_data"
    },
    {
     "data": {
      "text/plain": [
       "'SUM_qtd_mulheres_resp -0.017993029941834538'"
      ]
     },
     "metadata": {},
     "output_type": "display_data"
    },
    {
     "data": {
      "text/plain": [
       "'SUM_qtd_pessoas_vizinhos -0.019055957711275905'"
      ]
     },
     "metadata": {},
     "output_type": "display_data"
    },
    {
     "data": {
      "text/plain": [
       "'SUM_qtd_pessoas -0.01920767655638484'"
      ]
     },
     "metadata": {},
     "output_type": "display_data"
    },
    {
     "data": {
      "text/plain": [
       "'SUM_qtd_dom_vizinhos -0.019290181271040093'"
      ]
     },
     "metadata": {},
     "output_type": "display_data"
    },
    {
     "data": {
      "text/plain": [
       "'SUM_qtd_domicilios -0.019297138033997605'"
      ]
     },
     "metadata": {},
     "output_type": "display_data"
    },
    {
     "data": {
      "text/plain": [
       "'IN_PATIO_DESCOBERTO -0.019374218621667025'"
      ]
     },
     "metadata": {},
     "output_type": "display_data"
    },
    {
     "data": {
      "text/plain": [
       "'SUM_qtd_quitados -0.019448329308482233'"
      ]
     },
     "metadata": {},
     "output_type": "display_data"
    },
    {
     "data": {
      "text/plain": [
       "'SUM_TURMA_IN_DISC_ESTUDOS_SOCIAIS -0.01948092605197646'"
      ]
     },
     "metadata": {},
     "output_type": "display_data"
    },
    {
     "data": {
      "text/plain": [
       "'SUM_qtd_mulheres -0.019654414497978487'"
      ]
     },
     "metadata": {},
     "output_type": "display_data"
    },
    {
     "data": {
      "text/plain": [
       "'IN_QUADRA_ESPORTES_DESCOBERTA -0.019931370014030655'"
      ]
     },
     "metadata": {},
     "output_type": "display_data"
    },
    {
     "data": {
      "text/plain": [
       "'IN_BANHEIRO_EI -0.019951147460941926'"
      ]
     },
     "metadata": {},
     "output_type": "display_data"
    },
    {
     "data": {
      "text/plain": [
       "'NU_EQUIP_MULTIMIDIA_PER_MATRICULA -0.02001187891787649'"
      ]
     },
     "metadata": {},
     "output_type": "display_data"
    },
    {
     "data": {
      "text/plain": [
       "'NU_EQUIP_DVD -0.020368452345219355'"
      ]
     },
     "metadata": {},
     "output_type": "display_data"
    },
    {
     "data": {
      "text/plain": [
       "'NU_EQUIP_FAX_PER_MATRICULA -0.020422433107424063'"
      ]
     },
     "metadata": {},
     "output_type": "display_data"
    },
    {
     "data": {
      "text/plain": [
       "'SUM_TURMA_IN_DISC_LINGUA_ESPANHOL -0.020806669451978493'"
      ]
     },
     "metadata": {},
     "output_type": "display_data"
    },
    {
     "data": {
      "text/plain": [
       "'IN_QUADRA_ESPORTES -0.021680769685387288'"
      ]
     },
     "metadata": {},
     "output_type": "display_data"
    },
    {
     "data": {
      "text/plain": [
       "'MAX_qtd_quitados -0.02199950751378335'"
      ]
     },
     "metadata": {},
     "output_type": "display_data"
    },
    {
     "data": {
      "text/plain": [
       "'SUM_TURMA_IN_DISC_FISICA -0.022608034176996004'"
      ]
     },
     "metadata": {},
     "output_type": "display_data"
    },
    {
     "data": {
      "text/plain": [
       "'SUM_TURMA_IN_DISC_SOCIOLOGIA -0.02276357479797977'"
      ]
     },
     "metadata": {},
     "output_type": "display_data"
    },
    {
     "data": {
      "text/plain": [
       "'MAX_qtd_pessoas -0.02381989323057228'"
      ]
     },
     "metadata": {},
     "output_type": "display_data"
    },
    {
     "data": {
      "text/plain": [
       "'MIN_ALUNO_MEAN_NU_IDADE -0.02385543093081482'"
      ]
     },
     "metadata": {},
     "output_type": "display_data"
    },
    {
     "data": {
      "text/plain": [
       "'MAX_qtd_pessoas_vizinhos -0.023978615788047174'"
      ]
     },
     "metadata": {},
     "output_type": "display_data"
    },
    {
     "data": {
      "text/plain": [
       "'QTD_CO_SETOR_CENSITARIO -0.024311427512385506'"
      ]
     },
     "metadata": {},
     "output_type": "display_data"
    },
    {
     "data": {
      "text/plain": [
       "'IN_DEPENDENCIAS_PNE -0.024385730769641553'"
      ]
     },
     "metadata": {},
     "output_type": "display_data"
    },
    {
     "data": {
      "text/plain": [
       "'MAX_qtd_domicilios -0.025105403636834375'"
      ]
     },
     "metadata": {},
     "output_type": "display_data"
    },
    {
     "data": {
      "text/plain": [
       "'MAX_qtd_dom_vizinhos -0.025105403636834375'"
      ]
     },
     "metadata": {},
     "output_type": "display_data"
    },
    {
     "data": {
      "text/plain": [
       "'NU_COMPUTADOR_PER_MATRICULA -0.025813507420059396'"
      ]
     },
     "metadata": {},
     "output_type": "display_data"
    },
    {
     "data": {
      "text/plain": [
       "'SUM_TURMA_IN_DISC_QUIMICA -0.02585702648596223'"
      ]
     },
     "metadata": {},
     "output_type": "display_data"
    },
    {
     "data": {
      "text/plain": [
       "'SUM_TURMA_IN_DISC_BIOLOGIA -0.02601586831875183'"
      ]
     },
     "metadata": {},
     "output_type": "display_data"
    },
    {
     "data": {
      "text/plain": [
       "'IN_COMUM_MEDIO_MEDIO -0.027088049522479028'"
      ]
     },
     "metadata": {},
     "output_type": "display_data"
    },
    {
     "data": {
      "text/plain": [
       "'MAX_qtd_mulheres -0.027495169007851004'"
      ]
     },
     "metadata": {},
     "output_type": "display_data"
    },
    {
     "data": {
      "text/plain": [
       "'SUM_TURMA_IN_DISC_EST_SOCIAIS_SOCIOLOGIA -0.02775278499317765'"
      ]
     },
     "metadata": {},
     "output_type": "display_data"
    },
    {
     "data": {
      "text/plain": [
       "'NU_COMP_ALUNO -0.028138702626557155'"
      ]
     },
     "metadata": {},
     "output_type": "display_data"
    },
    {
     "data": {
      "text/plain": [
       "'IN_ESPECIAL_EXCLUSIVA -0.028673886252537896'"
      ]
     },
     "metadata": {},
     "output_type": "display_data"
    },
    {
     "data": {
      "text/plain": [
       "'SUM_TURMA_IN_DISC_FILOSOFIA -0.02872741013300437'"
      ]
     },
     "metadata": {},
     "output_type": "display_data"
    },
    {
     "data": {
      "text/plain": [
       "'NU_EQUIP_PARABOLICA -0.029441944536583838'"
      ]
     },
     "metadata": {},
     "output_type": "display_data"
    },
    {
     "data": {
      "text/plain": [
       "'NU_COMP_ADMINISTRATIVO_PER_MATRICULA -0.029488692598691826'"
      ]
     },
     "metadata": {},
     "output_type": "display_data"
    },
    {
     "data": {
      "text/plain": [
       "'NU_PROFESSORES_PER_MATRICULA -0.02968215261785392'"
      ]
     },
     "metadata": {},
     "output_type": "display_data"
    },
    {
     "data": {
      "text/plain": [
       "'IN_AREA_VERDE -0.029951037558630066'"
      ]
     },
     "metadata": {},
     "output_type": "display_data"
    },
    {
     "data": {
      "text/plain": [
       "'IN_REFEITORIO -0.0304477135704239'"
      ]
     },
     "metadata": {},
     "output_type": "display_data"
    },
    {
     "data": {
      "text/plain": [
       "'IN_LABORATORIO_INFORMATICA -0.030489587552969186'"
      ]
     },
     "metadata": {},
     "output_type": "display_data"
    },
    {
     "data": {
      "text/plain": [
       "'IN_EQUIP_VIDEOCASSETE -0.03069540215442024'"
      ]
     },
     "metadata": {},
     "output_type": "display_data"
    },
    {
     "data": {
      "text/plain": [
       "'IN_BANHEIRO_PNE -0.031526661832979266'"
      ]
     },
     "metadata": {},
     "output_type": "display_data"
    },
    {
     "data": {
      "text/plain": [
       "'MAX_ALUNO_MEAN_NU_IDADE -0.0318234475897033'"
      ]
     },
     "metadata": {},
     "output_type": "display_data"
    },
    {
     "data": {
      "text/plain": [
       "'IN_EQUIP_FOTO -0.03248514227176294'"
      ]
     },
     "metadata": {},
     "output_type": "display_data"
    },
    {
     "data": {
      "text/plain": [
       "'IN_EQUIP_PARABOLICA -0.0337718123490843'"
      ]
     },
     "metadata": {},
     "output_type": "display_data"
    },
    {
     "data": {
      "text/plain": [
       "'NU_EQUIP_FAX -0.03684296301334032'"
      ]
     },
     "metadata": {},
     "output_type": "display_data"
    },
    {
     "data": {
      "text/plain": [
       "'IN_EQUIP_FAX -0.038688622760372667'"
      ]
     },
     "metadata": {},
     "output_type": "display_data"
    },
    {
     "data": {
      "text/plain": [
       "'NU_EQUIP_IMPRESSORA -0.0395901222647585'"
      ]
     },
     "metadata": {},
     "output_type": "display_data"
    },
    {
     "data": {
      "text/plain": [
       "'NU_SALAS_EXISTENTES_PER_MATRICULA -0.04251077774743626'"
      ]
     },
     "metadata": {},
     "output_type": "display_data"
    },
    {
     "data": {
      "text/plain": [
       "'NU_FUNCIONARIOS_PER_MATRICULA -0.043136660035038736'"
      ]
     },
     "metadata": {},
     "output_type": "display_data"
    },
    {
     "data": {
      "text/plain": [
       "'IN_ESGOTO_REDE_PUBLICA -0.04440937919045113'"
      ]
     },
     "metadata": {},
     "output_type": "display_data"
    },
    {
     "data": {
      "text/plain": [
       "'NU_SALAS_UTILIZADAS_PER_MATRICULA -0.045229645883492375'"
      ]
     },
     "metadata": {},
     "output_type": "display_data"
    },
    {
     "data": {
      "text/plain": [
       "'NU_EQUIP_COPIADORA -0.04813855777841364'"
      ]
     },
     "metadata": {},
     "output_type": "display_data"
    },
    {
     "data": {
      "text/plain": [
       "'SUM_TURMA_IN_MANHA -0.048311765161940266'"
      ]
     },
     "metadata": {},
     "output_type": "display_data"
    },
    {
     "data": {
      "text/plain": [
       "'SUM_qtd_em_aquisicao -0.05533856182539963'"
      ]
     },
     "metadata": {},
     "output_type": "display_data"
    },
    {
     "data": {
      "text/plain": [
       "'NU_COMP_ADMINISTRATIVO -0.05987242895373029'"
      ]
     },
     "metadata": {},
     "output_type": "display_data"
    },
    {
     "data": {
      "text/plain": [
       "'IN_AUDITORIO -0.060239851827722006'"
      ]
     },
     "metadata": {},
     "output_type": "display_data"
    },
    {
     "data": {
      "text/plain": [
       "'MAX_qtd_em_aquisicao -0.06743679322983907'"
      ]
     },
     "metadata": {},
     "output_type": "display_data"
    },
    {
     "data": {
      "text/plain": [
       "'NU_TTL_MATRICLAS -0.06973346556572664'"
      ]
     },
     "metadata": {},
     "output_type": "display_data"
    },
    {
     "data": {
      "text/plain": [
       "'NU_EQUIP_MULTIMIDIA -0.06974019590056026'"
      ]
     },
     "metadata": {},
     "output_type": "display_data"
    },
    {
     "data": {
      "text/plain": [
       "'NU_COMPUTADOR -0.07017789405131092'"
      ]
     },
     "metadata": {},
     "output_type": "display_data"
    },
    {
     "data": {
      "text/plain": [
       "'NU_SALAS_EXISTENTES -0.08505439526428835'"
      ]
     },
     "metadata": {},
     "output_type": "display_data"
    },
    {
     "data": {
      "text/plain": [
       "'NU_SALAS_UTILIZADAS -0.08750181181646156'"
      ]
     },
     "metadata": {},
     "output_type": "display_data"
    },
    {
     "data": {
      "text/plain": [
       "'NU_FUNCIONARIOS -0.10104218941789399'"
      ]
     },
     "metadata": {},
     "output_type": "display_data"
    }
   ],
   "source": [
    "cols_alta_correlacao =[]\n",
    "for l in model_vars.drop('PROF_CO_PESSOA_FISICA',axis=1).set_index(['CO_PESSOA_FISICA','CO_ENTIDADE']).corr()[['target']].sort_values('target',ascending=False).reset_index().itertuples():\n",
    "    display(str(l[1]) + ' ' + str(l[2]))\n",
    "    if l[2] < -0.02 or l[2] > 0.02:\n",
    "        cols_alta_correlacao.append(l[1])"
   ]
  },
  {
   "cell_type": "markdown",
   "metadata": {},
   "source": [
    "### Uma modelagem com Random Forest para verificar as features mais importantes."
   ]
  },
  {
   "cell_type": "code",
   "execution_count": 23,
   "metadata": {
    "scrolled": true
   },
   "outputs": [
    {
     "data": {
      "text/plain": [
       "array([[1425,  441],\n",
       "       [ 609,  391]])"
      ]
     },
     "metadata": {},
     "output_type": "display_data"
    },
    {
     "name": "stdout",
     "output_type": "stream",
     "text": [
      "Base de TREINO\n",
      "             precision    recall  f1-score   support\n",
      "\n",
      "      False       0.92      0.96      0.94      5483\n",
      "       True       0.92      0.85      0.88      3112\n",
      "\n",
      "avg / total       0.92      0.92      0.92      8595\n",
      "\n",
      "Base de TESTE\n",
      "             precision    recall  f1-score   support\n",
      "\n",
      "      False       0.70      0.76      0.73      1866\n",
      "       True       0.47      0.39      0.43      1000\n",
      "\n",
      "avg / total       0.62      0.63      0.62      2866\n",
      "\n"
     ]
    },
    {
     "data": {
      "image/png": "[encoded data removed]",
      "text/plain": [
       "<Figure size 432x288 with 1 Axes>"
      ]
     },
     "metadata": {},
     "output_type": "display_data"
    },
    {
     "name": "stdout",
     "output_type": "stream",
     "text": [
      "Feature ranking:\n",
      "1. feature MIN_ALUNO_MEAN_NU_IDADE (0.107470)\n",
      "2. feature MAX_ALUNO_MEAN_NU_IDADE (0.106204)\n",
      "3. feature ALUNO_COUNT_CO_PESSOA_FISICA (0.095308)\n",
      "4. feature SUM_TURMA_IN_MANHA (0.020160)\n",
      "5. feature SUM_qtd_em_aquisicao (0.016604)\n",
      "6. feature SUM_TURMA_IN_TARDE (0.016371)\n",
      "7. feature NU_TTL_MATRICLAS (0.015794)\n",
      "8. feature NU_COMPUTADOR_PER_MATRICULA (0.015765)\n",
      "9. feature LAT (0.015400)\n",
      "10. feature NU_FUNCIONARIOS (0.015331)\n",
      "11. feature SUM_TURMA_NU_DURACAO_TURMA (0.015269)\n",
      "12. feature NU_FUNCIONARIOS_PER_MATRICULA (0.015263)\n",
      "13. feature NU_PROFESSORES_PER_MATRICULA (0.015153)\n",
      "14. feature NU_COMP_ADMINISTRATIVO_PER_MATRICULA (0.014141)\n",
      "15. feature NU_COMPUTADOR (0.013942)\n",
      "16. feature QTD_CO_SETOR_CENSITARIO (0.013803)\n",
      "17. feature NU_SALAS_UTILIZADAS_PER_MATRICULA (0.013747)\n",
      "18. feature SUM_TURMA_IN_MAIS_EDUCACAO (0.013633)\n",
      "19. feature MAX_qtd_em_aquisicao (0.013311)\n",
      "20. feature NU_SALAS_EXISTENTES_PER_MATRICULA (0.013036)\n",
      "21. feature NU_EQUIP_MULTIMIDIA_PER_MATRICULA (0.012909)\n",
      "22. feature SUM_TURMA_IN_DISC_CIENCIAS (0.012771)\n",
      "23. feature NU_COMP_ALUNO (0.012177)\n",
      "24. feature NU_SALAS_UTILIZADAS (0.011378)\n",
      "25. feature NU_SALAS_EXISTENTES (0.010899)\n",
      "26. feature SUM_TURMA_IN_DISC_GEOGRAFIA (0.010755)\n",
      "27. feature SUM_TURMA_IN_REGULAR (0.010392)\n",
      "28. feature NU_EQUIP_IMPRESSORA (0.009976)\n",
      "29. feature SUM_TURMA_IN_DISC_LINGUA_PORTUGUESA (0.009873)\n",
      "30. feature MAX_qtd_pessoas (0.009692)\n",
      "31. feature MAX_qtd_dom_vizinhos (0.009567)\n",
      "32. feature SUM_TURMA_IN_DISC_HISTORIA (0.009449)\n",
      "33. feature SUM_TURMA_IN_DISC_ARTES (0.009381)\n",
      "34. feature SUM_TURMA_IN_DISC_LINGUA_INGLES (0.009262)\n",
      "35. feature MAX_qtd_quitados (0.009230)\n",
      "36. feature SUM_TURMA_NU_DIAS_ATIVIDADE (0.008828)\n",
      "37. feature MAX_qtd_pessoas_vizinhos (0.008670)\n",
      "38. feature MAX_qtd_mulheres (0.008576)\n",
      "39. feature SUM_TURMA_IN_DISC_EDUCACAO_FISICA (0.008324)\n",
      "40. feature SUM_TURMA_IN_DISC_OUTRAS (0.008304)\n",
      "41. feature SUM_TURMA_IN_DIA_SEMANA_SEXTA (0.008217)\n",
      "42. feature SUM_TURMA_IN_DIA_SEMANA_QUARTA (0.008127)\n",
      "43. feature NU_COMP_ADMINISTRATIVO (0.008080)\n",
      "44. feature SUM_TURMA_IN_DIA_SEMANA_SEGUNDA (0.008073)\n",
      "45. feature SUM_TURMA_IN_DIA_SEMANA_TERCA (0.007775)\n",
      "46. feature NU_EQUIP_FAX_PER_MATRICULA (0.007689)\n",
      "47. feature SUM_TURMA_IN_DISC_MATEMATICA (0.007538)\n",
      "48. feature MAX_TURMA_NU_DURACAO_TURMA (0.007380)\n",
      "49. feature MAX_qtd_domicilios (0.007345)\n",
      "50. feature SUM_TURMA_IN_DISC_BIOLOGIA (0.007090)\n",
      "51. feature NU_EQUIP_DVD (0.007059)\n",
      "52. feature SUM_TURMA_IN_DIA_SEMANA_QUINTA (0.006900)\n",
      "53. feature SUM_TURMA_IN_DISC_SOCIOLOGIA (0.006728)\n",
      "54. feature NU_EQUIP_MULTIMIDIA (0.006504)\n",
      "55. feature MIN_renda_media_dom (0.006382)\n",
      "56. feature SUM_TURMA_IN_DISC_QUIMICA (0.006285)\n",
      "57. feature MIN_TURMA_NU_DURACAO_TURMA (0.006140)\n",
      "58. feature SUM_TURMA_IN_DISC_EST_SOCIAIS_SOCIOLOGIA (0.005961)\n",
      "59. feature MIN_qtd_pessoas_vizinhos (0.005939)\n",
      "60. feature MIN_qtd_dom_vizinhos (0.005822)\n",
      "61. feature NU_EQUIP_COPIADORA (0.005723)\n",
      "62. feature SUM_TURMA_IN_DISC_FILOSOFIA (0.005608)\n",
      "63. feature SUM_TURMA_IN_DISC_FISICA (0.005409)\n",
      "64. feature SUM_TURMA_IN_DISC_ENSINO_RELIGIOSO (0.005285)\n",
      "65. feature MIN_qtd_quitados (0.005025)\n",
      "66. feature IN_COMUM_FUND_AF (0.004910)\n",
      "67. feature IN_EQUIP_VIDEOCASSETE (0.003491)\n",
      "68. feature SUM_TURMA_IN_DISC_LINGUA_ESPANHOL (0.003294)\n",
      "69. feature NU_EQUIP_FAX (0.003222)\n",
      "70. feature IN_EQUIP_FAX (0.002951)\n",
      "71. feature IN_BANHEIRO_PNE (0.002948)\n",
      "72. feature IN_FUNDAMENTAL_CICLOS (0.002859)\n",
      "73. feature TP_ATIVIDADE_COMPLEMENTAR (0.002776)\n",
      "74. feature SUM_TURMA_IN_DISC_INFORMATICA_COMPUTACAO (0.002671)\n",
      "75. feature IN_EQUIP_FOTO (0.002638)\n",
      "76. feature IN_DEPENDENCIAS_PNE (0.002604)\n",
      "77. feature MIN_qtd_alugados (0.002574)\n",
      "78. feature IN_EQUIP_PARABOLICA (0.002512)\n",
      "79. feature IN_REFEITORIO (0.002498)\n",
      "80. feature IN_QUADRA_ESPORTES (0.002452)\n",
      "81. feature NU_EQUIP_PARABOLICA (0.002392)\n",
      "82. feature IN_AREA_VERDE (0.002309)\n",
      "83. feature SUM_TURMA_IN_DISC_LINGUA_FRANCES (0.002155)\n",
      "84. feature MAX_TURMA_NU_DIAS_ATIVIDADE (0.002093)\n",
      "85. feature IN_ESPECIAL_EXCLUSIVA (0.002023)\n",
      "86. feature SUM_TURMA_IN_DISC_LIBRAS (0.001497)\n",
      "87. feature MIN_TURMA_NU_DIAS_ATIVIDADE (0.001427)\n",
      "88. feature IN_LABORATORIO_INFORMATICA (0.001281)\n",
      "89. feature IN_ESGOTO_FOSSA (0.001241)\n",
      "90. feature SUM_TURMA_IN_DISC_LINGUA_OUTRA (0.001224)\n",
      "91. feature IN_COMUM_MEDIO_MEDIO (0.001006)\n",
      "92. feature IN_AUDITORIO (0.000959)\n",
      "93. feature IN_ESGOTO_REDE_PUBLICA (0.000910)\n",
      "94. feature SUM_TURMA_IN_DISC_LINGUA_INDIGENA (0.000886)\n"
     ]
    },
    {
     "data": {
      "image/png": "[encoded data removed]",
      "text/plain": [
       "<Figure size 432x288 with 1 Axes>"
      ]
     },
     "metadata": {},
     "output_type": "display_data"
    }
   ],
   "source": [
    "a = processa_tudo(model_vars[cols_alta_correlacao])"
   ]
  },
  {
   "cell_type": "code",
   "execution_count": 24,
   "metadata": {
    "scrolled": true
   },
   "outputs": [
    {
     "data": {
      "text/plain": [
       "array([[1428,  438],\n",
       "       [ 618,  382]])"
      ]
     },
     "metadata": {},
     "output_type": "display_data"
    },
    {
     "name": "stdout",
     "output_type": "stream",
     "text": [
      "Base de TREINO\n",
      "             precision    recall  f1-score   support\n",
      "\n",
      "      False       0.92      0.96      0.94      5483\n",
      "       True       0.92      0.85      0.89      3112\n",
      "\n",
      "avg / total       0.92      0.92      0.92      8595\n",
      "\n",
      "Base de TESTE\n",
      "             precision    recall  f1-score   support\n",
      "\n",
      "      False       0.70      0.77      0.73      1866\n",
      "       True       0.47      0.38      0.42      1000\n",
      "\n",
      "avg / total       0.62      0.63      0.62      2866\n",
      "\n"
     ]
    },
    {
     "data": {
      "image/png": "[encoded data removed]",
      "text/plain": [
       "<Figure size 432x288 with 1 Axes>"
      ]
     },
     "metadata": {},
     "output_type": "display_data"
    },
    {
     "name": "stdout",
     "output_type": "stream",
     "text": [
      "Feature ranking:\n",
      "1. feature ALUNO_COUNT_CO_PESSOA_FISICA (0.170528)\n",
      "2. feature MAX_ALUNO_MEAN_NU_IDADE (0.167958)\n",
      "3. feature MIN_ALUNO_MEAN_NU_IDADE (0.160589)\n",
      "4. feature LAT (0.087591)\n",
      "5. feature NU_TTL_MATRICLAS (0.082770)\n",
      "6. feature NU_FUNCIONARIOS (0.081225)\n",
      "7. feature SUM_qtd_em_aquisicao (0.078156)\n",
      "8. feature NU_COMPUTADOR_PER_MATRICULA (0.078091)\n",
      "9. feature SUM_TURMA_IN_MANHA (0.048767)\n",
      "10. feature SUM_TURMA_IN_TARDE (0.044324)\n"
     ]
    },
    {
     "data": {
      "image/png": "[encoded data removed]",
      "text/plain": [
       "<Figure size 432x288 with 1 Axes>"
      ]
     },
     "metadata": {},
     "output_type": "display_data"
    }
   ],
   "source": [
    "b = processa_tudo(model_vars[a[0][:10]+ ['target']])"
   ]
  },
  {
   "cell_type": "code",
   "execution_count": 25,
   "metadata": {},
   "outputs": [
    {
     "data": {
      "text/plain": [
       "array([[1381,  485],\n",
       "       [ 645,  355]])"
      ]
     },
     "metadata": {},
     "output_type": "display_data"
    },
    {
     "name": "stdout",
     "output_type": "stream",
     "text": [
      "Base de TREINO\n",
      "             precision    recall  f1-score   support\n",
      "\n",
      "      False       0.86      0.92      0.89      5483\n",
      "       True       0.84      0.74      0.79      3112\n",
      "\n",
      "avg / total       0.85      0.86      0.85      8595\n",
      "\n",
      "Base de TESTE\n",
      "             precision    recall  f1-score   support\n",
      "\n",
      "      False       0.68      0.74      0.71      1866\n",
      "       True       0.42      0.35      0.39      1000\n",
      "\n",
      "avg / total       0.59      0.61      0.60      2866\n",
      "\n"
     ]
    },
    {
     "data": {
      "image/png": "[encoded data removed]",
      "text/plain": [
       "<Figure size 432x288 with 1 Axes>"
      ]
     },
     "metadata": {},
     "output_type": "display_data"
    },
    {
     "name": "stdout",
     "output_type": "stream",
     "text": [
      "Feature ranking:\n",
      "1. feature MAX_ALUNO_MEAN_NU_IDADE (0.353423)\n",
      "2. feature MIN_ALUNO_MEAN_NU_IDADE (0.339134)\n",
      "3. feature ALUNO_COUNT_CO_PESSOA_FISICA (0.307443)\n"
     ]
    },
    {
     "data": {
      "image/png": "[encoded data removed]",
      "text/plain": [
       "<Figure size 432x288 with 1 Axes>"
      ]
     },
     "metadata": {},
     "output_type": "display_data"
    }
   ],
   "source": [
    "b = processa_tudo(model_vars[b[0][:3]+ ['target']])"
   ]
  },
  {
   "cell_type": "markdown",
   "metadata": {},
   "source": [
    "<img src='https://media.giphy.com/media/3o6Mb2JwJPVu7VMDSw/giphy.gif'/>\n",
    "\n",
    "#### Esse resultado está muito ruim (claramente com _overfitting_), vamos fazer uns ajustes com cross validation e grid search."
   ]
  },
  {
   "cell_type": "code",
   "execution_count": 30,
   "metadata": {
    "scrolled": false
   },
   "outputs": [
    {
     "name": "stdout",
     "output_type": "stream",
     "text": [
      "RandomizedSearchCV took 2.29 seconds for 20 candidates parameter settings.\n",
      "Model with rank: 1\n",
      "Mean validation score: 0.582 (std: 0.014)\n",
      "Parameters: {'bootstrap': False, 'criterion': 'entropy', 'max_depth': None, 'max_features': 8, 'min_samples_leaf': 7, 'min_samples_split': 10}\n",
      "\n",
      "Model with rank: 2\n",
      "Mean validation score: 0.568 (std: 0.016)\n",
      "Parameters: {'bootstrap': False, 'criterion': 'gini', 'max_depth': None, 'max_features': 5, 'min_samples_leaf': 6, 'min_samples_split': 3}\n",
      "\n",
      "Model with rank: 3\n",
      "Mean validation score: 0.567 (std: 0.021)\n",
      "Parameters: {'bootstrap': False, 'criterion': 'gini', 'max_depth': None, 'max_features': 9, 'min_samples_leaf': 8, 'min_samples_split': 10}\n",
      "\n",
      "GridSearchCV took 23.77 seconds for 216 candidate parameter settings.\n",
      "Model with rank: 1\n",
      "Mean validation score: 0.579 (std: 0.023)\n",
      "Parameters: {'bootstrap': False, 'criterion': 'entropy', 'max_depth': None, 'max_features': 10, 'min_samples_leaf': 10, 'min_samples_split': 2}\n",
      "\n",
      "Model with rank: 1\n",
      "Mean validation score: 0.579 (std: 0.023)\n",
      "Parameters: {'bootstrap': False, 'criterion': 'entropy', 'max_depth': None, 'max_features': 10, 'min_samples_leaf': 10, 'min_samples_split': 3}\n",
      "\n",
      "Model with rank: 1\n",
      "Mean validation score: 0.579 (std: 0.023)\n",
      "Parameters: {'bootstrap': False, 'criterion': 'entropy', 'max_depth': None, 'max_features': 10, 'min_samples_leaf': 10, 'min_samples_split': 10}\n",
      "\n"
     ]
    },
    {
     "data": {
      "text/plain": [
       "array([[873, 153],\n",
       "       [157, 873]])"
      ]
     },
     "metadata": {},
     "output_type": "display_data"
    },
    {
     "name": "stdout",
     "output_type": "stream",
     "text": [
      "Base de TREINO\n",
      "             precision    recall  f1-score   support\n",
      "\n",
      "      False       0.57      0.58      0.58      3086\n",
      "       True       0.58      0.57      0.57      3082\n",
      "\n",
      "avg / total       0.58      0.58      0.58      6168\n",
      "\n",
      "Base de TESTE\n",
      "             precision    recall  f1-score   support\n",
      "\n",
      "      False       0.85      0.85      0.85      1026\n",
      "       True       0.85      0.85      0.85      1030\n",
      "\n",
      "avg / total       0.85      0.85      0.85      2056\n",
      "\n"
     ]
    },
    {
     "data": {
      "image/png": "[encoded data removed]",
      "text/plain": [
       "<Figure size 432x288 with 1 Axes>"
      ]
     },
     "metadata": {},
     "output_type": "display_data"
    },
    {
     "name": "stdout",
     "output_type": "stream",
     "text": [
      "Feature ranking:\n",
      "1. feature ALUNO_COUNT_CO_PESSOA_FISICA (0.035478)\n",
      "2. feature MIN_ALUNO_MEAN_NU_IDADE (0.028214)\n",
      "3. feature SUM_TURMA_NU_MATRICULAS (0.022145)\n",
      "4. feature SUM_TURMA_IN_TARDE (0.020109)\n",
      "5. feature MIN_ALUNO_MEAN_IN_H0MEM (0.018700)\n",
      "6. feature MAX_ALUNO_MEAN_IN_H0MEM (0.018501)\n",
      "7. feature NU_COMP_ADMINISTRATIVO (0.017985)\n",
      "8. feature MAX_ALUNO_MEAN_NU_IDADE (0.017009)\n",
      "9. feature MAX_DISTANCIA_SETOR_ENTIDADE (0.015327)\n",
      "10. feature MAX_TURMA_NU_MATRICULAS (0.015277)\n",
      "11. feature NU_EQUIP_MULTIMIDIA (0.015107)\n",
      "12. feature NU_TTL_MATRICLAS (0.015091)\n",
      "13. feature NU_COMPUTADOR (0.014572)\n",
      "14. feature SUM_TURMA_IN_MANHA (0.014442)\n",
      "15. feature NU_EQUIP_RETROPROJETOR_PER_MATRICULA (0.013531)\n",
      "16. feature MIN_TURMA_NU_MATRICULAS (0.013076)\n",
      "17. feature MAX_ALUNO_MEAN_IN_TERRA_NATAL (0.012647)\n",
      "18. feature NU_PROFESSORES_PER_MATRICULA (0.012228)\n",
      "19. feature SUM_qtd_cedidos (0.011941)\n",
      "20. feature NU_SALAS_UTILIZADAS (0.011607)\n",
      "21. feature MAX_qtd_pss_abx_12 (0.010943)\n",
      "22. feature NU_EQUIP_VIDEOCASSETE_PER_MATRICULA (0.010922)\n",
      "23. feature MIN_ALUNO_MEAN_IN_TERRA_NATAL (0.010840)\n",
      "24. feature SUM_qtd_em_aquisicao (0.010791)\n",
      "25. feature MAX_renda_media_dom (0.010601)\n",
      "26. feature SUM_qtd_mulheres_resp (0.010449)\n",
      "27. feature NU_SALAS_UTILIZADAS_PER_MATRICULA (0.010401)\n",
      "28. feature SUM_qtd_pss_acima_65 (0.010154)\n",
      "29. feature SUM_TURMA_IN_DISC_CIENCIAS (0.010084)\n",
      "30. feature NU_EQUIP_SOM_PER_MATRICULA (0.009940)\n",
      "31. feature SUM_TURMA_IN_DISC_LINGUA_INGLES (0.009938)\n",
      "32. feature MAX_qtd_cedidos (0.009937)\n",
      "33. feature MAX_qtd_pessoas_vizinhos (0.009812)\n",
      "34. feature NU_FUNCIONARIOS (0.009691)\n",
      "35. feature MAX_qtd_em_aquisicao (0.009668)\n",
      "36. feature MAX_qtd_dom_renda_per_cap_abx_1sm (0.009430)\n",
      "37. feature SUM_qtd_pss_abx_12 (0.009396)\n",
      "38. feature NU_EQUIP_TV_PER_MATRICULA (0.009350)\n",
      "39. feature NU_EQUIP_IMPRESSORA_PER_MATRICULA (0.009321)\n",
      "40. feature SUM_qtd_pessoas_vizinhos (0.008870)\n",
      "41. feature NU_COMPUTADOR_PER_MATRICULA (0.008821)\n",
      "42. feature MIN_DISTANCIA_SETOR_ENTIDADE (0.008579)\n",
      "43. feature SUM_TURMA_IN_DISC_EDUCACAO_FISICA (0.008292)\n",
      "44. feature NU_EQUIP_COPIADORA_PER_MATRICULA (0.008112)\n",
      "45. feature NU_EQUIP_MULTIMIDIA_PER_MATRICULA (0.007958)\n",
      "46. feature MAX_qtd_quitados (0.007518)\n",
      "47. feature NU_COMP_ALUNO_PER_MATRICULA (0.007383)\n",
      "48. feature SUM_qtd_quitados (0.007353)\n",
      "49. feature SUM_TURMA_IN_DIA_SEMANA_SEGUNDA (0.007184)\n",
      "50. feature SUM_qtd_dom_renda_per_cap_abx_1sm_vizinhos (0.007160)\n",
      "51. feature NU_FUNCIONARIOS_PER_MATRICULA (0.006743)\n",
      "52. feature NU_EQUIP_SOM (0.006659)\n",
      "53. feature SUM_qtd_alugados (0.006643)\n",
      "54. feature MAX_qtd_pss_acima_65 (0.006628)\n",
      "55. feature NU_COMP_ADMINISTRATIVO_PER_MATRICULA (0.006603)\n",
      "56. feature NU_EQUIP_PARABOLICA_PER_MATRICULA (0.006602)\n",
      "57. feature SUM_TURMA_IN_DISC_OUTRAS (0.006571)\n",
      "58. feature MAX_qtd_mulheres (0.006506)\n",
      "59. feature SUM_TURMA_IN_DISC_SOCIOLOGIA (0.006407)\n",
      "60. feature SUM_TURMA_IN_DISC_GEOGRAFIA (0.006389)\n",
      "61. feature SUM_qtd_pessoas (0.006318)\n",
      "62. feature SUM_TURMA_IN_DISC_EST_SOCIAIS_SOCIOLOGIA (0.006114)\n",
      "63. feature NU_EQUIP_FOTO_PER_MATRICULA (0.005986)\n",
      "64. feature NU_EQUIP_IMPRESSORA (0.005804)\n",
      "65. feature NU_SALAS_EXISTENTES_PER_MATRICULA (0.005759)\n",
      "66. feature SUM_TURMA_IN_MAIS_EDUCACAO (0.005659)\n",
      "67. feature SUM_TURMA_IN_DISC_MATEMATICA (0.005627)\n",
      "68. feature SUM_TURMA_IN_DISC_ARTES (0.005545)\n",
      "69. feature MAX_qtd_mulheres_resp (0.005533)\n",
      "70. feature MIN_qtd_pessoas (0.005466)\n",
      "71. feature MAX_qtd_dom_renda_max_per_mais_5sm (0.005376)\n",
      "72. feature SUM_TURMA_IN_DISC_ESTUDOS_SOCIAIS (0.005355)\n",
      "73. feature NU_COMP_ALUNO (0.005319)\n",
      "74. feature QTD_CO_SETOR_CENSITARIO (0.005239)\n",
      "75. feature SUM_TURMA_NU_DURACAO_TURMA (0.005238)\n",
      "76. feature NU_EQUIP_TV (0.005116)\n",
      "77. feature SUM_qtd_dom_vizinhos (0.004970)\n",
      "78. feature MIN_qtd_domicilios (0.004952)\n",
      "79. feature SUM_qtd_pss_acima_90 (0.004938)\n",
      "80. feature MAX_qtd_domicilios (0.004845)\n",
      "81. feature NU_EQUIP_DVD_PER_MATRICULA (0.004804)\n",
      "82. feature SUM_TURMA_NU_DIAS_ATIVIDADE (0.004789)\n",
      "83. feature NU_EQUIP_FAX_PER_MATRICULA (0.004691)\n",
      "84. feature MAX_ALUNO_MEAN_IN_ONIBUS (0.004549)\n",
      "85. feature SUM_qtd_domicilios (0.004470)\n",
      "86. feature SUM_qtd_dom_renda_max_per_mais_5sm (0.004449)\n",
      "87. feature MIN_qtd_dom_renda_per_cap_abx_1sm (0.004416)\n",
      "88. feature SUM_qtd_dom_renda_per_cap_abx_1sm (0.004368)\n",
      "89. feature SUM_TURMA_IN_DISC_BIOLOGIA (0.004346)\n",
      "90. feature MIN_qtd_dom_vizinhos (0.004196)\n",
      "91. feature MIN_renda_media_dom (0.004148)\n",
      "92. feature NU_SALAS_EXISTENTES (0.004043)\n",
      "93. feature SUM_TURMA_IN_DISC_LINGUA_PORTUGUESA (0.004033)\n",
      "94. feature MIN_qtd_pessoas_vizinhos (0.003996)\n",
      "95. feature SUM_TURMA_IN_DISC_FILOSOFIA (0.003670)\n",
      "96. feature MAX_qtd_pss_acima_90 (0.003663)\n",
      "97. feature CO_ORGAO_REGIONAL (0.003604)\n",
      "98. feature MAX_qtd_dom_vizinhos (0.003484)\n",
      "99. feature SUM_TURMA_IN_DIA_SEMANA_TERCA (0.003480)\n",
      "100. feature SUM_TURMA_IN_DISC_FISICA (0.003336)\n",
      "101. feature SUM_TURMA_IN_REGULAR (0.003315)\n",
      "102. feature NU_EQUIP_VIDEOCASSETE (0.003297)\n",
      "103. feature MAX_qtd_pessoas (0.003261)\n",
      "104. feature SUM_TURMA_IN_DIA_SEMANA_SEXTA (0.003211)\n",
      "105. feature MIN_qtd_mulheres (0.003153)\n",
      "106. feature MAX_qtd_dom_renda_per_cap_abx_1sm_vizinhos (0.003054)\n",
      "107. feature MIN_qtd_quitados (0.003033)\n",
      "108. feature SUM_TURMA_IN_EJA (0.002996)\n",
      "109. feature SUM_TURMA_IN_DISC_HISTORIA (0.002951)\n",
      "110. feature NU_EQUIP_PARABOLICA (0.002943)\n",
      "111. feature PC_SALAS_UTILIZADAS (0.002870)\n",
      "112. feature NU_EQUIP_IMPRESSORA_MULT (0.002791)\n",
      "113. feature MIN_ALUNO_MEAN_IN_ONIBUS (0.002688)\n",
      "114. feature NU_EQUIP_DVD (0.002646)\n",
      "115. feature IN_AREA_VERDE (0.002406)\n",
      "116. feature NUM_DD_AULAS (0.002296)\n",
      "117. feature SUM_TURMA_IN_DISC_LINGUA_ESPANHOL (0.002249)\n",
      "118. feature SUM_TURMA_IN_DISC_QUIMICA (0.002201)\n",
      "119. feature NU_EQUIP_RETROPROJETOR (0.002147)\n",
      "120. feature IN_EJA (0.002119)\n",
      "121. feature NU_EQUIP_COPIADORA (0.002117)\n",
      "122. feature IN_DESPENSA (0.002107)\n",
      "123. feature IN_FUNDAMENTAL_CICLOS (0.002082)\n",
      "124. feature MIN_qtd_mulheres_resp (0.002080)\n",
      "125. feature MIN_TURMA_NU_DURACAO_TURMA (0.002053)\n",
      "126. feature SUM_TURMA_IN_DIA_SEMANA_QUINTA (0.002002)\n",
      "127. feature IN_COMUM_MEDIO_MEDIO (0.001965)\n",
      "128. feature IN_QUADRA_ESPORTES_DESCOBERTA (0.001933)\n",
      "129. feature IN_COMUM_FUND_AI (0.001907)\n",
      "130. feature IN_SALA_LEITURA (0.001835)\n",
      "131. feature NU_EQUIP_FAX (0.001787)\n",
      "132. feature MIN_qtd_pss_abx_12 (0.001771)\n",
      "133. feature TP_ATIVIDADE_COMPLEMENTAR (0.001706)\n",
      "134. feature IN_AUDITORIO (0.001700)\n",
      "135. feature IN_EQUIP_PARABOLICA (0.001694)\n",
      "136. feature MIN_qtd_pss_acima_65 (0.001673)\n",
      "137. feature SUM_qtd_mulheres (0.001564)\n",
      "138. feature MAX_qtd_alugados (0.001546)\n",
      "139. feature MIN_qtd_alugados (0.001535)\n",
      "140. feature IN_DEPENDENCIAS_PNE (0.001518)\n",
      "141. feature IN_ESPECIAL_EXCLUSIVA (0.001259)\n",
      "142. feature IN_BANHEIRO_CHUVEIRO (0.001254)\n",
      "143. feature IN_REFEITORIO (0.001202)\n",
      "144. feature IN_EQUIP_IMPRESSORA_MULT (0.001190)\n",
      "145. feature IN_FINAL_SEMANA (0.001186)\n",
      "146. feature IN_SALA_ATENDIMENTO_ESPECIAL (0.001183)\n",
      "147. feature SUM_TURMA_IN_DIA_SEMANA_QUARTA (0.001181)\n",
      "148. feature SUM_TURMA_IN_PROFISSIONALIZANTE (0.001175)\n",
      "149. feature IN_COMUM_PRE (0.001147)\n",
      "150. feature IN_EQUIP_FOTO (0.001107)\n",
      "151. feature SUM_TURMA_IN_ESPECIAL_EXCLUSIVA (0.001070)\n",
      "152. feature IN_ALMOXARIFADO (0.001043)\n",
      "153. feature IN_ESGOTO_FOSSA (0.001033)\n",
      "154. feature IN_EQUIP_FAX (0.000975)\n",
      "155. feature IN_LABORATORIO_CIENCIAS (0.000971)\n",
      "156. feature MIN_qtd_dom_renda_max_per_mais_5sm (0.000958)\n",
      "157. feature IN_EQUIP_VIDEOCASSETE (0.000932)\n",
      "158. feature IN_BANHEIRO_EI (0.000919)\n",
      "159. feature SUM_TURMA_IN_DISC_ENSINO_RELIGIOSO (0.000797)\n",
      "160. feature IN_QUADRA_ESPORTES_COBERTA (0.000786)\n",
      "161. feature SUM_TURMA_IN_DISC_LINGUA_INDIGENA (0.000785)\n",
      "162. feature IN_PATIO_COBERTO (0.000759)\n",
      "163. feature IN_COMUM_FUND_AF (0.000742)\n",
      "164. feature MAX_TURMA_NU_DIAS_ATIVIDADE (0.000727)\n",
      "165. feature IN_PARQUE_INFANTIL (0.000720)\n",
      "166. feature IN_BIBLIOTECA (0.000682)\n",
      "167. feature NU_EQUIP_FOTO (0.000609)\n",
      "168. feature MIN_qtd_dom_renda_per_cap_abx_1sm_vizinhos (0.000559)\n",
      "169. feature IN_COMUM_EJA_FUND (0.000465)\n",
      "170. feature IN_QUADRA_ESPORTES (0.000352)\n",
      "171. feature SUM_TURMA_IN_DISC_LIBRAS (0.000254)\n",
      "172. feature SUM_TURMA_IN_DISC_INFORMATICA_COMPUTACAO (0.000178)\n",
      "173. feature IN_ESP_EXCLUSIVA_FUND_AI (0.000170)\n",
      "174. feature NU_EQUIP_IMPRESSORA_MULT_PER_MATRICULA (0.000097)\n",
      "175. feature MIN_qtd_cedidos (0.000000)\n",
      "176. feature IN_BANHEIRO_PNE (0.000000)\n",
      "177. feature SUM_TURMA_IN_DISC_LINGUA_OUTRA (0.000000)\n",
      "178. feature MIN_qtd_pss_acima_90 (0.000000)\n",
      "179. feature MAX_TURMA_NU_DURACAO_TURMA (0.000000)\n",
      "180. feature TP_LOCALIZACAO (0.000000)\n",
      "181. feature IN_ESGOTO_REDE_PUBLICA (0.000000)\n",
      "182. feature SUM_TURMA_IN_DISC_LINGUA_FRANCES (0.000000)\n",
      "183. feature MIN_qtd_em_aquisicao (0.000000)\n",
      "184. feature IN_LABORATORIO_INFORMATICA (0.000000)\n",
      "185. feature IN_BIBLIOTECA_SALA_LEITURA (0.000000)\n",
      "186. feature IN_EQUIP_RETROPROJETOR (0.000000)\n",
      "187. feature IN_PATIO_DESCOBERTO (0.000000)\n",
      "188. feature MIN_TURMA_NU_DIAS_ATIVIDADE (0.000000)\n"
     ]
    },
    {
     "data": {
      "image/png": "[encoded data removed]",
      "text/plain": [
       "<Figure size 432x288 with 1 Axes>"
      ]
     },
     "metadata": {},
     "output_type": "display_data"
    }
   ],
   "source": [
    "cols_drop = ['PROF_CO_PESSOA_FISICA','NO_ENTIDADE','dcr','LAT','LONG']\n",
    "a = processa_tudo(model_vars.drop(cols_drop,axis=1).set_index(['CO_PESSOA_FISICA','CO_ENTIDADE']),True),"
   ]
  },
  {
   "cell_type": "code",
   "execution_count": 31,
   "metadata": {},
   "outputs": [],
   "source": [
    "fi = a[0][0]\n",
    "clf = a[0][1]"
   ]
  },
  {
   "cell_type": "code",
   "execution_count": 32,
   "metadata": {
    "scrolled": false
   },
   "outputs": [
    {
     "name": "stdout",
     "output_type": "stream",
     "text": [
      "RandomizedSearchCV took 3.66 seconds for 20 candidates parameter settings.\n",
      "Model with rank: 1\n",
      "Mean validation score: 0.601 (std: 0.020)\n",
      "Parameters: {'bootstrap': False, 'criterion': 'entropy', 'max_depth': None, 'max_features': 10, 'min_samples_leaf': 9, 'min_samples_split': 7}\n",
      "\n",
      "Model with rank: 2\n",
      "Mean validation score: 0.587 (std: 0.036)\n",
      "Parameters: {'bootstrap': False, 'criterion': 'entropy', 'max_depth': None, 'max_features': 5, 'min_samples_leaf': 3, 'min_samples_split': 2}\n",
      "\n",
      "Model with rank: 3\n",
      "Mean validation score: 0.585 (std: 0.026)\n",
      "Parameters: {'bootstrap': False, 'criterion': 'gini', 'max_depth': None, 'max_features': 9, 'min_samples_leaf': 8, 'min_samples_split': 5}\n",
      "\n",
      "Model with rank: 3\n",
      "Mean validation score: 0.585 (std: 0.020)\n",
      "Parameters: {'bootstrap': False, 'criterion': 'entropy', 'max_depth': None, 'max_features': 6, 'min_samples_leaf': 8, 'min_samples_split': 7}\n",
      "\n",
      "GridSearchCV took 29.93 seconds for 216 candidate parameter settings.\n",
      "Model with rank: 1\n",
      "Mean validation score: 0.597 (std: 0.013)\n",
      "Parameters: {'bootstrap': False, 'criterion': 'gini', 'max_depth': None, 'max_features': 10, 'min_samples_leaf': 3, 'min_samples_split': 2}\n",
      "\n",
      "Model with rank: 1\n",
      "Mean validation score: 0.597 (std: 0.013)\n",
      "Parameters: {'bootstrap': False, 'criterion': 'gini', 'max_depth': None, 'max_features': 10, 'min_samples_leaf': 3, 'min_samples_split': 3}\n",
      "\n",
      "Model with rank: 3\n",
      "Mean validation score: 0.592 (std: 0.027)\n",
      "Parameters: {'bootstrap': False, 'criterion': 'entropy', 'max_depth': None, 'max_features': 10, 'min_samples_leaf': 1, 'min_samples_split': 10}\n",
      "\n"
     ]
    },
    {
     "data": {
      "text/plain": [
       "array([[991,  35],\n",
       "       [ 40, 990]])"
      ]
     },
     "metadata": {},
     "output_type": "display_data"
    },
    {
     "name": "stdout",
     "output_type": "stream",
     "text": [
      "Base de TREINO\n",
      "             precision    recall  f1-score   support\n",
      "\n",
      "      False       0.56      0.57      0.57      3086\n",
      "       True       0.57      0.56      0.56      3082\n",
      "\n",
      "avg / total       0.56      0.56      0.56      6168\n",
      "\n",
      "Base de TESTE\n",
      "             precision    recall  f1-score   support\n",
      "\n",
      "      False       0.96      0.97      0.96      1026\n",
      "       True       0.97      0.96      0.96      1030\n",
      "\n",
      "avg / total       0.96      0.96      0.96      2056\n",
      "\n"
     ]
    },
    {
     "data": {
      "image/png": "[encoded data removed]",
      "text/plain": [
       "<Figure size 432x288 with 1 Axes>"
      ]
     },
     "metadata": {},
     "output_type": "display_data"
    },
    {
     "name": "stdout",
     "output_type": "stream",
     "text": [
      "Feature ranking:\n",
      "1. feature MAX_ALUNO_MEAN_NU_IDADE (0.048634)\n",
      "2. feature MIN_ALUNO_MEAN_NU_IDADE (0.042083)\n",
      "3. feature MAX_ALUNO_MEAN_IN_H0MEM (0.041435)\n",
      "4. feature MIN_ALUNO_MEAN_IN_H0MEM (0.037651)\n",
      "5. feature SUM_TURMA_NU_MATRICULAS (0.036886)\n",
      "6. feature MAX_ALUNO_MEAN_IN_TERRA_NATAL (0.034592)\n",
      "7. feature ALUNO_COUNT_CO_PESSOA_FISICA (0.033058)\n",
      "8. feature MIN_ALUNO_MEAN_IN_TERRA_NATAL (0.030249)\n",
      "9. feature MAX_TURMA_NU_MATRICULAS (0.029335)\n",
      "10. feature NU_PROFESSORES_PER_MATRICULA (0.027801)\n",
      "11. feature MIN_TURMA_NU_MATRICULAS (0.027115)\n",
      "12. feature SUM_TURMA_IN_MANHA (0.025671)\n",
      "13. feature SUM_TURMA_IN_DISC_CIENCIAS (0.024146)\n",
      "14. feature NU_COMPUTADOR_PER_MATRICULA (0.022111)\n",
      "15. feature MAX_DISTANCIA_SETOR_ENTIDADE (0.021933)\n",
      "16. feature NU_EQUIP_MULTIMIDIA_PER_MATRICULA (0.021616)\n",
      "17. feature NU_FUNCIONARIOS (0.019995)\n",
      "18. feature NU_SALAS_UTILIZADAS_PER_MATRICULA (0.019774)\n",
      "19. feature NU_TTL_MATRICLAS (0.019481)\n",
      "20. feature NU_COMPUTADOR (0.018726)\n",
      "21. feature SUM_TURMA_IN_DISC_LINGUA_INGLES (0.018399)\n",
      "22. feature SUM_qtd_em_aquisicao (0.018397)\n",
      "23. feature MIN_DISTANCIA_SETOR_ENTIDADE (0.017538)\n",
      "24. feature MAX_renda_media_dom (0.017257)\n",
      "25. feature SUM_qtd_pss_acima_65 (0.017247)\n",
      "26. feature MAX_qtd_pss_abx_12 (0.016785)\n",
      "27. feature NU_EQUIP_IMPRESSORA_PER_MATRICULA (0.016489)\n",
      "28. feature SUM_qtd_pss_abx_12 (0.016189)\n",
      "29. feature MAX_qtd_cedidos (0.015648)\n",
      "30. feature NU_COMP_ADMINISTRATIVO (0.015620)\n",
      "31. feature SUM_qtd_quitados (0.015350)\n",
      "32. feature NU_EQUIP_COPIADORA_PER_MATRICULA (0.015233)\n",
      "33. feature NU_COMP_ALUNO_PER_MATRICULA (0.015014)\n",
      "34. feature NU_EQUIP_SOM_PER_MATRICULA (0.014824)\n",
      "35. feature NU_EQUIP_MULTIMIDIA (0.014570)\n",
      "36. feature MAX_qtd_dom_renda_per_cap_abx_1sm (0.013762)\n",
      "37. feature SUM_TURMA_IN_DISC_EDUCACAO_FISICA (0.013631)\n",
      "38. feature SUM_TURMA_IN_TARDE (0.013369)\n",
      "39. feature SUM_qtd_mulheres_resp (0.013244)\n",
      "40. feature NU_EQUIP_VIDEOCASSETE_PER_MATRICULA (0.012530)\n",
      "41. feature SUM_qtd_cedidos (0.012259)\n",
      "42. feature MAX_qtd_pessoas_vizinhos (0.011824)\n",
      "43. feature NU_EQUIP_RETROPROJETOR_PER_MATRICULA (0.011359)\n",
      "44. feature SUM_qtd_dom_renda_per_cap_abx_1sm_vizinhos (0.011249)\n",
      "45. feature SUM_TURMA_IN_DIA_SEMANA_SEGUNDA (0.011214)\n",
      "46. feature NU_EQUIP_TV_PER_MATRICULA (0.011207)\n",
      "47. feature SUM_qtd_pessoas_vizinhos (0.010517)\n",
      "48. feature NU_SALAS_UTILIZADAS (0.009550)\n",
      "49. feature MAX_qtd_em_aquisicao (0.009168)\n",
      "50. feature MAX_qtd_quitados (0.008267)\n"
     ]
    },
    {
     "data": {
      "image/png": "[encoded data removed]",
      "text/plain": [
       "<Figure size 432x288 with 1 Axes>"
      ]
     },
     "metadata": {},
     "output_type": "display_data"
    }
   ],
   "source": [
    "md_b = model_vars.set_index(['CO_PESSOA_FISICA','CO_ENTIDADE'])[fi[:50] + ['target']]\n",
    "b = processa_tudo(md_b,True),"
   ]
  },
  {
   "cell_type": "code",
   "execution_count": 33,
   "metadata": {},
   "outputs": [],
   "source": [
    "clf = b[0][1]"
   ]
  },
  {
   "cell_type": "markdown",
   "metadata": {},
   "source": [
    "### Consideracoes:\n",
    "01. Com Grid Search a performance melhora consideravelmente.\n",
    "\n",
    "02. O resultado retirando uma amostra da base para balancear (com o ```sample``` do pandas ) ficou estranho, resultado muito bom no teste e ruim no treino e quando aplica-se a todo o dataset."
   ]
  },
  {
   "cell_type": "code",
   "execution_count": null,
   "metadata": {},
   "outputs": [],
   "source": []
  },
  {
   "cell_type": "markdown",
   "metadata": {},
   "source": [
    "### Com esse resultado estamos assim:\n",
    "<!--\n",
    "<img src='img/homer-simpson-woohoo-gif-6.gif'/>\n",
    "-->"
   ]
  },
  {
   "cell_type": "markdown",
   "metadata": {},
   "source": [
    "## Primeiro, vamos analisar quando o classificador erra."
   ]
  },
  {
   "cell_type": "code",
   "execution_count": 34,
   "metadata": {},
   "outputs": [],
   "source": [
    "y_true = md_b.target\n",
    "X = md_b.drop('target',axis=1).values\n",
    "y_pred = clf.predict(X)\n",
    "lc = [c for y1,y2,c in zip(y_true,y_pred,md_b.index) if y1 != y2]"
   ]
  },
  {
   "cell_type": "code",
   "execution_count": null,
   "metadata": {},
   "outputs": [],
   "source": [
    "1 - len(lc)/len(md_b.index)"
   ]
  },
  {
   "cell_type": "code",
   "execution_count": null,
   "metadata": {},
   "outputs": [],
   "source": []
  }
 ],
 "metadata": {
  "kernelspec": {
   "display_name": "Python 3",
   "language": "python",
   "name": "python3"
  },
  "language_info": {
   "codemirror_mode": {
    "name": "ipython",
    "version": 3
   },
   "file_extension": ".py",
   "mimetype": "text/x-python",
   "name": "python",
   "nbconvert_exporter": "python",
   "pygments_lexer": "ipython3",
   "version": "3.6.4"
  },
  "latex_envs": {
   "LaTeX_envs_menu_present": true,
   "autoclose": false,
   "autocomplete": true,
   "bibliofile": "biblio.bib",
   "cite_by": "apalike",
   "current_citInitial": 1,
   "eqLabelWithNumbers": true,
   "eqNumInitial": 1,
   "hotkeys": {
    "equation": "Ctrl-E",
    "itemize": "Ctrl-I"
   },
   "labels_anchors": false,
   "latex_user_defs": false,
   "report_style_numbering": false,
   "user_envs_cfg": false
  }
 },
 "nbformat": 4,
 "nbformat_minor": 2
}
