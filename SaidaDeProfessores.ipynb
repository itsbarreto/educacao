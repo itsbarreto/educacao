{
 "cells": [
  {
   "cell_type": "markdown",
   "metadata": {},
   "source": [
    "<h1> <center> Será que um professor fica por 2 anos em uma escola? </center> </h1>\n",
    "\n",
    "\n",
    "\n",
    "<img src='https://media.giphy.com/media/xT5LMpjrnf2Ao4hBMk/giphy.gif'/>\n",
    "\n",
    "\n"
   ]
  },
  {
   "cell_type": "code",
   "execution_count": 14,
   "metadata": {},
   "outputs": [
    {
     "name": "stdout",
     "output_type": "stream",
     "text": [
      "The autoreload extension is already loaded. To reload it, use:\n",
      "  %reload_ext autoreload\n"
     ]
    }
   ],
   "source": [
    "%matplotlib inline\n",
    "%load_ext autoreload\n",
    "%autoreload 2\n",
    "import pandas as pd\n",
    "import re\n",
    "import numpy as np\n",
    "from matplotlib import pyplot as plt\n",
    "import os\n",
    "from glob import glob\n",
    "from pathlib import Path\n",
    "import seaborn as sns\n",
    "from unicodedata import normalize\n",
    "from tqdm import tqdm\n",
    "from scipy import stats\n",
    "from sklearn import metrics\n",
    "from tqdm import tqdm"
   ]
  },
  {
   "cell_type": "code",
   "execution_count": 2,
   "metadata": {},
   "outputs": [],
   "source": [
    "#Arquivos criados para deixar o codigo do notebook mais clean.\n",
    "from files_util import *\n",
    "from df_inep_utils import *\n",
    "from SetorCensitario import *\n",
    "from modelagem import *"
   ]
  },
  {
   "cell_type": "code",
   "execution_count": 4,
   "metadata": {},
   "outputs": [],
   "source": [
    "#alguns numeros ficam muito grandes.\n",
    "pd.options.display.float_format = '{:.2f}'.format"
   ]
  },
  {
   "cell_type": "markdown",
   "metadata": {},
   "source": [
    "## <center> Vamos começar a jornada</center>\n",
    "<img src='https://media.giphy.com/media/fdHg7T902uzLy/giphy.gif'/>"
   ]
  },
  {
   "cell_type": "markdown",
   "metadata": {},
   "source": [
    "## 01. Obtencao dos dados brutos"
   ]
  },
  {
   "cell_type": "code",
   "execution_count": 5,
   "metadata": {},
   "outputs": [],
   "source": [
    "#download dos dados do censo\n",
    "#list(baixa_inep('micro_censo_escolar',anos_pesquisa))\n",
    "#Rodei uma vez e comentei para nao sobrescrever 5.3Gb por engano"
   ]
  },
  {
   "cell_type": "code",
   "execution_count": 6,
   "metadata": {
    "code_folding": [],
    "scrolled": true
   },
   "outputs": [
    {
     "name": "stdout",
     "output_type": "stream",
     "text": [
      "patool: Extracting /home/itsbarreto/csv/educacao/micro_censo_escolar_2013.zip ...\n",
      "patool: ... /home/itsbarreto/csv/educacao/micro_censo_escolar_2013.zip extracted to `/home/itsbarreto/csv/educacao/TMP/'.\n",
      "patool: Extracting /home/itsbarreto/csv/educacao/TMP/2013/DADOS/TURMAS.rar ...\n",
      "patool: running /usr/bin/unrar x -- /home/itsbarreto/csv/educacao/TMP/2013/DADOS/TURMAS.rar\n",
      "patool:     with cwd='/home/itsbarreto/csv/educacao/dsc/2013'\n",
      "patool: ... /home/itsbarreto/csv/educacao/TMP/2013/DADOS/TURMAS.rar extracted to `/home/itsbarreto/csv/educacao/dsc/2013'.\n",
      "patool: Extracting /home/itsbarreto/csv/educacao/TMP/2013/DADOS/MATRICULA_CO.rar ...\n",
      "patool: running /usr/bin/unrar x -- /home/itsbarreto/csv/educacao/TMP/2013/DADOS/MATRICULA_CO.rar\n",
      "patool:     with cwd='/home/itsbarreto/csv/educacao/dsc/2013'\n",
      "patool: ... /home/itsbarreto/csv/educacao/TMP/2013/DADOS/MATRICULA_CO.rar extracted to `/home/itsbarreto/csv/educacao/dsc/2013'.\n",
      "patool: Extracting /home/itsbarreto/csv/educacao/TMP/2013/DADOS/ESCOLAS.rar ...\n",
      "patool: running /usr/bin/unrar x -- /home/itsbarreto/csv/educacao/TMP/2013/DADOS/ESCOLAS.rar\n",
      "patool:     with cwd='/home/itsbarreto/csv/educacao/dsc/2013'\n",
      "patool: ... /home/itsbarreto/csv/educacao/TMP/2013/DADOS/ESCOLAS.rar extracted to `/home/itsbarreto/csv/educacao/dsc/2013'.\n",
      "patool: Extracting /home/itsbarreto/csv/educacao/TMP/2013/DADOS/DOCENTES_CO.rar ...\n",
      "patool: running /usr/bin/unrar x -- /home/itsbarreto/csv/educacao/TMP/2013/DADOS/DOCENTES_CO.rar\n",
      "patool:     with cwd='/home/itsbarreto/csv/educacao/dsc/2013'\n",
      "patool: ... /home/itsbarreto/csv/educacao/TMP/2013/DADOS/DOCENTES_CO.rar extracted to `/home/itsbarreto/csv/educacao/dsc/2013'.\n",
      "patool: Extracting /home/itsbarreto/csv/educacao/micro_censo_escolar_2015.zip ...\n",
      "patool: ... /home/itsbarreto/csv/educacao/micro_censo_escolar_2015.zip extracted to `/home/itsbarreto/csv/educacao/TMP/'.\n",
      "patool: Extracting /home/itsbarreto/csv/educacao/TMP/2015/DADOS/TURMAS.rar ...\n",
      "patool: running /usr/bin/unrar x -- /home/itsbarreto/csv/educacao/TMP/2015/DADOS/TURMAS.rar\n",
      "patool:     with cwd='/home/itsbarreto/csv/educacao/dsc/2015'\n",
      "patool: ... /home/itsbarreto/csv/educacao/TMP/2015/DADOS/TURMAS.rar extracted to `/home/itsbarreto/csv/educacao/dsc/2015'.\n",
      "patool: Extracting /home/itsbarreto/csv/educacao/TMP/2015/DADOS/MATRICULA_CO.rar ...\n",
      "patool: running /usr/bin/unrar x -- /home/itsbarreto/csv/educacao/TMP/2015/DADOS/MATRICULA_CO.rar\n",
      "patool:     with cwd='/home/itsbarreto/csv/educacao/dsc/2015'\n",
      "patool: ... /home/itsbarreto/csv/educacao/TMP/2015/DADOS/MATRICULA_CO.rar extracted to `/home/itsbarreto/csv/educacao/dsc/2015'.\n",
      "patool: Extracting /home/itsbarreto/csv/educacao/TMP/2015/DADOS/ESCOLAS.rar ...\n",
      "patool: running /usr/bin/unrar x -- /home/itsbarreto/csv/educacao/TMP/2015/DADOS/ESCOLAS.rar\n",
      "patool:     with cwd='/home/itsbarreto/csv/educacao/dsc/2015'\n",
      "patool: ... /home/itsbarreto/csv/educacao/TMP/2015/DADOS/ESCOLAS.rar extracted to `/home/itsbarreto/csv/educacao/dsc/2015'.\n",
      "patool: Extracting /home/itsbarreto/csv/educacao/TMP/2015/DADOS/DOCENTES_CO.rar ...\n",
      "patool: running /usr/bin/unrar x -- /home/itsbarreto/csv/educacao/TMP/2015/DADOS/DOCENTES_CO.rar\n",
      "patool:     with cwd='/home/itsbarreto/csv/educacao/dsc/2015'\n",
      "patool: ... /home/itsbarreto/csv/educacao/TMP/2015/DADOS/DOCENTES_CO.rar extracted to `/home/itsbarreto/csv/educacao/dsc/2015'.\n",
      "patool: Extracting /home/itsbarreto/csv/educacao/micro_censo_escolar_2017.zip ...\n",
      "patool: ... /home/itsbarreto/csv/educacao/micro_censo_escolar_2017.zip extracted to `/home/itsbarreto/csv/educacao/TMP/'.\n",
      "patool: Extracting /home/itsbarreto/csv/educacao/TMP/Microdados_Censo_Escolar_2017/DADOS/TURMAS.zip ...\n",
      "patool: ... /home/itsbarreto/csv/educacao/TMP/Microdados_Censo_Escolar_2017/DADOS/TURMAS.zip extracted to `/home/itsbarreto/csv/educacao/dsc/2017'.\n",
      "patool: Extracting /home/itsbarreto/csv/educacao/TMP/Microdados_Censo_Escolar_2017/DADOS/DOCENTES_CO.zip ...\n",
      "patool: ... /home/itsbarreto/csv/educacao/TMP/Microdados_Censo_Escolar_2017/DADOS/DOCENTES_CO.zip extracted to `/home/itsbarreto/csv/educacao/dsc/2017'.\n",
      "patool: Extracting /home/itsbarreto/csv/educacao/TMP/Microdados_Censo_Escolar_2017/DADOS/ESCOLAS.zip ...\n",
      "patool: ... /home/itsbarreto/csv/educacao/TMP/Microdados_Censo_Escolar_2017/DADOS/ESCOLAS.zip extracted to `/home/itsbarreto/csv/educacao/dsc/2017'.\n",
      "patool: Extracting /home/itsbarreto/csv/educacao/TMP/Microdados_Censo_Escolar_2017/DADOS/MATRICULA_CO.zip ...\n",
      "patool: ... /home/itsbarreto/csv/educacao/TMP/Microdados_Censo_Escolar_2017/DADOS/MATRICULA_CO.zip extracted to `/home/itsbarreto/csv/educacao/dsc/2017'.\n",
      "patool: Extracting /home/itsbarreto/csv/educacao/micro_censo_escolar_2011.zip ...\n",
      "patool: ... /home/itsbarreto/csv/educacao/micro_censo_escolar_2011.zip extracted to `/home/itsbarreto/csv/educacao/TMP/'.\n",
      "patool: Extracting /home/itsbarreto/csv/educacao/TMP/2011/DADOS/TURMAS.rar ...\n",
      "patool: running /usr/bin/unrar x -- /home/itsbarreto/csv/educacao/TMP/2011/DADOS/TURMAS.rar\n",
      "patool:     with cwd='/home/itsbarreto/csv/educacao/dsc/2011'\n",
      "patool: ... /home/itsbarreto/csv/educacao/TMP/2011/DADOS/TURMAS.rar extracted to `/home/itsbarreto/csv/educacao/dsc/2011'.\n",
      "patool: Extracting /home/itsbarreto/csv/educacao/TMP/2011/DADOS/MATRICULA_CO.rar ...\n",
      "patool: running /usr/bin/unrar x -- /home/itsbarreto/csv/educacao/TMP/2011/DADOS/MATRICULA_CO.rar\n",
      "patool:     with cwd='/home/itsbarreto/csv/educacao/dsc/2011'\n",
      "patool: ... /home/itsbarreto/csv/educacao/TMP/2011/DADOS/MATRICULA_CO.rar extracted to `/home/itsbarreto/csv/educacao/dsc/2011'.\n",
      "patool: Extracting /home/itsbarreto/csv/educacao/TMP/2011/DADOS/ESCOLAS.rar ...\n",
      "patool: running /usr/bin/unrar x -- /home/itsbarreto/csv/educacao/TMP/2011/DADOS/ESCOLAS.rar\n",
      "patool:     with cwd='/home/itsbarreto/csv/educacao/dsc/2011'\n",
      "patool: ... /home/itsbarreto/csv/educacao/TMP/2011/DADOS/ESCOLAS.rar extracted to `/home/itsbarreto/csv/educacao/dsc/2011'.\n",
      "patool: Extracting /home/itsbarreto/csv/educacao/TMP/2011/DADOS/DOCENTES_CO.rar ...\n",
      "patool: running /usr/bin/unrar x -- /home/itsbarreto/csv/educacao/TMP/2011/DADOS/DOCENTES_CO.rar\n",
      "patool:     with cwd='/home/itsbarreto/csv/educacao/dsc/2011'\n",
      "patool: ... /home/itsbarreto/csv/educacao/TMP/2011/DADOS/DOCENTES_CO.rar extracted to `/home/itsbarreto/csv/educacao/dsc/2011'.\n"
     ]
    }
   ],
   "source": [
    "#extraindo arquivos baixados\n",
    "#funcoes de file_utils\n",
    "shutil.rmtree(ARQ_PATH,ignore_errors=True)\n",
    "os.mkdir(ARQ_PATH)\n",
    "list(map(extrai_arq,glob(f'{CSV_PATH}*.zip')));"
   ]
  },
  {
   "cell_type": "markdown",
   "metadata": {},
   "source": [
    "## 02. Vamos ver os dados demográficos dos docentes da rede pública?"
   ]
  },
  {
   "cell_type": "markdown",
   "metadata": {},
   "source": [
    "### Vamos comecar com o Centro Oeste que  é o menor arquivo"
   ]
  },
  {
   "cell_type": "code",
   "execution_count": 12,
   "metadata": {},
   "outputs": [
    {
     "name": "stdout",
     "output_type": "stream",
     "text": [
      "NU_ANO_CENSO\n",
      "CO_PESSOA_FISICA\n",
      "NU_DIA\n",
      "NU_MES\n",
      "NU_ANO\n",
      "NU_IDADE_REFERENCIA\n",
      "NU_IDADE\n",
      "TP_SEXO\n",
      "TP_COR_RACA\n",
      "TP_NACIONALIDADE\n",
      "CO_PAIS_ORIGEM\n",
      "CO_UF_NASC\n",
      "CO_MUNICIPIO_NASC\n",
      "CO_UF_END\n",
      "CO_MUNICIPIO_END\n",
      "TP_ZONA_RESIDENCIAL\n",
      "IN_NECESSIDADE_ESPECIAL\n",
      "IN_CEGUEIRA\n",
      "IN_BAIXA_VISAO\n",
      "IN_SURDEZ\n",
      "IN_DEF_AUDITIVA\n",
      "IN_SURDOCEGUEIRA\n",
      "IN_DEF_FISICA\n",
      "IN_DEF_INTELECTUAL\n",
      "IN_DEF_MULTIPLA\n",
      "TP_ESCOLARIDADE\n",
      "TP_NORMAL_MAGISTERIO\n",
      "TP_SITUACAO_CURSO_1\n",
      "CO_AREA_CURSO_1\n",
      "CO_CURSO_1\n",
      "IN_LICENCIATURA_1\n",
      "IN_COM_PEDAGOGICA_1\n",
      "NU_ANO_INICIO_1\n",
      "NU_ANO_CONCLUSAO_1\n",
      "TP_TIPO_IES_1\n",
      "CO_IES_1\n",
      "TP_SITUACAO_CURSO_2\n",
      "CO_AREA_CURSO_2\n",
      "CO_CURSO_2\n",
      "IN_LICENCIATURA_2\n",
      "IN_COM_PEDAGOGICA_2\n",
      "NU_ANO_INICIO_2\n",
      "NU_ANO_CONCLUSAO_2\n",
      "TP_TIPO_IES_2\n",
      "CO_IES_2\n",
      "TP_SITUACAO_CURSO_3\n",
      "CO_AREA_CURSO_3\n",
      "CO_CURSO_3\n",
      "IN_LICENCIATURA_3\n",
      "IN_COM_PEDAGOGICA_3\n",
      "NU_ANO_INICIO_3\n",
      "NU_ANO_CONCLUSAO_3\n",
      "TP_TIPO_IES_3\n",
      "CO_IES_3\n",
      "IN_DISC_QUIMICA\n",
      "IN_DISC_FISICA\n",
      "IN_DISC_MATEMATICA\n",
      "IN_DISC_BIOLOGIA\n",
      "IN_DISC_CIENCIAS\n",
      "IN_DISC_LINGUA_PORTUGUESA\n",
      "IN_DISC_LINGUA_INGLES\n",
      "IN_DISC_LINGUA_ESPANHOL\n",
      "IN_DISC_LINGUA_FRANCES\n",
      "IN_DISC_LINGUA_OUTRA\n",
      "IN_DISC_LINGUA_INDIGENA\n",
      "IN_DISC_ARTES\n",
      "IN_DISC_EDUCACAO_FISICA\n",
      "IN_DISC_HISTORIA\n",
      "IN_DISC_GEOGRAFIA\n",
      "IN_DISC_FILOSOFIA\n",
      "IN_DISC_ENSINO_RELIGIOSO\n",
      "IN_DISC_ESTUDOS_SOCIAIS\n",
      "IN_DISC_SOCIOLOGIA\n",
      "IN_DISC_EST_SOCIAIS_SOCIOLOGIA\n",
      "IN_DISC_INFORMATICA_COMPUTACAO\n",
      "IN_DISC_PROFISSIONALIZANTE\n",
      "IN_DISC_ATENDIMENTO_ESPECIAIS\n",
      "IN_DISC_DIVER_SOCIO_CULTURAL\n",
      "IN_DISC_LIBRAS\n",
      "IN_DISC_PEDAGOGICAS\n",
      "IN_DISC_OUTRAS\n",
      "IN_ESPECIALIZACAO\n",
      "IN_MESTRADO\n",
      "IN_DOUTORADO\n",
      "IN_POS_NENHUM\n",
      "IN_ESPECIFICO_CRECHE\n",
      "IN_ESPECIFICO_PRE_ESCOLA\n",
      "IN_ESPECIFICO_ANOS_INICIAIS\n",
      "IN_ESPECIFICO_ANOS_FINAIS\n",
      "IN_ESPECIFICO_ENS_MEDIO\n",
      "IN_ESPECIFICO_EJA\n",
      "IN_ESPECIFICO_ED_ESPECIAL\n",
      "IN_ESPECIFICO_ED_INDIGENA\n",
      "IN_ESPECIFICO_CAMPO\n",
      "IN_ESPECIFICO_AMBIENTAL\n",
      "IN_ESPECIFICO_DIR_HUMANOS\n",
      "IN_ESPECIFICO_DIV_SEXUAL\n",
      "IN_ESPECIFICO_DIR_ADOLESC\n",
      "IN_ESPECIFICO_AFRO\n",
      "IN_ESPECIFICO_OUTROS\n",
      "IN_ESPECIFICO_NENHUM\n",
      "TP_TIPO_DOCENTE\n",
      "TP_TIPO_CONTRATACAO\n",
      "ID_TURMA\n",
      "TP_TIPO_TURMA\n",
      "TP_MEDIACAO_DIDATICO_PEDAGO\n",
      "IN_ESPECIAL_EXCLUSIVA\n",
      "IN_REGULAR\n",
      "IN_EJA\n",
      "IN_PROFISSIONALIZANTE\n",
      "TP_ETAPA_ENSINO\n",
      "CO_CURSO_EDUC_PROFISSIONAL\n",
      "CO_REGIAO\n",
      "CO_MESORREGIAO\n",
      "CO_MICRORREGIAO\n",
      "CO_ENTIDADE\n",
      "CO_UF\n",
      "CO_MUNICIPIO\n",
      "CO_DISTRITO\n",
      "TP_DEPENDENCIA\n",
      "TP_LOCALIZACAO\n",
      "TP_CATEGORIA_ESCOLA_PRIVADA\n",
      "IN_CONVENIADA_PP\n",
      "TP_CONVENIO_PODER_PUBLICO\n",
      "IN_MANT_ESCOLA_PRIVADA_EMP\n",
      "IN_MANT_ESCOLA_PRIVADA_ONG\n",
      "IN_MANT_ESCOLA_PRIVADA_SIND\n",
      "IN_MANT_ESCOLA_PRIVADA_SIST_S\n",
      "IN_MANT_ESCOLA_PRIVADA_S_FINS\n",
      "TP_REGULAMENTACAO\n",
      "TP_LOCALIZACAO_DIFERENCIADA\n",
      "IN_EDUCACAO_INDIGENA\n"
     ]
    }
   ],
   "source": [
    "[print(c) for c in df17.columns];"
   ]
  },
  {
   "cell_type": "code",
   "execution_count": 17,
   "metadata": {
    "scrolled": true
   },
   "outputs": [
    {
     "name": "stdout",
     "output_type": "stream",
     "text": [
      "NU_ANO_CENSO: int16\n",
      "CO_PESSOA_FISICA: int64\n",
      "NU_DIA: int8\n",
      "NU_MES: int8\n",
      "NU_ANO: int16\n",
      "NU_IDADE_REFERENCIA: int8\n",
      "NU_IDADE: int8\n",
      "TP_SEXO: int8\n",
      "TP_COR_RACA: int8\n",
      "TP_NACIONALIDADE: int8\n",
      "CO_PAIS_ORIGEM: int16\n",
      "CO_UF_NASC: float16\n",
      "CO_MUNICIPIO_NASC: float32\n",
      "CO_UF_END: float16\n",
      "CO_MUNICIPIO_END: float32\n",
      "TP_ZONA_RESIDENCIAL: float16\n",
      "O Centro Oeste possuia em 2017 167113 professores.\n"
     ]
    }
   ],
   "source": [
    "\n",
    "def analisa_inicio(dfa):\n",
    "    re_id_hist = re.compile('(^CO_[A-Z]).+(\\D$)')\n",
    "    cols_hist = [c for c in dfa.columns if re_id_hist.match(c) or c.startswith('NU') or c.startswith('IN') or c in ['TP_NACIONALIDADE','TP_COR_RACA']]\n",
    "    for c  in cols_hist:\n",
    "        display(c)\n",
    "        s = dfa[c]\n",
    "        if s.nunique() > 10:\n",
    "            display(s.describe())\n",
    "        else:\n",
    "            display(s.value_counts())\n",
    "        s.hist()\n",
    "        plt.show();\n",
    "    display(dfa['TP_SEXO'].value_counts())\n",
    "    dfa['TP_SEXO'].value_counts().plot.bar();\n",
    "    plt.show()\n",
    "\n",
    "df17 = monta_df_docente(f'{ARQ_PATH}/2017/DOCENTES_CO.CSV')\n",
    "#dfa17 = monta_df_professores(df17.loc[df17.TP_TIPO_DOCENTE == 1])\n",
    "print(f'O Centro Oeste possuia em 2017 {df17.loc[df17.TP_TIPO_DOCENTE == 1].CO_PESSOA_FISICA.nunique()} professores.')\n",
    "#analisa_inicio(dfa17)\n"
   ]
  },
  {
   "cell_type": "markdown",
   "metadata": {},
   "source": [
    "### Vamos ver se houve diferença entre 2011 e 2017\n",
    "#### Para isso temos que fazer um de/para nos campos\n",
    "\n",
    "Utilizei 2017 como base pois tem a informacao se o campos esta disponivel em outros anos."
   ]
  },
  {
   "cell_type": "code",
   "execution_count": null,
   "metadata": {},
   "outputs": [],
   "source": [
    "\n",
    "ano_ref = '2017'\n",
    "campos_docentes = {}\n",
    "for a in anos_pesquisa:\n",
    "    campos_docentes[a] = importa_campos(f'{ARQ_PATH}{a}/dic_dados_docentes.csv')\n"
   ]
  },
  {
   "cell_type": "markdown",
   "metadata": {},
   "source": [
    "Tipos de campos:\n",
    "\n",
    "* Não havia em algum dos anos esolhidos: serao deletados.\n",
    "* Com o mesmo nome: OK\n",
    "* Com nome diferente: descricao igual\n",
    "* Com nome e descricao diferente: nome proximo (preferencialmente a partir do primeiro _ ).\n"
   ]
  },
  {
   "cell_type": "code",
   "execution_count": null,
   "metadata": {},
   "outputs": [],
   "source": [
    "def campos_ref(dref,anos):\n",
    "    duso = dref.loc[dref[f'IN_{anos_pesquisa[0][2:]}']=='s']\n",
    "    for a in anos[1:]:\n",
    "        duso = duso.loc[duso[f'IN_{a[2:]}'] == 's']\n",
    "    return duso\n",
    "\n",
    "campos_docentes[ano_ref]['NM_ANT_VAR'] = campos_docentes[ano_ref].merge(campos_docentes['2015'],right_index=True,left_index=True,how='left')['NOME_ANTIGO']\n",
    "display(campos_docentes[ano_ref].head())\n",
    "duso = campos_ref(campos_docentes[ano_ref],anos_pesquisa)[['DESCRICAO','NM_ANT_VAR']]\n",
    "display(duso.shape)\n",
    "display(duso.head())"
   ]
  },
  {
   "cell_type": "code",
   "execution_count": null,
   "metadata": {
    "scrolled": false
   },
   "outputs": [],
   "source": [
    "t = duso.copy()\n",
    "for k,v in campos_docentes.items():\n",
    "    if k != ano_ref:\n",
    "        t[f'NM_VAR_{k}'] = monta_de_para(duso,v[['DESCRICAO']],k)\n",
    "d = t.copy()"
   ]
  },
  {
   "cell_type": "code",
   "execution_count": null,
   "metadata": {
    "scrolled": false
   },
   "outputs": [],
   "source": [
    "display(d.shape)\n",
    "display(d.head())\n"
   ]
  },
  {
   "cell_type": "code",
   "execution_count": null,
   "metadata": {
    "scrolled": false
   },
   "outputs": [],
   "source": [
    "variaveis_docentes = d.dropna()[[f'NM_VAR_{a}' for a in anos_pesquisa if a!=ano_ref]].reset_index()\n",
    "variaveis_docentes.columns = [c if c!='VARIAVEL' else f'NM_VAR_{ano_ref}' for c in variaveis_docentes.columns]"
   ]
  },
  {
   "cell_type": "code",
   "execution_count": null,
   "metadata": {
    "scrolled": false
   },
   "outputs": [],
   "source": [
    "display(variaveis_docentes.shape)\n",
    "display(variaveis_docentes)\n"
   ]
  },
  {
   "cell_type": "markdown",
   "metadata": {},
   "source": [
    "### Professores "
   ]
  },
  {
   "cell_type": "code",
   "execution_count": null,
   "metadata": {},
   "outputs": [],
   "source": [
    "prof_df = pd.DataFrame(columns=list(variaveis_docentes[f'NM_VAR_{ano_ref}'].values) + ['ANO'])\n",
    "\n",
    "for k,v in tqdm(campos_docentes.items()):\n",
    "    cpos = v\n",
    "    d = carrega_arquivo_inep(f'{ARQ_PATH}{k}/DOCENTES_CO.CSV',cols=variaveis_docentes[f'NM_VAR_{k}'].values)\n",
    "    col_uf = 'CO_UF' if 'CO_UF' in d.columns else 'FK_COD_ESTADO'\n",
    "    d = d.loc[d[col_uf] == 53]\n",
    "    d.columns = variaveis_docentes[f'NM_VAR_{ano_ref}'].values\n",
    "    d['ANO'] = int(k)\n",
    "    prof_df = prof_df.append(d)\n",
    "    \n",
    "    "
   ]
  },
  {
   "cell_type": "code",
   "execution_count": null,
   "metadata": {
    "scrolled": false
   },
   "outputs": [],
   "source": [
    "prof_df.fillna(-1,inplace=True)\n",
    "prof_df = ajusta_colunas_int_df_inep(prof_df)\n",
    "prof_df = prof_df[prof_df.TP_TIPO_DOCENTE == 1]\n",
    "prof_df.head()"
   ]
  },
  {
   "cell_type": "code",
   "execution_count": null,
   "metadata": {
    "scrolled": true
   },
   "outputs": [],
   "source": [
    "list(map(print,enumerate(prof_df.columns)));"
   ]
  },
  {
   "cell_type": "code",
   "execution_count": null,
   "metadata": {},
   "outputs": [],
   "source": [
    "pss_ano.set_index(['CO_PESSOA_FISICA','ANO'],inplace=True)"
   ]
  },
  {
   "cell_type": "code",
   "execution_count": null,
   "metadata": {},
   "outputs": [],
   "source": [
    "#pss_ano['NUM_QTD_ESCOLAS'] = prof_df.groupby(['CO_PESSOA_FISICA','ANO'])['CO_ENTIDADE'].nunique().fillna(0)\n",
    "#pss_ano['IN_LECIONA_PUBLICA'] = (prof_df.groupby(['CO_PESSOA_FISICA','ANO'])['TP_DEPENDENCIA'].max() <= 4).fillna(False).astype(np.int8)\n",
    "pss_ano['NUM_QTD_TURMAS'] = prof_df.groupby(['CO_PESSOA_FISICA','ANO'])['ID_TURMA'].count().fillna(0)\n"
   ]
  },
  {
   "cell_type": "code",
   "execution_count": null,
   "metadata": {},
   "outputs": [],
   "source": [
    "pss_ano = monta_df_prof_ano(prof_df)"
   ]
  },
  {
   "cell_type": "code",
   "execution_count": null,
   "metadata": {
    "scrolled": false
   },
   "outputs": [],
   "source": [
    "a = pss_ano.fillna(-1)\n",
    "pss_ano = ajusta_colunas_int_df_inep(a)"
   ]
  },
  {
   "cell_type": "code",
   "execution_count": null,
   "metadata": {},
   "outputs": [],
   "source": [
    "prof_df.to_csv(f'{PATH_DF_CSV}prof_df.csv',index=False)\n",
    "pss_ano.to_csv(f'{PATH_DF_CSV}pessoas_prof_df.csv',index=False)"
   ]
  },
  {
   "cell_type": "markdown",
   "metadata": {},
   "source": [
    "<table columns=2 style='width:100%'><tr><td>\n",
    "<img src='img/cp_icon.png'/></td><td> <h2>Check-point, recarregando os DataFrames para analisar a situacao do DF e montar a target.</h2></td></tr></table>"
   ]
  },
  {
   "cell_type": "code",
   "execution_count": null,
   "metadata": {},
   "outputs": [],
   "source": [
    "prof_df = pd.read_csv(f'{PATH_DF_CSV}prof_df.csv',low_memory=False)\n",
    "pss_ano= pd.read_csv(f'{PATH_DF_CSV}pessoas_prof_df.csv',low_memory=False)"
   ]
  },
  {
   "cell_type": "code",
   "execution_count": null,
   "metadata": {},
   "outputs": [],
   "source": [
    "display(pss_ano.reset_index().ANO.value_counts())\n",
    "pss_ano.shape"
   ]
  },
  {
   "cell_type": "code",
   "execution_count": null,
   "metadata": {},
   "outputs": [],
   "source": [
    "pss_ano.reset_index(inplace=True)\n",
    "pss_ano = ajusta_colunas_int_df_inep(pss_ano,vai_printar_cols=False)"
   ]
  },
  {
   "cell_type": "markdown",
   "metadata": {},
   "source": [
    "#### Curiosidade para ver o comportamento das variaveis"
   ]
  },
  {
   "cell_type": "code",
   "execution_count": null,
   "metadata": {
    "scrolled": true
   },
   "outputs": [],
   "source": [
    "for c in pss_ano.columns[2:]:\n",
    "    if not c.startswith('CO'):\n",
    "        for a in anos_pesquisa:\n",
    "            display(a + ' - ' + c)\n",
    "            if c.startswith('NU'):\n",
    "                display(pss_ano.loc[pss_ano.ANO == int(a)][c].describe())\n",
    "                pss_ano.loc[pss_ano.ANO == int(a)][c].hist()\n",
    "            else:\n",
    "                display(pss_ano.loc[pss_ano.ANO == int(a)][c].value_counts())\n",
    "                pss_ano.loc[pss_ano.ANO == int(a)][c].value_counts().plot.bar()\n",
    "            plt.show()\n",
    "            #sns.barplot()\n",
    "    \n"
   ]
  },
  {
   "cell_type": "markdown",
   "metadata": {},
   "source": [
    "### Taxa de rotatividade de professores entre 2 anos .  \n",
    "\n",
    "\n"
   ]
  },
  {
   "cell_type": "code",
   "execution_count": null,
   "metadata": {},
   "outputs": [],
   "source": [
    "def monta_saidas(pt, ano,turmas=[]):\n",
    "    pe_ano = pt.loc[(pt.TP_DEPENDENCIA < 4) & (pt.ANO == int(ano)) & ((len(turmas)==0) | (pt.CO_ENTIDADE.isin(turmas)))][['CO_PESSOA_FISICA','CO_ENTIDADE']].drop_duplicates()\n",
    "    pe_fut = pt.loc[(pt.TP_DEPENDENCIA < 4) & ((len(turmas)==0) | (pt.CO_ENTIDADE.isin(turmas))) & (pt.ANO == int(anos_pesquisa[anos_pesquisa.index(str(ano))+1])) & pt.CO_PESSOA_FISICA.isin(pe_ano.CO_PESSOA_FISICA.unique())][['CO_PESSOA_FISICA','CO_ENTIDADE']].drop_duplicates()\n",
    "    pe_ano = pe_ano.loc[pe_ano.CO_PESSOA_FISICA.isin(pe_fut.CO_PESSOA_FISICA.unique())]\n",
    "    to = pe_ano.merge(pe_fut,indicator=True,on=['CO_PESSOA_FISICA','CO_ENTIDADE'],how='outer')\n",
    "    #vamos manter somente as escolas que estavam abertas nos 2 periodos\n",
    "    to = to.loc[to._merge =='left_only']\n",
    "    return to[['CO_PESSOA_FISICA','CO_ENTIDADE']],pe_ano,pe_fut\n"
   ]
  },
  {
   "cell_type": "code",
   "execution_count": null,
   "metadata": {},
   "outputs": [],
   "source": [
    "\n",
    "for ano in anos_pesquisa[:-1]:\n",
    "    t,a,f = monta_saidas(prof_df,ano)\n",
    "    p = t.shape[0]/a.shape[0] * 100\n",
    "    display(f'{ano}/{int(ano)+2} havia {a.shape[0]} professores/escola, houve {t.shape[0]} saidas ({p}%)');\n"
   ]
  },
  {
   "cell_type": "markdown",
   "metadata": {},
   "source": [
    "### Como  o turnover total foi estável no período iremos modelar somente com o biênio 2015/2017"
   ]
  },
  {
   "cell_type": "markdown",
   "metadata": {},
   "source": [
    "##### Importando dados de escolas e turmas de escolas publicas em funcionamento do DF"
   ]
  },
  {
   "cell_type": "code",
   "execution_count": null,
   "metadata": {},
   "outputs": [],
   "source": [
    "def imp_esc_dist_atv_df(ano):\n",
    "    d_esc = pd.read_csv(f'{ARQ_PATH}{ano}/ESCOLAS.CSV',sep='|',encoding='latin1',low_memory=False)\n",
    "    d_esc.fillna(-1,inplace=True)\n",
    "    d_esc = ajusta_colunas_int_df_inep(d_esc,vai_printar_cols=False)\n",
    "    d_esc['ANO'] = ano\n",
    "    return d_esc.loc[(d_esc.CO_UF == 53) & (d_esc.TP_SITUACAO_FUNCIONAMENTO == 1) & (d_esc.TP_DEPENDENCIA == 2)]\n",
    "\n",
    "escolas = imp_esc_dist_atv_df(2017).append(imp_esc_dist_atv_df(2015))\n",
    "\n",
    "escolas.head()"
   ]
  },
  {
   "cell_type": "code",
   "execution_count": null,
   "metadata": {},
   "outputs": [],
   "source": [
    "def imp_turma_esc_atv_df(ano,escolas):\n",
    "    d_tur = pd.read_csv(f'{ARQ_PATH}{ano}/TURMAS.CSV',sep='|',encoding='latin1',low_memory=False)\n",
    "    d_tur.fillna(-1,inplace=True)\n",
    "    d_tur = ajusta_colunas_int_df_inep(d_tur,vai_printar_cols=False)\n",
    "    d_tur['ANO'] = ano\n",
    "    return d_tur.loc[(d_tur.CO_ENTIDADE.isin(escolas))]\n"
   ]
  },
  {
   "cell_type": "code",
   "execution_count": null,
   "metadata": {},
   "outputs": [],
   "source": [
    "turmas = imp_turma_esc_atv_df(2015,escolas.loc[escolas.ANO == 2015].CO_ENTIDADE.unique())\\\n",
    "        .append(imp_turma_esc_atv_df(2017,escolas.loc[escolas.ANO == 2017].CO_ENTIDADE.unique()))"
   ]
  },
  {
   "cell_type": "code",
   "execution_count": null,
   "metadata": {
    "scrolled": true
   },
   "outputs": [],
   "source": [
    "display(turmas.dtypes)\n",
    "turmas.head()"
   ]
  },
  {
   "cell_type": "code",
   "execution_count": null,
   "metadata": {},
   "outputs": [],
   "source": [
    "escolas.to_csv(f'{PATH_DF_CSV}escolas_distritais_15_17_func_df.csv',index=False)\n",
    "turmas.to_csv(f'{PATH_DF_CSV}turmas_df.csv',index=False)"
   ]
  },
  {
   "cell_type": "code",
   "execution_count": null,
   "metadata": {},
   "outputs": [],
   "source": [
    "escolas = pd.read_csv(f'{PATH_DF_CSV}escolas_distritais_15_17_func_df.csv',low_memory=False)\n",
    "turmas = pd.read_csv(f'{PATH_DF_CSV}turmas_df.csv',low_memory=False)"
   ]
  },
  {
   "cell_type": "code",
   "execution_count": null,
   "metadata": {},
   "outputs": [],
   "source": [
    "#escolas distritais que estavam funcionamento em 2015 e 2017\n",
    "e17 = escolas.loc[(escolas.ANO == 2017)]['CO_ENTIDADE'].unique()\n",
    "co_e15_17 = escolas.loc[(escolas.ANO == 2015) & (escolas.CO_ENTIDADE.isin(e17))]['CO_ENTIDADE'].unique()\n",
    "display(len(e17))\n",
    "display(len(co_e15_17))"
   ]
  },
  {
   "cell_type": "code",
   "execution_count": null,
   "metadata": {},
   "outputs": [],
   "source": [
    "#turnover 2015 em escolas em funcionamento\n",
    "ano = 2015\n",
    "t,a,f = monta_saidas(prof_df,ano,turmas=co_e15_17)\n",
    "p = t.shape[0]/a.shape[0] * 100\n",
    "display(f'{ano}/{int(ano)+2} havia {a.shape[0]} professores/escola, houve {t.shape[0]} saidas ({p}%)');\n"
   ]
  },
  {
   "cell_type": "markdown",
   "metadata": {},
   "source": [
    "### <center>  Temos publico e temos a target! </center>\n",
    "\n",
    "<img src='https://media.giphy.com/media/3o6MbkNYWUzAuKmDa8/giphy.gif'>\n",
    "\n",
    "\n"
   ]
  },
  {
   "cell_type": "code",
   "execution_count": null,
   "metadata": {},
   "outputs": [],
   "source": [
    "a = a.merge(t,on=['CO_ENTIDADE','CO_PESSOA_FISICA'],indicator=True,how='left')\n",
    "a['target'] = a._merge == 'both'\n",
    "a.drop('_merge',axis=1,inplace=True)\n",
    "a['ano'] = 2015\n",
    "display(a.target.value_counts())\n"
   ]
  },
  {
   "cell_type": "code",
   "execution_count": null,
   "metadata": {},
   "outputs": [],
   "source": [
    "a.to_csv(f'{PATH_DF_CSV}prof_escola_target.csv',index=False)"
   ]
  },
  {
   "cell_type": "code",
   "execution_count": null,
   "metadata": {
    "scrolled": true
   },
   "outputs": [],
   "source": [
    "#atalho para montagem do professores\n",
    "def atalho_prof_df2015():\n",
    "    a = ajusta_colunas_int_df_inep(carrega_arquivo_docentes(f'{ARQ_PATH}2015/DOCENTES_CO.CSV'))\n",
    "    a['ANO'] = 2015\n",
    "    b = ajusta_colunas_int_df_inep(carrega_arquivo_docentes(f'{ARQ_PATH}2017/DOCENTES_CO.CSV'))\n",
    "    b['ANO'] = 2017\n",
    "    c = a.append(b)\n",
    "    c.to_csv(f'{PATH_DF_CSV}prof_df.csv',index=None)\n",
    "    del a, b\n",
    "    return c\n",
    "#prof_df = atalho_prof_df2015()\n"
   ]
  },
  {
   "cell_type": "markdown",
   "metadata": {},
   "source": [
    "### Apaga arquivos nao utilizados"
   ]
  },
  {
   "cell_type": "code",
   "execution_count": null,
   "metadata": {},
   "outputs": [],
   "source": [
    "import os\n",
    "for path, subdirs, files in os.walk(ARQ_PATH):\n",
    "    for name in files:\n",
    "        if '_' in name and not name.endswith('_CO.CSV') and name.endswith('CSV'):\n",
    "            f = os.path.join(path, name)\n",
    "            !rm -rf {f}    "
   ]
  },
  {
   "cell_type": "markdown",
   "metadata": {},
   "source": [
    "<table columns=2 style='width:100%'><tr><td><img src='img/cp_icon.png'/>\n",
    "</td><td> <h2>Check-point, importando os DataFrames para criação de features.</h2></td></tr></table>"
   ]
  },
  {
   "cell_type": "code",
   "execution_count": null,
   "metadata": {
    "scrolled": true
   },
   "outputs": [],
   "source": [
    "escolas = ajusta_colunas_int_df_inep(pd.read_csv(f'{PATH_DF_CSV}escolas_distritais_15_17_func_df.csv',low_memory=False),vai_printar_cols=False)\n",
    "turmas = ajusta_colunas_int_df_inep(pd.read_csv(f'{PATH_DF_CSV}turmas_df.csv',low_memory=False),vai_printar_cols=False)\n",
    "prof_df = ajusta_colunas_int_df_inep(pd.read_csv(f'{PATH_DF_CSV}prof_df.csv',low_memory=False),vai_printar_cols=False)\n",
    "pss_ano = None\n",
    "try:\n",
    "    pss_ano= ajusta_colunas_int_df_inep(pd.read_csv(f'{PATH_DF_CSV}pessoas_prof_df.csv',low_memory=False),vai_printar_cols=False)\n",
    "except Exception as e:\n",
    "    print(f'Erro na importacao de pss_ano{e}')\n",
    "    pass\n",
    "pet = ajusta_colunas_int_df_inep(pd.read_csv(f'{PATH_DF_CSV}prof_escola_target.csv',low_memory=False),vai_printar_cols=False)"
   ]
  },
  {
   "cell_type": "markdown",
   "metadata": {},
   "source": [
    "## 02. Criação de features para o estudo\n",
    "\n",
    "- Localizacao:\n",
    "    * criminalidade\n",
    "    * linhas de onibus\n",
    "    * contexto social (setor censitario)\n",
    "- Infra da escola\n",
    "    * situacao da escola\n",
    "- Turma\n",
    "    * alunos\n",
    "    * disciplina da turma x displina de formacao\n",
    "\n",
    "\n"
   ]
  },
  {
   "cell_type": "markdown",
   "metadata": {},
   "source": [
    "#### Iremos começar com os dados que já temos (escolas e turmas).\n",
    "\n",
    "- Selecionando features das escolas, professores e turmas."
   ]
  },
  {
   "cell_type": "code",
   "execution_count": null,
   "metadata": {
    "scrolled": true
   },
   "outputs": [],
   "source": [
    "list(map(print,prof_df.columns));\n"
   ]
  },
  {
   "cell_type": "code",
   "execution_count": null,
   "metadata": {
    "scrolled": true
   },
   "outputs": [],
   "source": [
    "list(map(print,turmas.columns))\n",
    "cols_sel = [\n",
    "    'CO_TIPO_ATIVIDADE_1',    'CO_TIPO_ATIVIDADE_2',    'CO_TIPO_ATIVIDADE_3',\n",
    "'CO_TIPO_ATIVIDADE_4','CO_TIPO_ATIVIDADE_5','CO_TIPO_ATIVIDADE_6',\n",
    "'ID_TURMA','IN_AUTONOMIA_ESCOLAR','IN_BRAILLE',\n",
    "'IN_COMUNICACAO_ALT_AUMENT','IN_CONVENIADA_PP',\n",
    "'IN_DIA_SEMANA_DOMINGO','IN_DIA_SEMANA_QUARTA',\n",
    "'IN_DIA_SEMANA_QUINTA','IN_DIA_SEMANA_SABADO',\n",
    "'IN_DIA_SEMANA_SEGUNDA','IN_DIA_SEMANA_SEXTA',\n",
    "'IN_DIA_SEMANA_TERCA','IN_DISC_ARTES',\n",
    "'IN_DISC_ATENDIMENTO_ESPECIAIS','IN_DISC_BIOLOGIA',\n",
    "'IN_DISC_CIENCIAS','IN_DISC_DIVER_SOCIO_CULTURAL',\n",
    "'IN_DISC_EDUCACAO_FISICA','IN_DISC_ENSINO_RELIGIOSO',\n",
    "'IN_DISC_ESTUDOS_SOCIAIS','IN_DISC_EST_SOCIAIS_SOCIOLOGIA',\n",
    "'IN_DISC_FILOSOFIA','IN_DISC_FISICA',\n",
    "'IN_DISC_GEOGRAFIA','IN_DISC_HISTORIA',\n",
    "'IN_DISC_INFORMATICA_COMPUTACAO','IN_DISC_LIBRAS',\n",
    "'IN_DISC_LINGUA_ESPANHOL','IN_DISC_LINGUA_FRANCES',\n",
    "'IN_DISC_LINGUA_INDIGENA','IN_DISC_LINGUA_INGLES',\n",
    "'IN_DISC_LINGUA_OUTRA','IN_DISC_LINGUA_PORTUGUESA',\n",
    "'IN_DISC_MATEMATICA','IN_DISC_OUTRAS',\n",
    "'IN_DISC_PEDAGOGICAS','IN_DISC_PROFISSIONALIZANTE',\n",
    "'IN_DISC_QUIMICA','IN_DISC_SOCIOLOGIA',\n",
    "'IN_EDUCACAO_INDIGENA','IN_EJA',\n",
    "'IN_ENRIQ_CURRICULAR','IN_ESPECIAL_EXCLUSIVA',\n",
    "'IN_INFORMATICA_ACESSIVEL','IN_MAIS_EDUCACAO',\n",
    "'IN_ORIENTACAO_MOBILIDADE',\n",
    "'IN_PORT_ESCRITA','IN_PROCESSOS_MENTAIS',\n",
    "'IN_PROFISSIONALIZANTE','IN_RECURSOS_BAIXA_VISAO',\n",
    "'IN_REGULAR','IN_SINAIS','IN_SOROBAN','NU_DIAS_ATIVIDADE',\n",
    "'NU_DURACAO_TURMA','NU_MATRICULAS','TX_HR_INICIAL'\n",
    "]\n",
    "ft_turmas = turmas.loc[turmas.ANO == 2015][cols_sel].set_index('ID_TURMA')\n",
    "\n",
    "qtd_turmas = ft_turmas.shape[0]\n",
    "dc = []\n",
    "ft_turmas['IN_MANHA'] = (ft_turmas.TX_HR_INICIAL < 12).astype(np.int8)\n",
    "ft_turmas['IN_TARDE'] = ((ft_turmas.TX_HR_INICIAL >= 12) & (ft_turmas.TX_HR_INICIAL < 18)).astype(np.int8)\n",
    "ft_turmas['IN_NOITE'] = (ft_turmas.TX_HR_INICIAL >= 18).astype(np.int8)\n",
    "dc.append('TX_HR_INICIAL')\n",
    "display(ft_turmas.shape)\n",
    "for c in ft_turmas.columns:\n",
    "    if stats.mode(ft_turmas[c])[1] / qtd_turmas > 0.9:\n",
    "        dc.append(c)\n",
    "ft_turmas.drop(dc,axis=1,inplace=True)\n",
    "display(ft_turmas.head())\n",
    "display(ft_turmas.shape)"
   ]
  },
  {
   "cell_type": "code",
   "execution_count": null,
   "metadata": {},
   "outputs": [],
   "source": [
    "profs = prof_df.loc[prof_df.ANO == 2015][['CO_PESSOA_FISICA','ID_TURMA','CO_ENTIDADE']]\n"
   ]
  },
  {
   "cell_type": "code",
   "execution_count": null,
   "metadata": {},
   "outputs": [],
   "source": [
    "display(profs.shape)\n",
    "a = profs.merge(ft_turmas,on='ID_TURMA')\n",
    "b = a.groupby(['CO_PESSOA_FISICA','CO_ENTIDADE'])[[c for c in a.columns if c.startswith('IN_') or c.startswith('NU_')]].sum()\n",
    "b.columns = ['SUM_TURMA_' + c for c in b.columns]\n",
    "\n",
    "d = a.groupby(['CO_PESSOA_FISICA','CO_ENTIDADE'])[[c for c in a.columns if c.startswith('NU_')]].max()\n",
    "d.columns = ['MAX_TURMA_' + c for c in d.columns]\n",
    "e = a.groupby(['CO_PESSOA_FISICA','CO_ENTIDADE'])[[c for c in a.columns if c.startswith('NU_')]].min()\n",
    "e.columns = ['MIN_TURMA_' + c for c in e.columns]\n",
    "\n",
    "b = b.merge(d,right_index=True,left_index=True)\n",
    "prof_escolas = b.merge(e,right_index=True,left_index=True)\n",
    "del a, b, d, e\n",
    "display(prof_escolas.shape)\n",
    "prof_escolas.head()"
   ]
  },
  {
   "cell_type": "code",
   "execution_count": null,
   "metadata": {
    "scrolled": true
   },
   "outputs": [],
   "source": [
    "#so interessa a situacao da escola no momento de analise da saida\n",
    "list(map(print,escolas.columns));\n"
   ]
  },
  {
   "cell_type": "code",
   "execution_count": null,
   "metadata": {},
   "outputs": [],
   "source": [
    "ft_escolas = escolas.loc[escolas.NU_ANO_CENSO == 2015]\n",
    "ft_escolas['NUM_DD_AULAS'] = (pd.to_datetime(ft_escolas.DT_ANO_LETIVO_TERMINO) - pd.to_datetime(ft_escolas.DT_ANO_LETIVO_INICIO)).dt.days\n",
    "ft_escolas['NUM_DD_AULAS'].head()\n",
    "cols_sel =['CO_ENTIDADE','CO_ORGAO_REGIONAL','TP_LOCALIZACAO',\n",
    "           'TP_OCUPACAO_PREDIO_ESCOLAR','TP_OCUPACAO_GALPAO',\n",
    "          'TP_ATIVIDADE_COMPLEMENTAR']\n",
    "ft_escolas = ft_escolas[cols_sel +[c for c in ft_escolas.columns if c.startswith('IN_') or c.startswith('NU')]]\n",
    "ft_escolas.set_index('CO_ENTIDADE',inplace=True)\n",
    "#vamos as os indicadores que estao em mais de 90% das escolas.\n",
    "print(ft_escolas.shape)\n",
    "cols = ft_escolas.columns\n",
    "qtd_esc = ft_escolas.shape[0]\n",
    "dc = []\n",
    "for c in cols:\n",
    "    if stats.mode(ft_escolas[c])[1] / qtd_esc > 0.9:\n",
    "        dc.append(c)\n",
    "ft_escolas.drop(dc,axis=1,inplace=True)\n",
    "display(ft_escolas.head())\n",
    "print(ft_escolas.shape)\n"
   ]
  },
  {
   "cell_type": "code",
   "execution_count": null,
   "metadata": {
    "scrolled": true
   },
   "outputs": [],
   "source": [
    "display(ft_escolas.dtypes)"
   ]
  },
  {
   "cell_type": "code",
   "execution_count": null,
   "metadata": {},
   "outputs": [],
   "source": [
    "ft_escolas['PC_SALAS_UTILIZADAS'] = (ft_escolas.NU_SALAS_UTILIZADAS/ft_escolas.NU_SALAS_EXISTENTES)\\\n",
    "                                    .astype(np.float16)\n",
    "ft_escolas['NU_TTL_MATRICLAS'] = turmas.groupby('CO_ENTIDADE').NU_MATRICULAS.sum()\n",
    "ft_escolas['NU_PROFESSORES'] = prof_df.groupby('CO_ENTIDADE')['CO_PESSOA_FISICA'].count()\n",
    "cd = []\n",
    "for c in ft_escolas.columns:\n",
    "    if c.startswith('NU_') and c!= 'NU_TTL_MATRICLAS':\n",
    "        ft_escolas[f'{c}_PER_MATRICULA'] = ft_escolas[c]/ft_escolas['NU_TTL_MATRICLAS']\n",
    "        cd.append(c)\n",
    "ft_escolas.drop(c,axis=1,inplace=True)\n",
    "display(ft_escolas.shape)\n",
    "display(ft_escolas.head())"
   ]
  },
  {
   "cell_type": "code",
   "execution_count": null,
   "metadata": {},
   "outputs": [],
   "source": [
    "prof_escolas = prof_escolas.reset_index().merge(ft_escolas.reset_index(),on='CO_ENTIDADE').set_index(['CO_PESSOA_FISICA','CO_ENTIDADE'])"
   ]
  },
  {
   "cell_type": "code",
   "execution_count": null,
   "metadata": {},
   "outputs": [],
   "source": [
    "display(prof_escolas.shape)\n",
    "display(prof_escolas.head())"
   ]
  },
  {
   "cell_type": "code",
   "execution_count": null,
   "metadata": {},
   "outputs": [],
   "source": [
    "model_vars = prof_escolas.reset_index().merge(pet.drop('ano',axis=1),on=['CO_PESSOA_FISICA','CO_ENTIDADE'])"
   ]
  },
  {
   "cell_type": "code",
   "execution_count": null,
   "metadata": {
    "scrolled": true
   },
   "outputs": [],
   "source": [
    "qtd_esc = model_vars.shape[0]\n",
    "dc = []\n",
    "for c in model_vars.columns:\n",
    "    if stats.mode(model_vars[c])[1] / qtd_esc > 0.9:\n",
    "        dc.append(c)\n",
    "    else:\n",
    "        display(c)\n",
    "        model_vars[c].hist()\n",
    "        plt.show()\n",
    "print(dc)"
   ]
  },
  {
   "cell_type": "markdown",
   "metadata": {},
   "source": [
    "### Dados de:\n",
    "01. Alunos que compoe as turmas que o professor da aula.\n"
   ]
  },
  {
   "cell_type": "markdown",
   "metadata": {},
   "source": [
    "#### Alunos que compoe as turmas"
   ]
  },
  {
   "cell_type": "code",
   "execution_count": null,
   "metadata": {
    "scrolled": false
   },
   "outputs": [],
   "source": [
    "a = ajusta_colunas_int_df_inep(carrega_arquivo_inep(f'{ARQ_PATH}2015/MATRICULA_CO.CSV'))"
   ]
  },
  {
   "cell_type": "code",
   "execution_count": null,
   "metadata": {},
   "outputs": [],
   "source": [
    "display(a.shape)\n",
    "display(a.head(2).T)"
   ]
  },
  {
   "cell_type": "code",
   "execution_count": null,
   "metadata": {},
   "outputs": [],
   "source": [
    "alunos = a.loc[a.CO_ENTIDADE.isin(pet.CO_ENTIDADE.unique()) & a.ID_TURMA.isin(profs.ID_TURMA.unique())]\n",
    "#del a"
   ]
  },
  {
   "cell_type": "code",
   "execution_count": null,
   "metadata": {
    "scrolled": true
   },
   "outputs": [],
   "source": [
    "alunos['IN_H0MEM'] = (alunos.TP_SEXO == 1).astype(np.int8)\n",
    "alunos['IN_TERRA_NATAL'] = alunos.CO_MUNICIPIO_NASC == alunos.CO_MUNICIPIO_END\n",
    "alunos['IN_ONIBUS'] = alunos.TP_RESPONSAVEL_TRANSPORTE.notna()\n",
    "alunos = alunos.merge(pd.get_dummies(alunos.TP_COR_RACA,prefix='IN_TP_COR_RACA',dtype=np.int8),right_index=True, left_index=True)\n",
    "display(alunos.shape)\n",
    "list(map(print,alunos.columns));"
   ]
  },
  {
   "cell_type": "code",
   "execution_count": null,
   "metadata": {},
   "outputs": [],
   "source": [
    "cols_count = ['CO_PESSOA_FISICA']\n",
    "cols_soma = [f'IN_TP_COR_RACA_{i}' for i in range(0,6)]\n",
    "cols_media = ['IN_ONIBUS','IN_TERRA_NATAL','IN_H0MEM','NU_IDADE']\n",
    "\n",
    "cols_gb = ['CO_ENTIDADE','ID_TURMA']\n",
    "a = alunos.groupby(cols_gb)\n",
    "c = a[cols_count].count()\n",
    "c.columns = [f'ALUNO_COUNT_{col}' for col in c.columns]\n",
    "s = a[cols_soma].sum()\n",
    "s.columns = [f'ALUNO_SUM_{col}' for col in s.columns]\n",
    "m = a[cols_media].mean()\n",
    "m.columns = [f'ALUNO_MEAN_{col}' for col in m.columns]\n",
    "turma_alunos = c.merge(s,left_index=True,right_index=True).merge(m,left_index=True,right_index=True)\n",
    "del a,c,s,m\n",
    "display(turma_alunos.shape)\n",
    "display(turma_alunos.head())"
   ]
  },
  {
   "cell_type": "code",
   "execution_count": null,
   "metadata": {},
   "outputs": [],
   "source": [
    "turma_alunos.ALUNO_COUNT_CO_PESSOA_FISICA = turma_alunos.ALUNO_COUNT_CO_PESSOA_FISICA.clip_upper(50)\n",
    "for c in turma_alunos.columns:\n",
    "    if c.startswith('ALUNO_SUM_IN'):\n",
    "        turma_alunos[c] = turma_alunos.clip_upper(50)"
   ]
  },
  {
   "cell_type": "markdown",
   "metadata": {},
   "source": [
    "#### Dados para cruzar professores com turmas"
   ]
  },
  {
   "cell_type": "code",
   "execution_count": null,
   "metadata": {
    "scrolled": false
   },
   "outputs": [],
   "source": [
    "p15 = ajusta_colunas_int_df_inep(carrega_arquivo_inep(f'{ARQ_PATH}2015/DOCENTES_CO.CSV'))\n",
    "p15 = p15.loc[p15.CO_PESSOA_FISICA.isin(pet.CO_PESSOA_FISICA)]\n"
   ]
  },
  {
   "cell_type": "code",
   "execution_count": null,
   "metadata": {
    "scrolled": false
   },
   "outputs": [],
   "source": [
    "p15r = monta_df_professores_vs17_resu(p15)\n"
   ]
  },
  {
   "cell_type": "code",
   "execution_count": null,
   "metadata": {},
   "outputs": [],
   "source": [
    "p15r.reset_index(inplace=True)\n",
    "p15r.columns = [f'PROF_{c}' for c in p15r.columns ]"
   ]
  },
  {
   "cell_type": "code",
   "execution_count": null,
   "metadata": {},
   "outputs": [],
   "source": [
    "list(map(print,p15r.columns));"
   ]
  },
  {
   "cell_type": "code",
   "execution_count": null,
   "metadata": {},
   "outputs": [],
   "source": [
    "a = turma_alunos.reset_index().merge(profs,on=cols_gb)\n",
    "a.columns = [c for c in a.columns[:-1]] + ['PROF_CO_PESSOA_FISICA']\n",
    "b = p15r[['PROF_CO_PESSOA_FISICA','PROF_TP_COR_RACA','PROF_IN_CIDADE_NATAL',\\\n",
    "          'PROF_NUM_TTL_GRAD','PROF_NUM_QTD_ESCOLAS','PROF_NUM_QTD_TURMAS',\\\n",
    "         'PROF_IN_LECIONA_PUBLICA','PROF_IN_LECIONA_PRIVADA']]\n",
    "c = a.merge(b,on='PROF_CO_PESSOA_FISICA')\n",
    "#Acabei de descobrir que a cor raca na tabela de matriculas eh a cor/raca do professor \n",
    "#e nao dos alunos...\n",
    "\n",
    "c['TURMA_NUM_ALUNOS_COR_RACA_PROF'] = c.apply(lambda x: None if np.isnan(x['PROF_TP_COR_RACA']) else x['ALUNO_SUM_IN_TP_COR_RACA_'+str(int(x['PROF_TP_COR_RACA']))] ,axis=1)\n",
    "c['TURMA_PROP_ALUNOS_COR_RACA_PROF'] = c.TURMA_NUM_ALUNOS_COR_RACA_PROF.clip_upper(50) / c.ALUNO_COUNT_CO_PESSOA_FISICA\n",
    "display(c.TURMA_PROP_ALUNOS_COR_RACA_PROF.value_counts())\n",
    "c.TURMA_PROP_ALUNOS_COR_RACA_PROF.hist(bins=50);"
   ]
  },
  {
   "cell_type": "code",
   "execution_count": null,
   "metadata": {},
   "outputs": [],
   "source": [
    "pet.columns"
   ]
  },
  {
   "cell_type": "code",
   "execution_count": null,
   "metadata": {
    "scrolled": true
   },
   "outputs": [],
   "source": [
    "a = turma_alunos.reset_index().merge(profs,on=cols_gb)\n",
    "a = a[[c for c in a.columns if 'COR_RACA' not in c]]\n",
    "a.columns = [c for c in a.columns[:-1]] + ['PROF_CO_PESSOA_FISICA']\n",
    "b = p15r[['PROF_CO_PESSOA_FISICA','PROF_TP_COR_RACA','PROF_IN_CIDADE_NATAL',\\\n",
    "          'PROF_NUM_TTL_GRAD','PROF_NUM_QTD_ESCOLAS','PROF_NUM_QTD_TURMAS',\\\n",
    "         'PROF_IN_LECIONA_PUBLICA','PROF_IN_LECIONA_PRIVADA']]\n",
    "c = a.merge(b,on='PROF_CO_PESSOA_FISICA')\n",
    "d = c.groupby(['PROF_CO_PESSOA_FISICA','CO_ENTIDADE'])\n",
    "del a,b\n",
    "e = d[['ALUNO_COUNT_CO_PESSOA_FISICA']].mean()\n",
    "cols_min = ['ALUNO_MEAN_IN_ONIBUS','ALUNO_MEAN_IN_TERRA_NATAL','ALUNO_MEAN_IN_H0MEM','ALUNO_MEAN_NU_IDADE']\n",
    "f = d[cols_min].min()\n",
    "f.columns = [f'MIN_{c}' for c in f.columns]\n",
    "cols_max = cols_min\n",
    "g = d[cols_max].max()\n",
    "g.columns = [f'MAX_{c}' for c in g.columns]\n",
    "\n",
    "model_vars = model_vars.merge(e.reset_index(),left_on=['CO_PESSOA_FISICA', 'CO_ENTIDADE'],right_on=['PROF_CO_PESSOA_FISICA', 'CO_ENTIDADE'])\\\n",
    ".merge(f.reset_index(),left_on=['CO_PESSOA_FISICA', 'CO_ENTIDADE'],right_on=['PROF_CO_PESSOA_FISICA', 'CO_ENTIDADE'])\\\n",
    ".merge(g.reset_index(),left_on=['CO_PESSOA_FISICA', 'CO_ENTIDADE'],right_on=['PROF_CO_PESSOA_FISICA', 'CO_ENTIDADE'])\n",
    "   "
   ]
  },
  {
   "cell_type": "code",
   "execution_count": null,
   "metadata": {
    "scrolled": true
   },
   "outputs": [],
   "source": [
    "model_vars = model_vars[[c for c in model_vars.columns if not c.endswith('_x') and not c.endswith('_y')]]"
   ]
  },
  {
   "cell_type": "code",
   "execution_count": null,
   "metadata": {
    "scrolled": false
   },
   "outputs": [],
   "source": [
    "list(map(print,model_vars.columns));"
   ]
  },
  {
   "cell_type": "code",
   "execution_count": null,
   "metadata": {},
   "outputs": [],
   "source": [
    "model_vars.to_csv(f'{PATH_DF_CSV}model_vars.csv')"
   ]
  },
  {
   "cell_type": "markdown",
   "metadata": {},
   "source": [
    "\n",
    "<table columns=2 style='width:100%'><tr><td><img src='img/cp_icon.png'/>\n",
    "</td><td> <h2>Check-point, criação de features da vizinhança da escola a partir dos dados do censo de 2010.</h2></td></tr></table>\n"
   ]
  },
  {
   "cell_type": "code",
   "execution_count": null,
   "metadata": {},
   "outputs": [],
   "source": [
    "model_vars = pd.read_csv(f'{PATH_DF_CSV}model_vars.csv',index_col=['CO_PESSOA_FISICA','CO_ENTIDADE'])"
   ]
  },
  {
   "cell_type": "code",
   "execution_count": null,
   "metadata": {
    "code_folding": []
   },
   "outputs": [],
   "source": [
    "escolas = pd.read_csv(f'{CSV_PATH}lclz_df/DADOS_ESCOLAS_PUBLICAS.csv')"
   ]
  },
  {
   "cell_type": "code",
   "execution_count": null,
   "metadata": {},
   "outputs": [],
   "source": [
    "escolas = escolas[escolas.CO_ENTIDADE.isin(model_vars.reset_index().CO_ENTIDADE.unique())]\n",
    "escolas.shape"
   ]
  },
  {
   "cell_type": "code",
   "execution_count": null,
   "metadata": {
    "scrolled": false
   },
   "outputs": [],
   "source": [
    "escolas.PRECISAO.value_counts().plot.bar()"
   ]
  },
  {
   "cell_type": "code",
   "execution_count": null,
   "metadata": {},
   "outputs": [],
   "source": [
    "esc = escolas.loc[escolas.PREC_BOA == 1]['CO_ENTIDADE'].values\n",
    "m = model_vars.reset_index()\n"
   ]
  },
  {
   "cell_type": "code",
   "execution_count": null,
   "metadata": {},
   "outputs": [],
   "source": [
    "m.loc[m.CO_ENTIDADE.isin(esc)].target.value_counts()"
   ]
  },
  {
   "cell_type": "code",
   "execution_count": null,
   "metadata": {},
   "outputs": [],
   "source": [
    "#parece razoavel essa localizacao, iremos utiliza-la"
   ]
  },
  {
   "cell_type": "code",
   "execution_count": null,
   "metadata": {},
   "outputs": [],
   "source": [
    "model_vars = m.loc[m.CO_ENTIDADE.isin(esc)].set_index(['CO_PESSOA_FISICA','CO_ENTIDADE'])"
   ]
  },
  {
   "cell_type": "markdown",
   "metadata": {},
   "source": [
    "### Dados das redondezas da escola"
   ]
  },
  {
   "cell_type": "code",
   "execution_count": null,
   "metadata": {
    "scrolled": false
   },
   "outputs": [],
   "source": [
    "dsc = dados_setor_censitario(f'{CSV_PATH}lclz_df/censo_df/dados/',glob(f'{CSV_PATH}lclz_df/censo_df/*.shp')[0],escolas)"
   ]
  },
  {
   "cell_type": "code",
   "execution_count": null,
   "metadata": {
    "scrolled": true
   },
   "outputs": [],
   "source": [
    "dsc.head(2).T"
   ]
  },
  {
   "cell_type": "code",
   "execution_count": null,
   "metadata": {},
   "outputs": [],
   "source": [
    "dsc.shape"
   ]
  },
  {
   "cell_type": "code",
   "execution_count": null,
   "metadata": {},
   "outputs": [],
   "source": [
    "dsc.set_index(['CO_ENTIDADE','CO_SETOR_CENSITARIO'],inplace=True)\n"
   ]
  },
  {
   "cell_type": "code",
   "execution_count": null,
   "metadata": {
    "scrolled": true
   },
   "outputs": [],
   "source": [
    "for c in dsc.columns:\n",
    "    display(f'{c} - {int(sum(dsc[c].isna())/dsc.shape[0] * 100)}')\n",
    "    dsc[c].hist(bins=50)\n",
    "    plt.show()"
   ]
  },
  {
   "cell_type": "markdown",
   "metadata": {},
   "source": [
    "As variaveis area media domicilio, densidade demografica e sit setor apresentaram baixa variabilidade, portanto serao retiradas do modelo.\n",
    "\n",
    "np.nan representam somente 1% da base, portanto tambem serao retirados."
   ]
  },
  {
   "cell_type": "code",
   "execution_count": null,
   "metadata": {},
   "outputs": [],
   "source": [
    "esc_setores = dsc.copy()"
   ]
  },
  {
   "cell_type": "code",
   "execution_count": null,
   "metadata": {},
   "outputs": [],
   "source": [
    "esc_setores.drop(['area_media_domicilio','densidade_demografica','sit_setor'],axis=1,inplace=True)"
   ]
  },
  {
   "cell_type": "code",
   "execution_count": null,
   "metadata": {},
   "outputs": [],
   "source": [
    "esc_setores.dropna(inplace=True)"
   ]
  },
  {
   "cell_type": "code",
   "execution_count": null,
   "metadata": {},
   "outputs": [],
   "source": [
    "esc_setores.shape"
   ]
  },
  {
   "cell_type": "markdown",
   "metadata": {},
   "source": [
    "### Agregando informacoes dos setores por escola"
   ]
  },
  {
   "cell_type": "code",
   "execution_count": null,
   "metadata": {},
   "outputs": [],
   "source": [
    "esc_setores.reset_index(inplace=True)\n",
    "esc_setores.columns"
   ]
  },
  {
   "cell_type": "code",
   "execution_count": null,
   "metadata": {},
   "outputs": [],
   "source": [
    "e = esc_setores.groupby('CO_ENTIDADE')\n"
   ]
  },
  {
   "cell_type": "code",
   "execution_count": null,
   "metadata": {},
   "outputs": [],
   "source": [
    "qtds = e[['CO_SETOR_CENSITARIO']].nunique()\n",
    "qtds.columns = [f'QTD_{col}' for col in qtds.columns ]\n",
    "somas = e[[col for col in esc_setores.columns if col.startswith('qtd')]].sum()\n",
    "somas.columns = [f'SUM_{col}' for col in somas.columns ]\n",
    "maximos = e[[col for col in esc_setores.columns if col.startswith('qtd')] + ['renda_media_dom','DISTANCIA_SETOR_ENTIDADE']].max()\n",
    "maximos.columns = [f'MAX_{col}' for col in maximos.columns ]\n",
    "minimos = e[[col for col in esc_setores.columns if col.startswith('qtd')] + ['renda_media_dom','DISTANCIA_SETOR_ENTIDADE']].min()\n",
    "minimos.columns = [f'MIN_{col}' for col in minimos.columns ]\n"
   ]
  },
  {
   "cell_type": "code",
   "execution_count": null,
   "metadata": {},
   "outputs": [],
   "source": [
    "md = model_vars.reset_index().merge(qtds,left_on='CO_ENTIDADE',right_index=True)\\\n",
    ".merge(somas,left_on='CO_ENTIDADE',right_index=True)\\\n",
    ".merge(maximos,left_on='CO_ENTIDADE',right_index=True)\\\n",
    ".merge(minimos,left_on='CO_ENTIDADE',right_index=True)"
   ]
  },
  {
   "cell_type": "code",
   "execution_count": null,
   "metadata": {
    "scrolled": false
   },
   "outputs": [],
   "source": [
    "model_vars = md.set_index(['CO_PESSOA_FISICA', 'CO_ENTIDADE'])"
   ]
  },
  {
   "cell_type": "code",
   "execution_count": null,
   "metadata": {
    "scrolled": true
   },
   "outputs": [],
   "source": [
    "[print(col) for col in model_vars.columns];"
   ]
  },
  {
   "cell_type": "code",
   "execution_count": null,
   "metadata": {},
   "outputs": [],
   "source": [
    "display(model_vars.groupby('target')[model_vars.columns[0]].count())\n",
    "display(model_vars.shape)"
   ]
  },
  {
   "cell_type": "code",
   "execution_count": null,
   "metadata": {},
   "outputs": [],
   "source": [
    "model_vars = model_vars[[c for c in model_vars.columns[1:]]]\n",
    "model_vars.head()"
   ]
  },
  {
   "cell_type": "code",
   "execution_count": null,
   "metadata": {},
   "outputs": [],
   "source": [
    "escolas = ajusta_colunas_int_df_inep(pd.read_csv(f'{PATH_DF_CSV}escolas_distritais_15_17_func_df.csv',low_memory=False),vai_printar_cols=False)\n",
    "model_vars = model_vars.merge(escolas.loc[escolas.NU_ANO_CENSO==2015][['NO_ENTIDADE','CO_ENTIDADE']],on='CO_ENTIDADE')\n"
   ]
  },
  {
   "cell_type": "code",
   "execution_count": null,
   "metadata": {},
   "outputs": [],
   "source": [
    "ras = pd.read_csv(f'{CSV_PATH}lclz_df/RA_DF.csv',index_col='cod')\n",
    "model_vars = model_vars.merge(ras,left_on='CO_ORGAO_REGIONAL',right_index=True)\n"
   ]
  },
  {
   "cell_type": "code",
   "execution_count": null,
   "metadata": {},
   "outputs": [],
   "source": [
    "model_vars.to_csv(f'{PATH_DF_CSV}model_vars.csv')"
   ]
  },
  {
   "cell_type": "markdown",
   "metadata": {},
   "source": [
    "Ainda poderiamos acrescentar dados de: \n",
    "- Torre de celular \n",
    "- Minha casa, minha vida\n",
    "- Areas em risco de alagamento\n",
    "- Criminalidade por Regiao Administrativa\n",
    "Mas vamos continuar, caso o modelo nao performe acrescentaremos essas features."
   ]
  },
  {
   "cell_type": "markdown",
   "metadata": {},
   "source": [
    "### <center> Fim da geração de features, início da investigação </center>\n",
    "\n",
    "<img src='https://media.giphy.com/media/3orieUe6ejxSFxYCXe/giphy.gif'/>"
   ]
  },
  {
   "cell_type": "markdown",
   "metadata": {},
   "source": [
    "<table><tr><td><img src='img/cp_icon.png'/></td><td>\n",
    "\n",
    "## Checkpoint</td></tr>\n",
    "\n"
   ]
  },
  {
   "cell_type": "code",
   "execution_count": null,
   "metadata": {},
   "outputs": [],
   "source": [
    "model_vars = pd.read_csv(f'{PATH_DF_CSV}model_vars.csv',low_memory=False)\n",
    "display(model_vars.head())"
   ]
  },
  {
   "cell_type": "markdown",
   "metadata": {},
   "source": [
    "<img src='img/exploracao.gif'/>"
   ]
  },
  {
   "cell_type": "markdown",
   "metadata": {},
   "source": [
    "# Exploração dos dados obtidos"
   ]
  },
  {
   "cell_type": "markdown",
   "metadata": {},
   "source": [
    "### Quais sao as escolas com maior evasao de professores e aonde elas ficam?"
   ]
  },
  {
   "cell_type": "code",
   "execution_count": null,
   "metadata": {},
   "outputs": [],
   "source": [
    "a = model_vars.groupby('CO_ENTIDADE')[['target']].sum()\n",
    "b = model_vars.groupby('CO_ENTIDADE')[['CO_PESSOA_FISICA']].count()\n",
    "c = model_vars[['CO_ENTIDADE','LAT','LONG','dcr','NO_ENTIDADE','CO_ORGAO_REGIONAL']].drop_duplicates()\n",
    "d = a.merge(b,on='CO_ENTIDADE').merge(c,on='CO_ENTIDADE')\n",
    "d['prop_saida'] = d.target/d.CO_PESSOA_FISICA * 100\n",
    "d.sort_values('prop_saida',ascending=False,inplace=True)\n",
    "d.head(10)"
   ]
  },
  {
   "cell_type": "code",
   "execution_count": null,
   "metadata": {},
   "outputs": [],
   "source": [
    "display(d.prop_saida.describe())\n",
    "d.prop_saida.hist();"
   ]
  },
  {
   "cell_type": "markdown",
   "metadata": {},
   "source": [
    "Parece que a partir do percentil 75 a _coisa é feia_ pois mais da metade dos professores saíram. \n",
    "\n",
    "Onde ficam essas escolas?"
   ]
  },
  {
   "cell_type": "code",
   "execution_count": null,
   "metadata": {},
   "outputs": [],
   "source": [
    "display(d.CO_PESSOA_FISICA.describe([.1,.25,.50,.75,.9]));\n",
    "d.CO_PESSOA_FISICA.hist();"
   ]
  },
  {
   "cell_type": "code",
   "execution_count": null,
   "metadata": {},
   "outputs": [],
   "source": [
    "import folium"
   ]
  },
  {
   "cell_type": "code",
   "execution_count": null,
   "metadata": {},
   "outputs": [],
   "source": [
    "lclz_praca_3_poderes = [-15.7994, -47.8613]\n",
    "map = folium.Map(location=lclz_praca_3_poderes, zoom_start=10)\n",
    "locations = d.loc[d.CO_PESSOA_FISICA >= 7][['LAT', 'LONG']].head(20)\n",
    "locationlist = locations.values.tolist()"
   ]
  },
  {
   "cell_type": "code",
   "execution_count": null,
   "metadata": {},
   "outputs": [],
   "source": [
    "display(d.loc[d.CO_PESSOA_FISICA >= 7].head(20))\n",
    "locationlist\n"
   ]
  },
  {
   "cell_type": "markdown",
   "metadata": {},
   "source": [
    "Pesquisei essas localizações no Google Maps e as algumas localizações não foram exatas mas deram uma aproximação aceitável (o pior caso ficou 6 quarteirões de distância)."
   ]
  },
  {
   "cell_type": "code",
   "execution_count": null,
   "metadata": {},
   "outputs": [],
   "source": [
    "for point in range(0, len(locationlist)):\n",
    "    folium.Marker(locationlist[point]).add_to(map)\n",
    "map"
   ]
  },
  {
   "cell_type": "markdown",
   "metadata": {},
   "source": [
    "Pontos de interessantes:\n",
    "- Como explicar as saídas de escolas do Plano Piloto (Brasília)? Seriam elas exceções? \n",
    "\n",
    "Vamos plotar um mapa de calor das 50 piores e ver o que acontece."
   ]
  },
  {
   "cell_type": "code",
   "execution_count": null,
   "metadata": {},
   "outputs": [],
   "source": [
    "#vamos tirar o 100% porque deve ter acontecido alguma coisa com essa escola\n",
    "data = d.loc[(d.CO_PESSOA_FISICA >= 7) & (d.prop_saida < 100)][['LAT', 'LONG', 'prop_saida']].head(50).values.tolist()\n"
   ]
  },
  {
   "cell_type": "code",
   "execution_count": null,
   "metadata": {},
   "outputs": [],
   "source": [
    "from folium.plugins import HeatMap\n",
    "m = folium.Map(lclz_praca_3_poderes)\n",
    "HeatMap(data).add_to(m)\n",
    "m"
   ]
  },
  {
   "cell_type": "markdown",
   "metadata": {},
   "source": [
    "Mais ou menos como esperado:\n",
    "    - algumas áreas populosas e mais afastadas do centro estão bem destacadas.\n",
    "    - Não esperava que o centro de Brasília fosse ter tanto destaque.\n",
    "    \n",
    "Assim temos algumas pistas que renda nas imediações nao tem muito a ver (Plano Pilo e Lago Sul). Vamos comprovar  \n",
    "    "
   ]
  },
  {
   "cell_type": "code",
   "execution_count": null,
   "metadata": {},
   "outputs": [],
   "source": [
    "model_vars.MAX_qtd_dom_renda_max_per_mais_5sm.hist(bins=20)"
   ]
  },
  {
   "cell_type": "code",
   "execution_count": null,
   "metadata": {},
   "outputs": [],
   "source": [
    "model_vars.loc[model_vars.target == 0].MAX_qtd_dom_renda_max_per_mais_5sm.hist(bins=20);"
   ]
  },
  {
   "cell_type": "code",
   "execution_count": null,
   "metadata": {},
   "outputs": [],
   "source": [
    "model_vars.loc[model_vars.target == 1].MAX_qtd_dom_renda_max_per_mais_5sm.hist(bins=20);"
   ]
  },
  {
   "cell_type": "code",
   "execution_count": null,
   "metadata": {},
   "outputs": [],
   "source": [
    "model_vars[['MAX_qtd_dom_renda_max_per_mais_5sm','target']].corr()"
   ]
  },
  {
   "cell_type": "markdown",
   "metadata": {},
   "source": [
    "A correlação diz aquilo que pode-se ver nos gráficos: a renda menor influencia muito pouco na mudança de escola."
   ]
  },
  {
   "cell_type": "markdown",
   "metadata": {},
   "source": [
    "#### Vamos ver todas as correlações com a target"
   ]
  },
  {
   "cell_type": "code",
   "execution_count": null,
   "metadata": {
    "scrolled": true
   },
   "outputs": [],
   "source": [
    "cols_alta_correlacao =[]\n",
    "for l in model_vars.drop('PROF_CO_PESSOA_FISICA',axis=1).set_index(['CO_PESSOA_FISICA','CO_ENTIDADE']).corr()[['target']].sort_values('target',ascending=False).reset_index().itertuples():\n",
    "    display(str(l[1]) + ' ' + str(l[2]))\n",
    "    if l[2] < -0.02 or l[2] > 0.02:\n",
    "        cols_alta_correlacao.append(l[1])"
   ]
  },
  {
   "cell_type": "markdown",
   "metadata": {},
   "source": [
    "### Uma modelagem com Random Forest para verificar as features mais importantes."
   ]
  },
  {
   "cell_type": "code",
   "execution_count": null,
   "metadata": {
    "scrolled": true
   },
   "outputs": [],
   "source": [
    "a = processa_tudo(model_vars[cols_alta_correlacao])"
   ]
  },
  {
   "cell_type": "code",
   "execution_count": null,
   "metadata": {
    "scrolled": true
   },
   "outputs": [],
   "source": [
    "b = processa_tudo(model_vars[a[0][:10]+ ['target']])"
   ]
  },
  {
   "cell_type": "code",
   "execution_count": null,
   "metadata": {},
   "outputs": [],
   "source": [
    "b = processa_tudo(model_vars[b[0][:3]+ ['target']])"
   ]
  },
  {
   "cell_type": "markdown",
   "metadata": {},
   "source": [
    "<img src='https://media.giphy.com/media/3o6Mb2JwJPVu7VMDSw/giphy.gif'/>\n",
    "\n",
    "#### Esse resultado está muito ruim (claramente com _overfitting_), vamos fazer uns ajustes com cross validation e grid search."
   ]
  },
  {
   "cell_type": "code",
   "execution_count": null,
   "metadata": {
    "scrolled": false
   },
   "outputs": [],
   "source": [
    "cols_drop = ['PROF_CO_PESSOA_FISICA','NO_ENTIDADE','dcr','LAT','LONG']\n",
    "a = processa_tudo(model_vars.drop(cols_drop,axis=1).set_index(['CO_PESSOA_FISICA','CO_ENTIDADE']),True),"
   ]
  },
  {
   "cell_type": "code",
   "execution_count": null,
   "metadata": {},
   "outputs": [],
   "source": [
    "fi = a[0][0]\n",
    "clf = a[0][1]"
   ]
  },
  {
   "cell_type": "code",
   "execution_count": null,
   "metadata": {
    "scrolled": false
   },
   "outputs": [],
   "source": [
    "md_b = model_vars.set_index(['CO_PESSOA_FISICA','CO_ENTIDADE'])[fi[:50] + ['target']]\n",
    "b = processa_tudo(md_b,True),"
   ]
  },
  {
   "cell_type": "code",
   "execution_count": null,
   "metadata": {},
   "outputs": [],
   "source": [
    "clf = b[0][1]"
   ]
  },
  {
   "cell_type": "markdown",
   "metadata": {},
   "source": [
    "### Consideracoes:\n",
    "01. Com Grid Search a performance melhora consideravelmente.\n",
    "\n",
    "02. O resultado retirando uma amostra da base para balancear (com o ```sample``` do pandas ) ficou estranho, resultado muito bom no teste e ruim no treino e quando aplica-se a todo o dataset."
   ]
  },
  {
   "cell_type": "code",
   "execution_count": null,
   "metadata": {},
   "outputs": [],
   "source": []
  },
  {
   "cell_type": "markdown",
   "metadata": {},
   "source": [
    "### Com esse resultado estamos assim:\n",
    "<!--\n",
    "<img src='img/homer-simpson-woohoo-gif-6.gif'/>\n",
    "-->"
   ]
  },
  {
   "cell_type": "markdown",
   "metadata": {},
   "source": [
    "## Primeiro, vamos analisar quando o classificador erra."
   ]
  },
  {
   "cell_type": "code",
   "execution_count": null,
   "metadata": {},
   "outputs": [],
   "source": [
    "y_true = md_b.target\n",
    "X = md_b.drop('target',axis=1).values\n",
    "y_pred = clf.predict(X)\n",
    "lc = [c for y1,y2,c in zip(y_true,y_pred,md_b.index) if y1 != y2]"
   ]
  },
  {
   "cell_type": "code",
   "execution_count": null,
   "metadata": {},
   "outputs": [],
   "source": [
    "1 - len(lc)/len(md_b.index)"
   ]
  },
  {
   "cell_type": "code",
   "execution_count": null,
   "metadata": {},
   "outputs": [],
   "source": []
  }
 ],
 "metadata": {
  "kernelspec": {
   "display_name": "Python 3",
   "language": "python",
   "name": "python3"
  },
  "language_info": {
   "codemirror_mode": {
    "name": "ipython",
    "version": 3
   },
   "file_extension": ".py",
   "mimetype": "text/x-python",
   "name": "python",
   "nbconvert_exporter": "python",
   "pygments_lexer": "ipython3",
   "version": "3.6.4"
  },
  "latex_envs": {
   "LaTeX_envs_menu_present": true,
   "autoclose": false,
   "autocomplete": true,
   "bibliofile": "biblio.bib",
   "cite_by": "apalike",
   "current_citInitial": 1,
   "eqLabelWithNumbers": true,
   "eqNumInitial": 1,
   "hotkeys": {
    "equation": "Ctrl-E",
    "itemize": "Ctrl-I"
   },
   "labels_anchors": false,
   "latex_user_defs": false,
   "report_style_numbering": false,
   "user_envs_cfg": false
  }
 },
 "nbformat": 4,
 "nbformat_minor": 2
}
